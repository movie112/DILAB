{
  "nbformat": 4,
  "nbformat_minor": 0,
  "metadata": {
    "colab": {
      "name": "disaster_kaggle.ipynb",
      "provenance": [],
      "mount_file_id": "17xUrAzhXYydVIuanE81mY3pZ34A6xYO9",
      "authorship_tag": "ABX9TyN7paHuiz3N991jAnkybBmo",
      "include_colab_link": true
    },
    "kernelspec": {
      "name": "python3",
      "display_name": "Python 3"
    },
    "language_info": {
      "name": "python"
    }
  },
  "cells": [
    {
      "cell_type": "markdown",
      "metadata": {
        "id": "view-in-github",
        "colab_type": "text"
      },
      "source": [
        "<a href=\"https://colab.research.google.com/github/movie112/INU-DILAB/blob/main/210728_210810/disaster_kaggle.ipynb\" target=\"_parent\"><img src=\"https://colab.research.google.com/assets/colab-badge.svg\" alt=\"Open In Colab\"/></a>"
      ]
    },
    {
      "cell_type": "markdown",
      "metadata": {
        "id": "TQx1a9S3xpyM"
      },
      "source": [
        "# Natural Language Processing with Disaster Tweets\n",
        "### Predict which Tweets are about real disasters and which ones are not\n",
        "<https://www.kaggle.com/c/nlp-getting-started/overview>\n",
        "---\n",
        "단어들을 벡터화 시키는 방법\n",
        "1. CountVectorizer : 빈도수를 기반으로 vocabulary를 만들고 그 vocabulary를 기준으로 vector를 만들어준다. *모든 단어가 vocabulary에 있는 것이 아니라, 문장 간 2개이상(?)에 쓰인 단어만 포함됨, 텍스트 데이터에서 횟수(선택)를 기준으로 특징 추출\n",
        "2. Tokenizer: 빈도수를 상관하지 않고 모든 단어에 대해 vector를 만들어준다. one-hot encoding, 근데 마지막으로 어차피 one-hot encoding 한거를 합쳐서 문장벡터를 만들거기 때문에 결과적으로는 Countvectorizer와 같은 결과.\n",
        "\n",
        "- fit: parameter로 받은 대용량의 말뭉치로 vocabulary를 만들어주는 과정\n",
        "- transform: CountVectorizer.transform(test_X)에서 countvectorizer의 vocabulary를 기준으로 입력받은 test_X를  vector로 표현해라\n",
        "- fit_transform(train_X): 입력받은 train_X라는 데이터를 기반으로 vocabulary를 만들고 그 vocabulary를 기반으로 vector로 표현,  fit과 transform을 합친 건데, fit은 일단 각 속성(feature)마다 컬럼을 만드는 작업이라고 생각하면 된다. 이후 transform을 통해 데이터를 변형\n",
        "- axis: <http://taewan.kim/post/numpy_sum_axis/>\n"
      ]
    },
    {
      "cell_type": "code",
      "metadata": {
        "id": "DBvxPfYKreD5"
      },
      "source": [
        "import os\n",
        "os.environ['KAGGLE_USERNAME'] = 'movie112'\n",
        "os.environ['KAGGLE_KEY'] = 'cb167401c51e94441b14897792b7c9d8'"
      ],
      "execution_count": 18,
      "outputs": []
    },
    {
      "cell_type": "code",
      "metadata": {
        "colab": {
          "base_uri": "https://localhost:8080/"
        },
        "id": "nWTJpA07uCT6",
        "outputId": "0e4440de-3ec0-44fe-a972-de98a988300a"
      },
      "source": [
        "!kaggle competitions download -c nlp-getting-started"
      ],
      "execution_count": 19,
      "outputs": [
        {
          "output_type": "stream",
          "text": [
            "Warning: Looks like you're using an outdated API Version, please consider updating (server 1.5.12 / client 1.5.4)\n",
            "sample_submission.csv: Skipping, found more recently modified local copy (use --force to force download)\n",
            "train.csv: Skipping, found more recently modified local copy (use --force to force download)\n",
            "test.csv: Skipping, found more recently modified local copy (use --force to force download)\n"
          ],
          "name": "stdout"
        }
      ]
    },
    {
      "cell_type": "markdown",
      "metadata": {
        "id": "4LFDtr4nu9Ex"
      },
      "source": [
        "## 라이브러리"
      ]
    },
    {
      "cell_type": "code",
      "metadata": {
        "colab": {
          "base_uri": "https://localhost:8080/"
        },
        "id": "2T-dv7U-zd9N",
        "outputId": "36ce7e5f-17df-42aa-9304-ceb5f797b600"
      },
      "source": [
        "import pandas as pd\n",
        "import seaborn as sns\n",
        "import numpy as np\n",
        "\n",
        "import matplotlib.pyplot as plt\n",
        "plt.style.use('ggplot')\n",
        "\n",
        "import nltk\n",
        "from nltk.corpus import stopwords\n",
        "from nltk.util import ngrams\n",
        "from nltk.tokenize import word_tokenize # 단어 토큰화\n",
        "nltk.download(\"stopwords\")\n",
        "nltk.download('punkt')\n",
        "stop=set(stopwords.words('english'))\n",
        "\n",
        "from sklearn.feature_extraction.text import CountVectorizer # 각 문서에서 해당 단어가 나타나는 횟수를 Count하여 feature로 사용\n",
        "from sklearn.model_selection import train_test_split\n",
        "\n",
        "from collections import defaultdict # dictionary 생성\n",
        "from collections import Counter\n",
        "\n",
        "import re   # 정규식\n",
        "import gensim\n",
        "import string\n",
        "from tqdm import tqdm   # 진행 상황\n",
        "\n",
        "from keras.preprocessing.text import Tokenizer\n",
        "from keras.preprocessing.sequence import pad_sequences\n",
        "from keras.models import Sequential\n",
        "from keras.layers import Embedding,LSTM,Dense,SpatialDropout1D\n",
        "from keras.initializers import Constant\n",
        "from keras.optimizers import Adam"
      ],
      "execution_count": 20,
      "outputs": [
        {
          "output_type": "stream",
          "text": [
            "[nltk_data] Downloading package stopwords to /root/nltk_data...\n",
            "[nltk_data]   Package stopwords is already up-to-date!\n",
            "[nltk_data] Downloading package punkt to /root/nltk_data...\n",
            "[nltk_data]   Package punkt is already up-to-date!\n"
          ],
          "name": "stdout"
        }
      ]
    },
    {
      "cell_type": "markdown",
      "metadata": {
        "id": "ZNIgRaglD7kD"
      },
      "source": [
        "## 함수"
      ]
    },
    {
      "cell_type": "markdown",
      "metadata": {
        "id": "fv1DRvzLwHPi"
      },
      "source": [
        "## 데이터"
      ]
    },
    {
      "cell_type": "code",
      "metadata": {
        "colab": {
          "base_uri": "https://localhost:8080/",
          "height": 222
        },
        "id": "hTW0pdvQvF3S",
        "outputId": "684660c8-35ef-4245-b1e4-f8f67e847bfc"
      },
      "source": [
        "tweet = pd.read_csv('train.csv')\n",
        "print(tweet.shape)\n",
        "tweet.head()"
      ],
      "execution_count": 21,
      "outputs": [
        {
          "output_type": "stream",
          "text": [
            "(7613, 5)\n"
          ],
          "name": "stdout"
        },
        {
          "output_type": "execute_result",
          "data": {
            "text/html": [
              "<div>\n",
              "<style scoped>\n",
              "    .dataframe tbody tr th:only-of-type {\n",
              "        vertical-align: middle;\n",
              "    }\n",
              "\n",
              "    .dataframe tbody tr th {\n",
              "        vertical-align: top;\n",
              "    }\n",
              "\n",
              "    .dataframe thead th {\n",
              "        text-align: right;\n",
              "    }\n",
              "</style>\n",
              "<table border=\"1\" class=\"dataframe\">\n",
              "  <thead>\n",
              "    <tr style=\"text-align: right;\">\n",
              "      <th></th>\n",
              "      <th>id</th>\n",
              "      <th>keyword</th>\n",
              "      <th>location</th>\n",
              "      <th>text</th>\n",
              "      <th>target</th>\n",
              "    </tr>\n",
              "  </thead>\n",
              "  <tbody>\n",
              "    <tr>\n",
              "      <th>0</th>\n",
              "      <td>1</td>\n",
              "      <td>NaN</td>\n",
              "      <td>NaN</td>\n",
              "      <td>Our Deeds are the Reason of this #earthquake M...</td>\n",
              "      <td>1</td>\n",
              "    </tr>\n",
              "    <tr>\n",
              "      <th>1</th>\n",
              "      <td>4</td>\n",
              "      <td>NaN</td>\n",
              "      <td>NaN</td>\n",
              "      <td>Forest fire near La Ronge Sask. Canada</td>\n",
              "      <td>1</td>\n",
              "    </tr>\n",
              "    <tr>\n",
              "      <th>2</th>\n",
              "      <td>5</td>\n",
              "      <td>NaN</td>\n",
              "      <td>NaN</td>\n",
              "      <td>All residents asked to 'shelter in place' are ...</td>\n",
              "      <td>1</td>\n",
              "    </tr>\n",
              "    <tr>\n",
              "      <th>3</th>\n",
              "      <td>6</td>\n",
              "      <td>NaN</td>\n",
              "      <td>NaN</td>\n",
              "      <td>13,000 people receive #wildfires evacuation or...</td>\n",
              "      <td>1</td>\n",
              "    </tr>\n",
              "    <tr>\n",
              "      <th>4</th>\n",
              "      <td>7</td>\n",
              "      <td>NaN</td>\n",
              "      <td>NaN</td>\n",
              "      <td>Just got sent this photo from Ruby #Alaska as ...</td>\n",
              "      <td>1</td>\n",
              "    </tr>\n",
              "  </tbody>\n",
              "</table>\n",
              "</div>"
            ],
            "text/plain": [
              "   id keyword  ...                                               text target\n",
              "0   1     NaN  ...  Our Deeds are the Reason of this #earthquake M...      1\n",
              "1   4     NaN  ...             Forest fire near La Ronge Sask. Canada      1\n",
              "2   5     NaN  ...  All residents asked to 'shelter in place' are ...      1\n",
              "3   6     NaN  ...  13,000 people receive #wildfires evacuation or...      1\n",
              "4   7     NaN  ...  Just got sent this photo from Ruby #Alaska as ...      1\n",
              "\n",
              "[5 rows x 5 columns]"
            ]
          },
          "metadata": {
            "tags": []
          },
          "execution_count": 21
        }
      ]
    },
    {
      "cell_type": "code",
      "metadata": {
        "colab": {
          "base_uri": "https://localhost:8080/",
          "height": 222
        },
        "id": "BtM1vogtvsHS",
        "outputId": "221e0227-aecb-4c42-8fca-81a1a51ab91d"
      },
      "source": [
        "test = pd.read_csv('test.csv')\n",
        "print(test.shape)\n",
        "test.head()"
      ],
      "execution_count": 22,
      "outputs": [
        {
          "output_type": "stream",
          "text": [
            "(3263, 4)\n"
          ],
          "name": "stdout"
        },
        {
          "output_type": "execute_result",
          "data": {
            "text/html": [
              "<div>\n",
              "<style scoped>\n",
              "    .dataframe tbody tr th:only-of-type {\n",
              "        vertical-align: middle;\n",
              "    }\n",
              "\n",
              "    .dataframe tbody tr th {\n",
              "        vertical-align: top;\n",
              "    }\n",
              "\n",
              "    .dataframe thead th {\n",
              "        text-align: right;\n",
              "    }\n",
              "</style>\n",
              "<table border=\"1\" class=\"dataframe\">\n",
              "  <thead>\n",
              "    <tr style=\"text-align: right;\">\n",
              "      <th></th>\n",
              "      <th>id</th>\n",
              "      <th>keyword</th>\n",
              "      <th>location</th>\n",
              "      <th>text</th>\n",
              "    </tr>\n",
              "  </thead>\n",
              "  <tbody>\n",
              "    <tr>\n",
              "      <th>0</th>\n",
              "      <td>0</td>\n",
              "      <td>NaN</td>\n",
              "      <td>NaN</td>\n",
              "      <td>Just happened a terrible car crash</td>\n",
              "    </tr>\n",
              "    <tr>\n",
              "      <th>1</th>\n",
              "      <td>2</td>\n",
              "      <td>NaN</td>\n",
              "      <td>NaN</td>\n",
              "      <td>Heard about #earthquake is different cities, s...</td>\n",
              "    </tr>\n",
              "    <tr>\n",
              "      <th>2</th>\n",
              "      <td>3</td>\n",
              "      <td>NaN</td>\n",
              "      <td>NaN</td>\n",
              "      <td>there is a forest fire at spot pond, geese are...</td>\n",
              "    </tr>\n",
              "    <tr>\n",
              "      <th>3</th>\n",
              "      <td>9</td>\n",
              "      <td>NaN</td>\n",
              "      <td>NaN</td>\n",
              "      <td>Apocalypse lighting. #Spokane #wildfires</td>\n",
              "    </tr>\n",
              "    <tr>\n",
              "      <th>4</th>\n",
              "      <td>11</td>\n",
              "      <td>NaN</td>\n",
              "      <td>NaN</td>\n",
              "      <td>Typhoon Soudelor kills 28 in China and Taiwan</td>\n",
              "    </tr>\n",
              "  </tbody>\n",
              "</table>\n",
              "</div>"
            ],
            "text/plain": [
              "   id keyword location                                               text\n",
              "0   0     NaN      NaN                 Just happened a terrible car crash\n",
              "1   2     NaN      NaN  Heard about #earthquake is different cities, s...\n",
              "2   3     NaN      NaN  there is a forest fire at spot pond, geese are...\n",
              "3   9     NaN      NaN           Apocalypse lighting. #Spokane #wildfires\n",
              "4  11     NaN      NaN      Typhoon Soudelor kills 28 in China and Taiwan"
            ]
          },
          "metadata": {
            "tags": []
          },
          "execution_count": 22
        }
      ]
    },
    {
      "cell_type": "code",
      "metadata": {
        "colab": {
          "base_uri": "https://localhost:8080/"
        },
        "id": "RPgD0S-4v4wi",
        "outputId": "4dbcef81-edce-4eb9-c78b-7f9e8e4793dc"
      },
      "source": [
        "tweet.dtypes"
      ],
      "execution_count": 23,
      "outputs": [
        {
          "output_type": "execute_result",
          "data": {
            "text/plain": [
              "id           int64\n",
              "keyword     object\n",
              "location    object\n",
              "text        object\n",
              "target       int64\n",
              "dtype: object"
            ]
          },
          "metadata": {
            "tags": []
          },
          "execution_count": 23
        }
      ]
    },
    {
      "cell_type": "code",
      "metadata": {
        "colab": {
          "base_uri": "https://localhost:8080/"
        },
        "id": "4nHwtC4Uv6tO",
        "outputId": "8be9561c-f39b-4a5c-de70-626c53837eed"
      },
      "source": [
        "test.dtypes"
      ],
      "execution_count": 24,
      "outputs": [
        {
          "output_type": "execute_result",
          "data": {
            "text/plain": [
              "id           int64\n",
              "keyword     object\n",
              "location    object\n",
              "text        object\n",
              "dtype: object"
            ]
          },
          "metadata": {
            "tags": []
          },
          "execution_count": 24
        }
      ]
    },
    {
      "cell_type": "markdown",
      "metadata": {
        "id": "UMtQqeIu0jUV"
      },
      "source": [
        "## 시각화\n",
        "#### Class distribution; tweets의 target 비율"
      ]
    },
    {
      "cell_type": "code",
      "metadata": {
        "colab": {
          "base_uri": "https://localhost:8080/"
        },
        "id": "yXdu39jr-p1t",
        "outputId": "af18c5e5-2db5-4f25-858f-1ed3eda0606d"
      },
      "source": [
        "target_cnt =tweet.target.value_counts()\n",
        "print(target_cnt)"
      ],
      "execution_count": 25,
      "outputs": [
        {
          "output_type": "stream",
          "text": [
            "0    4342\n",
            "1    3271\n",
            "Name: target, dtype: int64\n"
          ],
          "name": "stdout"
        }
      ]
    },
    {
      "cell_type": "code",
      "metadata": {
        "colab": {
          "base_uri": "https://localhost:8080/",
          "height": 300
        },
        "id": "u2JmlgFM1A5l",
        "outputId": "94ce24e2-d359-42a7-a58e-20775343a902"
      },
      "source": [
        "sns.countplot(data=tweet, x='target')\n",
        "plt.gca().set_ylabel('samples')"
      ],
      "execution_count": 26,
      "outputs": [
        {
          "output_type": "execute_result",
          "data": {
            "text/plain": [
              "Text(0, 0.5, 'samples')"
            ]
          },
          "metadata": {
            "tags": []
          },
          "execution_count": 26
        },
        {
          "output_type": "display_data",
          "data": {
            "image/png": "[encoded data removed]",
            "text/plain": [
              "<Figure size 432x288 with 1 Axes>"
            ]
          },
          "metadata": {
            "tags": []
          }
        }
      ]
    },
    {
      "cell_type": "markdown",
      "metadata": {
        "id": "w7xX91mHzCZL"
      },
      "source": [
        "- 0(재난 아님)이 1(실제 재난)보다 많다.\n",
        "- 실제에서도 0이 1보다 많을 것 예상"
      ]
    },
    {
      "cell_type": "markdown",
      "metadata": {
        "id": "b0HvdzqezVJK"
      },
      "source": [
        "#### tweets의 문자 수"
      ]
    },
    {
      "cell_type": "code",
      "metadata": {
        "colab": {
          "base_uri": "https://localhost:8080/",
          "height": 337
        },
        "id": "MI8G52nVzhmi",
        "outputId": "14ed1dd3-bb4a-409b-a7d2-0b5f0f572057"
      },
      "source": [
        "fig, (ax1, ax2) = plt.subplots(1, 2, figsize=(10,5))\n",
        "# disaster tweets graph\n",
        "tweet_len=tweet[tweet['target']==1]['text'].str.len()\n",
        "ax1.hist(tweet_len)\n",
        "ax1.set_title('disaster tweets')\n",
        "# not disaster tweets graph\n",
        "tweet_len=tweet[tweet['target']==0]['text'].str.len()\n",
        "ax2.hist(tweet_len, color=\"skyblue\")\n",
        "ax2.set_title('not disaster tweets')\n",
        "\n",
        "plt.show()"
      ],
      "execution_count": 27,
      "outputs": [
        {
          "output_type": "display_data",
          "data": {
            "image/png": "[encoded data removed]",
            "text/plain": [
              "<Figure size 720x360 with 2 Axes>"
            ]
          },
          "metadata": {
            "tags": []
          }
        }
      ]
    },
    {
      "cell_type": "markdown",
      "metadata": {
        "id": "AeJ9nNTi5Cpq"
      },
      "source": [
        "- 글자 수가 120-140 사이가 많다.\n",
        "- 글자 수에서 두 그룹이 큰 차이는 없다. "
      ]
    },
    {
      "cell_type": "markdown",
      "metadata": {
        "id": "C7CW9bJq8AZu"
      },
      "source": [
        "#### tweet의 단어 수\n",
        "- map(함수, 리스트)\n",
        "  - 리스트에 함수 적용해서 반환\n",
        "- lambda 인자 : 연산\n",
        "  - 인자에 연산해서 반환"
      ]
    },
    {
      "cell_type": "code",
      "metadata": {
        "colab": {
          "base_uri": "https://localhost:8080/"
        },
        "id": "-3FUhe2WBAOU",
        "outputId": "82b29a8d-7d43-448e-bc86-9dece8aaff13"
      },
      "source": [
        "print(tweet[tweet['target']==1]['text'].str.split()[:3])"
      ],
      "execution_count": 28,
      "outputs": [
        {
          "output_type": "stream",
          "text": [
            "0    [Our, Deeds, are, the, Reason, of, this, #eart...\n",
            "1       [Forest, fire, near, La, Ronge, Sask., Canada]\n",
            "2    [All, residents, asked, to, 'shelter, in, plac...\n",
            "Name: text, dtype: object\n"
          ],
          "name": "stdout"
        }
      ]
    },
    {
      "cell_type": "code",
      "metadata": {
        "colab": {
          "base_uri": "https://localhost:8080/"
        },
        "id": "vdHP0DmfBUDk",
        "outputId": "570d74d0-f75d-4c75-baef-b75bc565edc0"
      },
      "source": [
        "print(tweet[tweet['target']==1]['text'].str.split().map(lambda x: len(x))[:3])"
      ],
      "execution_count": 29,
      "outputs": [
        {
          "output_type": "stream",
          "text": [
            "0    13\n",
            "1     7\n",
            "2    22\n",
            "Name: text, dtype: int64\n"
          ],
          "name": "stdout"
        }
      ]
    },
    {
      "cell_type": "code",
      "metadata": {
        "colab": {
          "base_uri": "https://localhost:8080/",
          "height": 356
        },
        "id": "syzCjCKy8IH0",
        "outputId": "f1f2e681-852f-497d-c6bb-eccceed24c28"
      },
      "source": [
        "fig, (ax1, ax2) = plt.subplots(1, 2, figsize=(10,5))\n",
        "tweet_len = tweet[tweet['target']==1]['text'].str.split().map(lambda x: len(x))\n",
        "ax1.hist(tweet_len)\n",
        "ax1.set_title('disaster tweets')\n",
        "tweet_len = tweet[tweet['target']==0]['text'].str.split().map(lambda x: len(x))\n",
        "ax2.hist(tweet_len,color='skyblue')\n",
        "ax2.set_title('not disaster tweets')\n",
        "fig.suptitle('Number of words')\n",
        "\n",
        "plt.show()"
      ],
      "execution_count": 30,
      "outputs": [
        {
          "output_type": "display_data",
          "data": {
            "image/png": "[encoded data removed]",
            "text/plain": [
              "<Figure size 720x360 with 2 Axes>"
            ]
          },
          "metadata": {
            "tags": []
          }
        }
      ]
    },
    {
      "cell_type": "markdown",
      "metadata": {
        "id": "jbcRQufcEnfL"
      },
      "source": [
        "#### 단어 길이의 평균\n",
        "- apply(): 특정 함수를 데이터 프레임에 적용하는 함수"
      ]
    },
    {
      "cell_type": "code",
      "metadata": {
        "colab": {
          "base_uri": "https://localhost:8080/"
        },
        "id": "24Pj4x1FEzVD",
        "outputId": "1c17759d-4c57-4708-a50c-36651fa6ba2f"
      },
      "source": [
        "word=tweet['text'].str.split().apply(lambda x : [len(i) for i in x])\n",
        "print(word)"
      ],
      "execution_count": 31,
      "outputs": [
        {
          "output_type": "stream",
          "text": [
            "0                [3, 5, 3, 3, 6, 2, 4, 11, 3, 5, 7, 2, 3]\n",
            "1                                   [6, 4, 4, 2, 5, 5, 6]\n",
            "2       [3, 9, 5, 2, 8, 2, 6, 3, 5, 8, 2, 9, 2, 5, 10,...\n",
            "3                             [6, 6, 7, 10, 10, 6, 2, 10]\n",
            "4       [4, 3, 4, 4, 5, 4, 4, 7, 2, 5, 4, 10, 5, 4, 1, 6]\n",
            "                              ...                        \n",
            "7608                   [3, 5, 6, 7, 1, 6, 8, 4, 6, 5, 22]\n",
            "7609    [12, 12, 3, 3, 2, 7, 4, 5, 2, 10, 4, 2, 3, 8, ...\n",
            "7610                            [5, 6, 8, 1, 2, 7, 7, 22]\n",
            "7611    [6, 13, 5, 2, 6, 8, 4, 1, 3, 2, 6, 9, 6, 5, 8,...\n",
            "7612            [3, 7, 4, 5, 5, 2, 8, 10, 8, 1, 3, 4, 22]\n",
            "Name: text, Length: 7613, dtype: object\n"
          ],
          "name": "stdout"
        }
      ]
    },
    {
      "cell_type": "code",
      "metadata": {
        "colab": {
          "base_uri": "https://localhost:8080/",
          "height": 0
        },
        "id": "Rnmd-Dr_Er_o",
        "outputId": "6524e6f8-c5d3-400e-9b37-252044959e6a"
      },
      "source": [
        "fig,(ax1,ax2)=plt.subplots(1,2,figsize=(10,5))\n",
        "sns.distplot(word.map(lambda x: np.mean(x)),ax=ax1)\n",
        "ax1.set_title('disaster')\n",
        "word=tweet[tweet['target']==0]['text'].str.split().apply(lambda x : [len(i) for i in x])\n",
        "sns.distplot(word.map(lambda x: np.mean(x)),ax=ax2,color='skyblue')\n",
        "ax2.set_title('Not disaster')\n",
        "fig.suptitle('Average word length in each tweet')"
      ],
      "execution_count": 32,
      "outputs": [
        {
          "output_type": "stream",
          "text": [
            "/usr/local/lib/python3.7/dist-packages/seaborn/distributions.py:2557: FutureWarning: `distplot` is a deprecated function and will be removed in a future version. Please adapt your code to use either `displot` (a figure-level function with similar flexibility) or `histplot` (an axes-level function for histograms).\n",
            "  warnings.warn(msg, FutureWarning)\n",
            "/usr/local/lib/python3.7/dist-packages/seaborn/distributions.py:2557: FutureWarning: `distplot` is a deprecated function and will be removed in a future version. Please adapt your code to use either `displot` (a figure-level function with similar flexibility) or `histplot` (an axes-level function for histograms).\n",
            "  warnings.warn(msg, FutureWarning)\n"
          ],
          "name": "stderr"
        },
        {
          "output_type": "execute_result",
          "data": {
            "text/plain": [
              "Text(0.5, 0.98, 'Average word length in each tweet')"
            ]
          },
          "metadata": {
            "tags": []
          },
          "execution_count": 32
        },
        {
          "output_type": "display_data",
          "data": {
            "image/png": "[encoded data removed]",
            "text/plain": [
              "<Figure size 720x360 with 2 Axes>"
            ]
          },
          "metadata": {
            "tags": []
          }
        }
      ]
    },
    {
      "cell_type": "markdown",
      "metadata": {
        "id": "U-6Qgh5QDnH8"
      },
      "source": [
        "#### 흔히 쓰이는 stopwords(불용어)\n",
        "- class 0 부터 보겠다."
      ]
    },
    {
      "cell_type": "markdown",
      "metadata": {
        "id": "sVaA0Nc4JVSy"
      },
      "source": [
        "#### create_corpus(target)"
      ]
    },
    {
      "cell_type": "code",
      "metadata": {
        "id": "F0sBsepkJUjb"
      },
      "source": [
        "def create_corpus(target):\n",
        "    corpus=[]\n",
        "    \n",
        "    for x in tweet[tweet['target']==target]['text'].str.split():\n",
        "        for i in x:\n",
        "            corpus.append(i)\n",
        "    return corpus"
      ],
      "execution_count": 33,
      "outputs": []
    },
    {
      "cell_type": "code",
      "metadata": {
        "colab": {
          "base_uri": "https://localhost:8080/",
          "height": 0
        },
        "id": "W1DTegb2Dmmb",
        "outputId": "623aa3e5-9b6e-49f5-de88-41f7b0e611e9"
      },
      "source": [
        "corpus=create_corpus(0)\n",
        "\n",
        "dic = defaultdict(int)\n",
        "for word in corpus:\n",
        "  if word in stop:\n",
        "    dic[word] += 1\n",
        "\n",
        "top = sorted(dic.items(), key=lambda x:x[1], reverse = True)[:10]    # count 많은 순대로 정렬\n",
        "x, y = zip(*top)\n",
        "plt.bar(x, y)"
      ],
      "execution_count": 34,
      "outputs": [
        {
          "output_type": "execute_result",
          "data": {
            "text/plain": [
              "<BarContainer object of 10 artists>"
            ]
          },
          "metadata": {
            "tags": []
          },
          "execution_count": 34
        },
        {
          "output_type": "display_data",
          "data": {
            "image/png": "[encoded data removed]",
            "text/plain": [
              "<Figure size 432x288 with 1 Axes>"
            ]
          },
          "metadata": {
            "tags": []
          }
        }
      ]
    },
    {
      "cell_type": "markdown",
      "metadata": {
        "id": "2dcDIUKfLjX8"
      },
      "source": [
        "- class 1"
      ]
    },
    {
      "cell_type": "code",
      "metadata": {
        "colab": {
          "base_uri": "https://localhost:8080/",
          "height": 0
        },
        "id": "ci-mVhwPLmyi",
        "outputId": "61068a7f-ce7d-41f9-c839-7ae925327227"
      },
      "source": [
        "corpus=create_corpus(1)\n",
        "\n",
        "dic = defaultdict(int)\n",
        "for word in corpus:\n",
        "  if word in stop:\n",
        "    dic[word] += 1\n",
        "\n",
        "top = sorted(dic.items(), key=lambda x:x[1], reverse = True)[:10]    # count 많은 순대로 정렬\n",
        "x, y = zip(*top)\n",
        "plt.bar(x, y, color='skyblue')"
      ],
      "execution_count": 35,
      "outputs": [
        {
          "output_type": "execute_result",
          "data": {
            "text/plain": [
              "<BarContainer object of 10 artists>"
            ]
          },
          "metadata": {
            "tags": []
          },
          "execution_count": 35
        },
        {
          "output_type": "display_data",
          "data": {
            "image/png": "[encoded data removed]",
            "text/plain": [
              "<Figure size 432x288 with 1 Axes>"
            ]
          },
          "metadata": {
            "tags": []
          }
        }
      ]
    },
    {
      "cell_type": "markdown",
      "metadata": {
        "id": "TNYDdEHcME9o"
      },
      "source": [
        "- the, in, of, a 가 많이 있다."
      ]
    },
    {
      "cell_type": "markdown",
      "metadata": {
        "id": "RnQfAUP-Mv26"
      },
      "source": [
        "#### 구두점(punctuations)\n",
        "- class 0"
      ]
    },
    {
      "cell_type": "code",
      "metadata": {
        "colab": {
          "base_uri": "https://localhost:8080/",
          "height": 0
        },
        "id": "mul8od37M2OX",
        "outputId": "b746d849-ff87-45de-a9dd-02656471bf45"
      },
      "source": [
        "plt.figure(figsize=(10,5))\n",
        "corpus = create_corpus(0)\n",
        "\n",
        "dic = defaultdict(int)\n",
        "special = string.punctuation\n",
        "for i in corpus:\n",
        "  if i in special:\n",
        "    dic[i] += 1\n",
        "\n",
        "x, y = zip(*dic.items())\n",
        "plt.bar(x, y)"
      ],
      "execution_count": 36,
      "outputs": [
        {
          "output_type": "execute_result",
          "data": {
            "text/plain": [
              "<BarContainer object of 20 artists>"
            ]
          },
          "metadata": {
            "tags": []
          },
          "execution_count": 36
        },
        {
          "output_type": "display_data",
          "data": {
            "image/png": "[encoded data removed]",
            "text/plain": [
              "<Figure size 720x360 with 1 Axes>"
            ]
          },
          "metadata": {
            "tags": []
          }
        }
      ]
    },
    {
      "cell_type": "code",
      "metadata": {
        "colab": {
          "base_uri": "https://localhost:8080/",
          "height": 0
        },
        "id": "Lqprd8eGNYGD",
        "outputId": "d82f30fc-181c-4a8e-f82d-b62335813fff"
      },
      "source": [
        "plt.figure(figsize=(10,5))\n",
        "corpus = create_corpus(1)\n",
        "\n",
        "dic = defaultdict(int)\n",
        "special = string.punctuation\n",
        "for i in corpus:\n",
        "  if i in special:\n",
        "    dic[i] += 1\n",
        "\n",
        "x, y = zip(*dic.items())\n",
        "plt.bar(x, y, color='skyblue')"
      ],
      "execution_count": 37,
      "outputs": [
        {
          "output_type": "execute_result",
          "data": {
            "text/plain": [
              "<BarContainer object of 18 artists>"
            ]
          },
          "metadata": {
            "tags": []
          },
          "execution_count": 37
        },
        {
          "output_type": "display_data",
          "data": {
            "image/png": "[encoded data removed]",
            "text/plain": [
              "<Figure size 720x360 with 1 Axes>"
            ]
          },
          "metadata": {
            "tags": []
          }
        }
      ]
    },
    {
      "cell_type": "markdown",
      "metadata": {
        "id": "AfRV7L63Nlrl"
      },
      "source": [
        "- '-'이 두 class 다 많다."
      ]
    },
    {
      "cell_type": "markdown",
      "metadata": {
        "id": "W1uJMDYtvH3z"
      },
      "source": [
        "#### 흔히 쓰이는 단어"
      ]
    },
    {
      "cell_type": "code",
      "metadata": {
        "id": "NBECl4gtODXq"
      },
      "source": [
        "corpus = create_corpus(0)\n",
        "counter = Counter(corpus)\n",
        "print(counter)"
      ],
      "execution_count": null,
      "outputs": []
    },
    {
      "cell_type": "code",
      "metadata": {
        "colab": {
          "base_uri": "https://localhost:8080/"
        },
        "id": "B7asIuBLOakx",
        "outputId": "09214b47-7d19-4756-d0a1-2453b542abeb"
      },
      "source": [
        "most = counter.most_common()\n",
        "print(most[0], most[1][0][0]) # 빈도, 문자열만 추출"
      ],
      "execution_count": 39,
      "outputs": [
        {
          "output_type": "stream",
          "text": [
            "('the', 1524) a\n"
          ],
          "name": "stdout"
        }
      ]
    },
    {
      "cell_type": "code",
      "metadata": {
        "id": "QDPx_6EMn7YK",
        "colab": {
          "base_uri": "https://localhost:8080/",
          "height": 283
        },
        "outputId": "3fb97353-4031-4a70-8792-b0fd48cfceb5"
      },
      "source": [
        "x =[]\n",
        "y =[]\n",
        "\n",
        "for word, count in most[:40]:\n",
        "  if(word not in stop):   # stop = set(stopwords.words('english'))\n",
        "    x.append(word)\n",
        "    y.append(count)\n",
        "\n",
        "sns.barplot(x=y,y=x)"
      ],
      "execution_count": 40,
      "outputs": [
        {
          "output_type": "execute_result",
          "data": {
            "text/plain": [
              "<matplotlib.axes._subplots.AxesSubplot at 0x7f384c396c50>"
            ]
          },
          "metadata": {
            "tags": []
          },
          "execution_count": 40
        },
        {
          "output_type": "display_data",
          "data": {
            "image/png": "[encoded data removed]",
            "text/plain": [
              "<Figure size 432x288 with 1 Axes>"
            ]
          },
          "metadata": {
            "tags": []
          }
        }
      ]
    },
    {
      "cell_type": "markdown",
      "metadata": {
        "id": "752iIqBRShg6"
      },
      "source": [
        "#### 흔한 Bigrams\n",
        "- 오,,,코드 모르겠는데:("
      ]
    },
    {
      "cell_type": "code",
      "metadata": {
        "id": "fewzr-_uSuKw"
      },
      "source": [
        "def get_top_bigrams(corpus, n=None):\n",
        "  vec = CountVectorizer(ngram_range=(2, 2)).fit(corpus) # fit: 말뭉치를 vocabulary로 만들어주는 과정\n",
        "  bag_of_words = vec.transform(corpus)    #transform: parameter를 vector로 표현해라\n",
        "  sum_words = bag_of_words.sum(axis=0)\n",
        "  words_freq = [(word, sum_words[0, idx]) for word, idx in vec.vocabulary_.items()]\n",
        "  words_freq =sorted(words_freq, key = lambda x: x[1], reverse=True)\n",
        "  return words_freq[:n]"
      ],
      "execution_count": 45,
      "outputs": []
    },
    {
      "cell_type": "code",
      "metadata": {
        "colab": {
          "base_uri": "https://localhost:8080/",
          "height": 338
        },
        "id": "R9ZYwxSLYCax",
        "outputId": "b30410bf-7d97-45ef-f9dc-40f064dc055e"
      },
      "source": [
        "plt.figure(figsize=(10,5))\n",
        "top_tweet_bigrams= get_top_bigrams(tweet['text'])[:10]\n",
        "x,y=map(list,zip(*top_tweet_bigrams))\n",
        "sns.barplot(x=y,y=x)"
      ],
      "execution_count": 46,
      "outputs": [
        {
          "output_type": "execute_result",
          "data": {
            "text/plain": [
              "<matplotlib.axes._subplots.AxesSubplot at 0x7f384caaf750>"
            ]
          },
          "metadata": {
            "tags": []
          },
          "execution_count": 46
        },
        {
          "output_type": "display_data",
          "data": {
            "image/png": "[encoded data removed]",
            "text/plain": [
              "<Figure size 720x360 with 1 Axes>"
            ]
          },
          "metadata": {
            "tags": []
          }
        }
      ]
    },
    {
      "cell_type": "markdown",
      "metadata": {
        "id": "8Bx8e4-Vbx7u"
      },
      "source": [
        "## Data Cleaning\n"
      ]
    },
    {
      "cell_type": "code",
      "metadata": {
        "colab": {
          "base_uri": "https://localhost:8080/"
        },
        "id": "rYKSFNLpcUOG",
        "outputId": "31fca33e-1e06-4f8b-a292-c7a59b201a6b"
      },
      "source": [
        "df = pd.concat([tweet, test])\n",
        "df.shape"
      ],
      "execution_count": 50,
      "outputs": [
        {
          "output_type": "execute_result",
          "data": {
            "text/plain": [
              "(10876, 5)"
            ]
          },
          "metadata": {
            "tags": []
          },
          "execution_count": 50
        }
      ]
    },
    {
      "cell_type": "markdown",
      "metadata": {
        "id": "NUsC_kJWl2FY"
      },
      "source": [
        "#### removing URLs"
      ]
    },
    {
      "cell_type": "code",
      "metadata": {
        "id": "2aIzRZQIcC-O"
      },
      "source": [
        "def remove_URL(text):\n",
        "    url = re.compile(r'https?://\\S+|www\\.\\S+')  # .compile(): 정규식 저장, url.search('문장')으로 활용\n",
        "    return url.sub(r'',text)    # sub(패턴, 바꿀문자열, 문자열, 바꿀횟수) "
      ],
      "execution_count": 51,
      "outputs": []
    },
    {
      "cell_type": "code",
      "metadata": {
        "id": "Oc8jqtzxcRLv"
      },
      "source": [
        "df['text']=df['text'].apply(lambda x : remove_URL(x))"
      ],
      "execution_count": 52,
      "outputs": []
    },
    {
      "cell_type": "markdown",
      "metadata": {
        "id": "yzChl-4MdcQP"
      },
      "source": [
        "#### removing HTML tags"
      ]
    },
    {
      "cell_type": "code",
      "metadata": {
        "id": "UIkGcn2VdhDe"
      },
      "source": [
        "def remove_html(text):\n",
        "    html=re.compile(r'<.*?>')\n",
        "    return html.sub(r'',text)"
      ],
      "execution_count": 53,
      "outputs": []
    },
    {
      "cell_type": "code",
      "metadata": {
        "id": "iArJL20Edzrm"
      },
      "source": [
        "df['text']=df['text'].apply(lambda x : remove_html(x))"
      ],
      "execution_count": 54,
      "outputs": []
    },
    {
      "cell_type": "markdown",
      "metadata": {
        "id": "VhzWkp5Gd0g-"
      },
      "source": [
        "#### removing Emojis"
      ]
    },
    {
      "cell_type": "code",
      "metadata": {
        "id": "CpAhtUlCd2wO"
      },
      "source": [
        "def remove_emoji(text):\n",
        "    emoji_pattern = re.compile(\"[\"\n",
        "                           u\"\\U0001F600-\\U0001F64F\"  # emoticons\n",
        "                           u\"\\U0001F300-\\U0001F5FF\"  # symbols & pictographs\n",
        "                           u\"\\U0001F680-\\U0001F6FF\"  # transport & map symbols\n",
        "                           u\"\\U0001F1E0-\\U0001F1FF\"  # flags (iOS)\n",
        "                           u\"\\U00002702-\\U000027B0\"\n",
        "                           u\"\\U000024C2-\\U0001F251\"\n",
        "                           \"]+\", flags=re.UNICODE)\n",
        "    return emoji_pattern.sub(r'', text)"
      ],
      "execution_count": 55,
      "outputs": []
    },
    {
      "cell_type": "code",
      "metadata": {
        "id": "zTJhorjxd5d2"
      },
      "source": [
        "df['text']=df['text'].apply(lambda x: remove_emoji(x))"
      ],
      "execution_count": 56,
      "outputs": []
    },
    {
      "cell_type": "markdown",
      "metadata": {
        "id": "lxSfW6KQoWWw"
      },
      "source": [
        "#### removing punctuations(구두점)"
      ]
    },
    {
      "cell_type": "code",
      "metadata": {
        "id": "gV6PL5z8ocIY"
      },
      "source": [
        "def remove_punct(text):\n",
        "  table=str.maketrans('', '', string.punctuation)\n",
        "  return text.translate(table)"
      ],
      "execution_count": 57,
      "outputs": []
    },
    {
      "cell_type": "code",
      "metadata": {
        "id": "pWjnVaz_onE5"
      },
      "source": [
        "df['text']=df['text'].apply(lambda x : remove_punct(x))"
      ],
      "execution_count": 58,
      "outputs": []
    },
    {
      "cell_type": "markdown",
      "metadata": {
        "id": "6F1cpQC6d-iW"
      },
      "source": [
        "#### spelling correction"
      ]
    },
    {
      "cell_type": "code",
      "metadata": {
        "colab": {
          "base_uri": "https://localhost:8080/"
        },
        "id": "zoOU0POhd-N4",
        "outputId": "8f28d70a-3731-4f0e-b04e-c34e0312237b"
      },
      "source": [
        "!pip install pyspellchecker"
      ],
      "execution_count": 59,
      "outputs": [
        {
          "output_type": "stream",
          "text": [
            "Collecting pyspellchecker\n",
            "  Downloading pyspellchecker-0.6.2-py3-none-any.whl (2.7 MB)\n",
            "\u001b[K     |████████████████████████████████| 2.7 MB 7.8 MB/s \n",
            "\u001b[?25hInstalling collected packages: pyspellchecker\n",
            "Successfully installed pyspellchecker-0.6.2\n"
          ],
          "name": "stdout"
        }
      ]
    },
    {
      "cell_type": "code",
      "metadata": {
        "id": "k0sTIug0eHc1"
      },
      "source": [
        "from spellchecker import SpellChecker\n",
        "\n",
        "spell = SpellChecker()\n",
        "def correct_spellings(text):\n",
        "    corrected_text = []\n",
        "    misspelled_words = spell.unknown(text.split())\n",
        "    for word in text.split():\n",
        "        if word in misspelled_words:\n",
        "            corrected_text.append(spell.correction(word))\n",
        "        else:\n",
        "            corrected_text.append(word)\n",
        "    return \" \".join(corrected_text)"
      ],
      "execution_count": 60,
      "outputs": []
    },
    {
      "cell_type": "code",
      "metadata": {
        "id": "Ymn93fg1otu_"
      },
      "source": [
        "#df['text']=df['text'].apply(lambda x : correct_spellings(x)#)"
      ],
      "execution_count": 61,
      "outputs": []
    },
    {
      "cell_type": "markdown",
      "metadata": {
        "id": "cVBXirI9fD6W"
      },
      "source": [
        "- 왜 안했지 "
      ]
    },
    {
      "cell_type": "markdown",
      "metadata": {
        "id": "FE9s7mtaetSf"
      },
      "source": [
        "## GloVe for Vectorization\n",
        "- It is available in 3 varieties :50D ,100D and 200 Dimentional.We will try 100 D here."
      ]
    },
    {
      "cell_type": "code",
      "metadata": {
        "id": "0LDQouHmfCPf"
      },
      "source": [
        "def create_corpus2(df):\n",
        "    corpus=[]\n",
        "    \n",
        "    for tweet in tqdm(df['text']):\n",
        "        words=[word.lower() for word in word_tokenize(tweet) if((word.isalpha()==1) & (word not in set(stopwords.words('english'))))]\n",
        "        corpus.append(words)\n",
        "    return corpus"
      ],
      "execution_count": 62,
      "outputs": []
    },
    {
      "cell_type": "code",
      "metadata": {
        "colab": {
          "base_uri": "https://localhost:8080/"
        },
        "id": "bKOeFHbQgFhl",
        "outputId": "d6011a55-d308-4c50-817f-3c536fc0ceae"
      },
      "source": [
        "corpus = create_corpus2(df)"
      ],
      "execution_count": 63,
      "outputs": [
        {
          "output_type": "stream",
          "text": [
            "100%|██████████| 10876/10876 [00:23<00:00, 464.61it/s]\n"
          ],
          "name": "stderr"
        }
      ]
    },
    {
      "cell_type": "code",
      "metadata": {
        "colab": {
          "base_uri": "https://localhost:8080/"
        },
        "id": "e8fe5Ttxjx8f",
        "outputId": "e5f8d2a2-5334-41a7-d763-7c62fb2fc214"
      },
      "source": [
        "!wget http://nlp.stanford.edu/data/glove.6B.zip\n",
        "!unzip glove*.zip"
      ],
      "execution_count": 64,
      "outputs": [
        {
          "output_type": "stream",
          "text": [
            "--2021-08-11 07:52:59--  http://nlp.stanford.edu/data/glove.6B.zip\n",
            "Resolving nlp.stanford.edu (nlp.stanford.edu)... 171.64.67.140\n",
            "Connecting to nlp.stanford.edu (nlp.stanford.edu)|171.64.67.140|:80... connected.\n",
            "HTTP request sent, awaiting response... 302 Found\n",
            "Location: https://nlp.stanford.edu/data/glove.6B.zip [following]\n",
            "--2021-08-11 07:52:59--  https://nlp.stanford.edu/data/glove.6B.zip\n",
            "Connecting to nlp.stanford.edu (nlp.stanford.edu)|171.64.67.140|:443... connected.\n",
            "HTTP request sent, awaiting response... 301 Moved Permanently\n",
            "Location: http://downloads.cs.stanford.edu/nlp/data/glove.6B.zip [following]\n",
            "--2021-08-11 07:52:59--  http://downloads.cs.stanford.edu/nlp/data/glove.6B.zip\n",
            "Resolving downloads.cs.stanford.edu (downloads.cs.stanford.edu)... 171.64.64.22\n",
            "Connecting to downloads.cs.stanford.edu (downloads.cs.stanford.edu)|171.64.64.22|:80... connected.\n",
            "HTTP request sent, awaiting response... 200 OK\n",
            "Length: 862182613 (822M) [application/zip]\n",
            "Saving to: ‘glove.6B.zip’\n",
            "\n",
            "glove.6B.zip        100%[===================>] 822.24M  4.96MB/s    in 2m 40s  \n",
            "\n",
            "2021-08-11 07:55:39 (5.14 MB/s) - ‘glove.6B.zip’ saved [862182613/862182613]\n",
            "\n",
            "Archive:  glove.6B.zip\n",
            "  inflating: glove.6B.50d.txt        \n",
            "  inflating: glove.6B.100d.txt       \n",
            "  inflating: glove.6B.200d.txt       \n",
            "  inflating: glove.6B.300d.txt       \n"
          ],
          "name": "stdout"
        }
      ]
    },
    {
      "cell_type": "code",
      "metadata": {
        "id": "hcXpeVsaidY2"
      },
      "source": [
        "embedding_dict={}\n",
        "with open('glove.6B.100d.txt','r') as f:\n",
        "    for line in f:\n",
        "        values=line.split()\n",
        "        word=values[0]\n",
        "        vectors=np.asarray(values[1:],'float32')\n",
        "        embedding_dict[word]=vectors\n",
        "f.close()"
      ],
      "execution_count": 65,
      "outputs": []
    },
    {
      "cell_type": "code",
      "metadata": {
        "id": "ZQef0glMlThN"
      },
      "source": [
        "MAX_LEN=50\n",
        "tokenizer_obj = Tokenizer()\n",
        "tokenizer_obj.fit_on_texts(corpus) # corpus 빈도수 기준으로 단어 집합 생성\n",
        "sequences=tokenizer_obj.texts_to_sequences(corpus)\n"
      ],
      "execution_count": 66,
      "outputs": []
    },
    {
      "cell_type": "code",
      "metadata": {
        "id": "ASRRpeTNmUwF",
        "colab": {
          "base_uri": "https://localhost:8080/"
        },
        "outputId": "ba90048b-10e8-426c-cb32-4b2c67c62631"
      },
      "source": [
        "word_index=tokenizer_obj.word_index\n",
        "print('Number of unique words:',len(word_index))"
      ],
      "execution_count": 67,
      "outputs": [
        {
          "output_type": "stream",
          "text": [
            "Number of unique words: 20342\n"
          ],
          "name": "stdout"
        }
      ]
    },
    {
      "cell_type": "code",
      "metadata": {
        "id": "B-kH1ea2mZ01",
        "colab": {
          "base_uri": "https://localhost:8080/"
        },
        "outputId": "fe9ee964-c0cc-4602-d869-69c05ac7e38b"
      },
      "source": [
        "num_words=len(word_index)+1\n",
        "embedding_matrix=np.zeros((num_words,100))\n",
        "\n",
        "for word,i in tqdm(word_index.items()):\n",
        "    if i > num_words:\n",
        "        continue\n",
        "    \n",
        "    emb_vec=embedding_dict.get(word)\n",
        "    if emb_vec is not None:\n",
        "        embedding_matrix[i]=emb_vec"
      ],
      "execution_count": 68,
      "outputs": [
        {
          "output_type": "stream",
          "text": [
            "100%|██████████| 20342/20342 [00:00<00:00, 442123.40it/s]\n"
          ],
          "name": "stderr"
        }
      ]
    },
    {
      "cell_type": "markdown",
      "metadata": {
        "id": "hM66lue1meeH"
      },
      "source": [
        "## Baseline Model"
      ]
    },
    {
      "cell_type": "code",
      "metadata": {
        "id": "9MUDBwKNmeHN"
      },
      "source": [
        "model=Sequential()\n",
        "\n",
        "embedding=Embedding(num_words,100,embeddings_initializer=Constant(embedding_matrix),\n",
        "                   input_length=MAX_LEN,trainable=False)\n",
        "\n",
        "model.add(embedding)\n",
        "model.add(SpatialDropout1D(0.2))\n",
        "model.add(LSTM(64, dropout=0.2, recurrent_dropout=0.2))\n",
        "model.add(Dense(1, activation='sigmoid'))\n",
        "\n",
        "\n",
        "optimzer=Adam(learning_rate=1e-5)\n",
        "\n",
        "model.compile(loss='binary_crossentropy',optimizer=optimzer,metrics=['accuracy'])"
      ],
      "execution_count": 69,
      "outputs": []
    },
    {
      "cell_type": "code",
      "metadata": {
        "id": "nkQAGNi7otZi",
        "colab": {
          "base_uri": "https://localhost:8080/"
        },
        "outputId": "78a7e8f8-1f1b-4aab-a70a-ff06d0fa7008"
      },
      "source": [
        "model.summary()"
      ],
      "execution_count": 70,
      "outputs": [
        {
          "output_type": "stream",
          "text": [
            "Model: \"sequential\"\n",
            "_________________________________________________________________\n",
            "Layer (type)                 Output Shape              Param #   \n",
            "=================================================================\n",
            "embedding (Embedding)        (None, 50, 100)           2034300   \n",
            "_________________________________________________________________\n",
            "spatial_dropout1d (SpatialDr (None, 50, 100)           0         \n",
            "_________________________________________________________________\n",
            "lstm (LSTM)                  (None, 64)                42240     \n",
            "_________________________________________________________________\n",
            "dense (Dense)                (None, 1)                 65        \n",
            "=================================================================\n",
            "Total params: 2,076,605\n",
            "Trainable params: 42,305\n",
            "Non-trainable params: 2,034,300\n",
            "_________________________________________________________________\n"
          ],
          "name": "stdout"
        }
      ]
    },
    {
      "cell_type": "code",
      "metadata": {
        "id": "4Zb4UtupOb-P"
      },
      "source": [
        "tweet_pad=pad_sequences(sequences,maxlen=MAX_LEN,truncating='post',padding='post')"
      ],
      "execution_count": 75,
      "outputs": []
    },
    {
      "cell_type": "code",
      "metadata": {
        "id": "GUIPcR3movFm"
      },
      "source": [
        "train=tweet_pad[:tweet.shape[0]]\n",
        "test=tweet_pad[test.shape[0]:]"
      ],
      "execution_count": 76,
      "outputs": []
    },
    {
      "cell_type": "code",
      "metadata": {
        "id": "iJDkMd48pIC2",
        "colab": {
          "base_uri": "https://localhost:8080/"
        },
        "outputId": "358c688b-eafe-4729-a894-f1523d1e9c36"
      },
      "source": [
        "X_train,X_test,y_train,y_test=train_test_split(train,tweet['target'].values,test_size=0.15)\n",
        "print('Shape of train',X_train.shape)\n",
        "print(\"Shape of Validation \",X_test.shape)"
      ],
      "execution_count": 78,
      "outputs": [
        {
          "output_type": "stream",
          "text": [
            "Shape of train (6471, 50)\n",
            "Shape of Validation  (1142, 50)\n"
          ],
          "name": "stdout"
        }
      ]
    },
    {
      "cell_type": "code",
      "metadata": {
        "id": "K0aYXvp0pH-J",
        "colab": {
          "base_uri": "https://localhost:8080/"
        },
        "outputId": "6102a2e8-7c0e-4799-dec7-901183eb41e2"
      },
      "source": [
        "history=model.fit(X_train,y_train,batch_size=4,epochs=15,validation_data=(X_test,y_test),verbose=2)"
      ],
      "execution_count": 79,
      "outputs": [
        {
          "output_type": "stream",
          "text": [
            "Epoch 1/15\n",
            "1618/1618 - 102s - loss: 0.6913 - accuracy: 0.5673 - val_loss: 0.6880 - val_accuracy: 0.5718\n",
            "Epoch 2/15\n",
            "1618/1618 - 75s - loss: 0.6352 - accuracy: 0.6351 - val_loss: 0.5585 - val_accuracy: 0.7785\n",
            "Epoch 3/15\n",
            "1618/1618 - 76s - loss: 0.5610 - accuracy: 0.7446 - val_loss: 0.5170 - val_accuracy: 0.7811\n",
            "Epoch 4/15\n",
            "1618/1618 - 75s - loss: 0.5396 - accuracy: 0.7554 - val_loss: 0.4978 - val_accuracy: 0.7837\n",
            "Epoch 5/15\n",
            "1618/1618 - 76s - loss: 0.5240 - accuracy: 0.7606 - val_loss: 0.4868 - val_accuracy: 0.7907\n",
            "Epoch 6/15\n",
            "1618/1618 - 77s - loss: 0.5119 - accuracy: 0.7693 - val_loss: 0.4777 - val_accuracy: 0.7916\n",
            "Epoch 7/15\n",
            "1618/1618 - 76s - loss: 0.5059 - accuracy: 0.7705 - val_loss: 0.4711 - val_accuracy: 0.7960\n",
            "Epoch 8/15\n",
            "1618/1618 - 75s - loss: 0.5024 - accuracy: 0.7718 - val_loss: 0.4664 - val_accuracy: 0.7960\n",
            "Epoch 9/15\n",
            "1618/1618 - 75s - loss: 0.4984 - accuracy: 0.7735 - val_loss: 0.4604 - val_accuracy: 0.8004\n",
            "Epoch 10/15\n",
            "1618/1618 - 76s - loss: 0.4901 - accuracy: 0.7784 - val_loss: 0.4571 - val_accuracy: 0.8030\n",
            "Epoch 11/15\n",
            "1618/1618 - 75s - loss: 0.4867 - accuracy: 0.7807 - val_loss: 0.4555 - val_accuracy: 0.8030\n",
            "Epoch 12/15\n",
            "1618/1618 - 75s - loss: 0.4871 - accuracy: 0.7787 - val_loss: 0.4530 - val_accuracy: 0.8065\n",
            "Epoch 13/15\n",
            "1618/1618 - 76s - loss: 0.4800 - accuracy: 0.7875 - val_loss: 0.4507 - val_accuracy: 0.8091\n",
            "Epoch 14/15\n",
            "1618/1618 - 76s - loss: 0.4827 - accuracy: 0.7844 - val_loss: 0.4500 - val_accuracy: 0.8126\n",
            "Epoch 15/15\n",
            "1618/1618 - 75s - loss: 0.4743 - accuracy: 0.7857 - val_loss: 0.4478 - val_accuracy: 0.8091\n"
          ],
          "name": "stdout"
        }
      ]
    },
    {
      "cell_type": "markdown",
      "metadata": {
        "id": "Ym1hDp_exmpq"
      },
      "source": [
        "#### CBOW: Word2Vec\n",
        "1. 입력받은 문장을 단어로 쪼개고, 중복 제거\n",
        "2. 단어: 인덱스, 인덱스: 단어를 가지는 사전 선언\n",
        "3. 학습을 위한 데이터 생성: 예측할 단어 target을 정해주고 주변 단어인 context의 범위도 정함, context-label 쌍을 data리스트에 넣는다.\n",
        "4. CBOW 모델 정의\n",
        "5. 모델 선언, loss, optimizer 선언\n",
        "6. 학습 후 test 진행"
      ]
    },
    {
      "cell_type": "code",
      "metadata": {
        "id": "xOLDU1uc7hhx",
        "colab": {
          "base_uri": "https://localhost:8080/",
          "height": 71
        },
        "outputId": "e3dbcb19-231a-4dbc-e607-ea640349abd5"
      },
      "source": [
        "'''\n",
        "text_list = list(train_df['text'])\n",
        "clear_text_list = []\n",
        "\n",
        "for i in tqdm(range(len(text_list))):\n",
        "  clear_text = re.sub('[-=+,#/\\?:^$.@*\\\"※~&%ㆍ!』\\\\‘|\\(\\)\\[\\]\\<\\>`\\'…》]', '', text_list[i])\n",
        "  clear_text_list.append(clear_text.lower())\n",
        "\n",
        "train_df['clear_text'] = clear_text_list\n",
        "train_df.head()\n",
        "'''"
      ],
      "execution_count": 80,
      "outputs": [
        {
          "output_type": "execute_result",
          "data": {
            "application/vnd.google.colaboratory.intrinsic+json": {
              "type": "string"
            },
            "text/plain": [
              "'\\ntext_list = list(train_df[\\'text\\'])\\nclear_text_list = []\\n\\nfor i in tqdm(range(len(text_list))):\\n  clear_text = re.sub(\\'[-=+,#/\\\\?:^$.@*\"※~&%ㆍ!』\\\\‘|\\\\(\\\\)\\\\[\\\\]\\\\<\\\\>`\\'…》]\\', \\'\\', text_list[i])\\n  clear_text_list.append(clear_text.lower())\\n\\ntrain_df[\\'clear_text\\'] = clear_text_list\\ntrain_df.head()\\n'"
            ]
          },
          "metadata": {
            "tags": []
          },
          "execution_count": 80
        }
      ]
    },
    {
      "cell_type": "code",
      "metadata": {
        "id": "06ckTaOR7lEJ",
        "colab": {
          "base_uri": "https://localhost:8080/",
          "height": 71
        },
        "outputId": "cafba82b-abdd-4a2f-f324-b9e625c5fdb7"
      },
      "source": [
        "'''\n",
        "text_list = list(test_df['text'])\n",
        "clear_text_list = []\n",
        "\n",
        "for i in tqdm(range(len(text_list))):\n",
        "  clear_text = re.sub('[-=+,#/\\?:^$.@*\\\"※~&%ㆍ!』\\\\‘|\\(\\)\\[\\]\\<\\>`\\'…》]', '', text_list[i])\n",
        "  clear_text_list.append(clear_text.lower())\n",
        "\n",
        "test_df['clear_text'] = clear_text_list\n",
        "test_df.head()\n",
        "'''"
      ],
      "execution_count": 81,
      "outputs": [
        {
          "output_type": "execute_result",
          "data": {
            "application/vnd.google.colaboratory.intrinsic+json": {
              "type": "string"
            },
            "text/plain": [
              "'\\ntext_list = list(test_df[\\'text\\'])\\nclear_text_list = []\\n\\nfor i in tqdm(range(len(text_list))):\\n  clear_text = re.sub(\\'[-=+,#/\\\\?:^$.@*\"※~&%ㆍ!』\\\\‘|\\\\(\\\\)\\\\[\\\\]\\\\<\\\\>`\\'…》]\\', \\'\\', text_list[i])\\n  clear_text_list.append(clear_text.lower())\\n\\ntest_df[\\'clear_text\\'] = clear_text_list\\ntest_df.head()\\n'"
            ]
          },
          "metadata": {
            "tags": []
          },
          "execution_count": 81
        }
      ]
    },
    {
      "cell_type": "code",
      "metadata": {
        "id": "fQJB_w5k6fu4",
        "colab": {
          "base_uri": "https://localhost:8080/",
          "height": 53
        },
        "outputId": "45899918-0b66-4647-9571-aee1c5731790"
      },
      "source": [
        "'''\n",
        "x_train = []\n",
        "\n",
        "clear_text_list = list(train_df['clear_text'])\n",
        "\n",
        "for i in tqdm(range(len(clear_text_list))):\n",
        "  temp = word_tokenize(clear_text_list[i])    # 토큰화\n",
        "  x_train.append(temp)\n",
        "\n",
        "x_train[:3]\n",
        "'''"
      ],
      "execution_count": 82,
      "outputs": [
        {
          "output_type": "execute_result",
          "data": {
            "application/vnd.google.colaboratory.intrinsic+json": {
              "type": "string"
            },
            "text/plain": [
              "\"\\nx_train = []\\n\\nclear_text_list = list(train_df['clear_text'])\\n\\nfor i in tqdm(range(len(clear_text_list))):\\n  temp = word_tokenize(clear_text_list[i])    # 토큰화\\n  x_train.append(temp)\\n\\nx_train[:3]\\n\""
            ]
          },
          "metadata": {
            "tags": []
          },
          "execution_count": 82
        }
      ]
    },
    {
      "cell_type": "code",
      "metadata": {
        "id": "GaaQFGP3-beJ",
        "colab": {
          "base_uri": "https://localhost:8080/",
          "height": 53
        },
        "outputId": "8aa10e59-6bab-4bb6-9708-3db7a32812e8"
      },
      "source": [
        "'''\n",
        "vocab_tmp =[]\n",
        "for i in tqdm(range(len(x_train))):\n",
        "  for j in range(len(x_train[i])):\n",
        "    vocab_tmp.append(x_train[i][j])\n",
        "\n",
        "vocab_tmp[:15]\n",
        "'''"
      ],
      "execution_count": 83,
      "outputs": [
        {
          "output_type": "execute_result",
          "data": {
            "application/vnd.google.colaboratory.intrinsic+json": {
              "type": "string"
            },
            "text/plain": [
              "'\\nvocab_tmp =[]\\nfor i in tqdm(range(len(x_train))):\\n  for j in range(len(x_train[i])):\\n    vocab_tmp.append(x_train[i][j])\\n\\nvocab_tmp[:15]\\n'"
            ]
          },
          "metadata": {
            "tags": []
          },
          "execution_count": 83
        }
      ]
    },
    {
      "cell_type": "code",
      "metadata": {
        "id": "FeBwM-RV4Kdb",
        "colab": {
          "base_uri": "https://localhost:8080/",
          "height": 35
        },
        "outputId": "dc674c81-5ab8-4297-9f45-f954b660521a"
      },
      "source": [
        "'''\n",
        "vocab = pd.unique(vocab_tmp).tolist()\n",
        "vocab_size = len(vocab)\n",
        "'''"
      ],
      "execution_count": 84,
      "outputs": [
        {
          "output_type": "execute_result",
          "data": {
            "application/vnd.google.colaboratory.intrinsic+json": {
              "type": "string"
            },
            "text/plain": [
              "'\\nvocab = pd.unique(vocab_tmp).tolist()\\nvocab_size = len(vocab)\\n'"
            ]
          },
          "metadata": {
            "tags": []
          },
          "execution_count": 84
        }
      ]
    },
    {
      "cell_type": "code",
      "metadata": {
        "id": "MpO4SmTx4WQR",
        "colab": {
          "base_uri": "https://localhost:8080/",
          "height": 53
        },
        "outputId": "88841681-ab1c-40ad-eec2-2223d9938699"
      },
      "source": [
        "'''\n",
        "word_to_index = {word:index for index, word in enumerate(vocab)}\n",
        "index_to_word = {index:word for index, word in enumerate(vocab)}\n",
        "'''"
      ],
      "execution_count": 85,
      "outputs": [
        {
          "output_type": "execute_result",
          "data": {
            "application/vnd.google.colaboratory.intrinsic+json": {
              "type": "string"
            },
            "text/plain": [
              "'\\nword_to_index = {word:index for index, word in enumerate(vocab)}\\nindex_to_word = {index:word for index, word in enumerate(vocab)}\\n'"
            ]
          },
          "metadata": {
            "tags": []
          },
          "execution_count": 85
        }
      ]
    },
    {
      "cell_type": "code",
      "metadata": {
        "id": "uFBbcjcm5I05",
        "colab": {
          "base_uri": "https://localhost:8080/",
          "height": 53
        },
        "outputId": "df89db03-daf2-4820-8020-be838e4f211c"
      },
      "source": [
        "'''\n",
        "def make_data(sentence):\n",
        "  data = []\n",
        "  for i in range(2, len(temp) -2):\n",
        "    context = [temp[i-2], temp[i-1], temp[i+1], temp[i + 2]]\n",
        "    target = temp[i]\n",
        "    data.append((context, target))\n",
        "  return data\n",
        "  '''"
      ],
      "execution_count": 86,
      "outputs": [
        {
          "output_type": "execute_result",
          "data": {
            "application/vnd.google.colaboratory.intrinsic+json": {
              "type": "string"
            },
            "text/plain": [
              "'\\ndef make_data(sentence):\\n  data = []\\n  for i in range(2, len(temp) -2):\\n    context = [temp[i-2], temp[i-1], temp[i+1], temp[i + 2]]\\n    target = temp[i]\\n    data.append((context, target))\\n  return data\\n  '"
            ]
          },
          "metadata": {
            "tags": []
          },
          "execution_count": 86
        }
      ]
    },
    {
      "cell_type": "code",
      "metadata": {
        "id": "IXW9p-lD4mv5",
        "colab": {
          "base_uri": "https://localhost:8080/",
          "height": 35
        },
        "outputId": "8f42bcf3-d526-4a56-a534-bfc74dbc0c19"
      },
      "source": [
        "'''\n",
        "data = make_data(temp)\n",
        "'''"
      ],
      "execution_count": 87,
      "outputs": [
        {
          "output_type": "execute_result",
          "data": {
            "application/vnd.google.colaboratory.intrinsic+json": {
              "type": "string"
            },
            "text/plain": [
              "'\\ndata = make_data(temp)\\n'"
            ]
          },
          "metadata": {
            "tags": []
          },
          "execution_count": 87
        }
      ]
    },
    {
      "cell_type": "code",
      "metadata": {
        "id": "QgNmSEnX6Dbh",
        "colab": {
          "base_uri": "https://localhost:8080/",
          "height": 108
        },
        "outputId": "ac20fb7a-a2d4-4fd7-e734-6f8a2670fd4c"
      },
      "source": [
        "'''\n",
        "# 모델 정의\n",
        "class CBOW(nn.Module):\n",
        "  def __init__(self, vocab_size, embedding_dim):\n",
        "    super(CBOW, self).__init__()\n",
        "\n",
        "    self.embeddings = nn.Embedding(vocab_size, embedding_dim)\n",
        "\n",
        "    self.layer1 = nn.Linear(embedding_dim, 64)\n",
        "    self.activation1 = nn.ReLU()\n",
        "\n",
        "    self.layer2 = nn.Linear(64, vocab_size)\n",
        "    self.activation2 = nn.LogSoftmax(dim = -1)\n",
        "\n",
        "  def forward(self, inputs):\n",
        "    embeded_vector = sum(self.embeddings(inputs)).view(1,-1)\n",
        "    output = self.activation1(self.layer1(embeded_vector))\n",
        "    output = self.activation2(self.layer2(output))\n",
        "    return output\n",
        "    '''"
      ],
      "execution_count": 88,
      "outputs": [
        {
          "output_type": "execute_result",
          "data": {
            "application/vnd.google.colaboratory.intrinsic+json": {
              "type": "string"
            },
            "text/plain": [
              "'\\n# 모델 정의\\nclass CBOW(nn.Module):\\n  def __init__(self, vocab_size, embedding_dim):\\n    super(CBOW, self).__init__()\\n\\n    self.embeddings = nn.Embedding(vocab_size, embedding_dim)\\n\\n    self.layer1 = nn.Linear(embedding_dim, 64)\\n    self.activation1 = nn.ReLU()\\n\\n    self.layer2 = nn.Linear(64, vocab_size)\\n    self.activation2 = nn.LogSoftmax(dim = -1)\\n\\n  def forward(self, inputs):\\n    embeded_vector = sum(self.embeddings(inputs)).view(1,-1)\\n    output = self.activation1(self.layer1(embeded_vector))\\n    output = self.activation2(self.layer2(output))\\n    return output\\n    '"
            ]
          },
          "metadata": {
            "tags": []
          },
          "execution_count": 88
        }
      ]
    },
    {
      "cell_type": "code",
      "metadata": {
        "id": "vbngx7vJ6MkQ",
        "colab": {
          "base_uri": "https://localhost:8080/",
          "height": 108
        },
        "outputId": "e4796ae7-2bf7-4ca5-8c12-9d72f373f73d"
      },
      "source": [
        "'''\n",
        "model = CBOW(vocab_size, 128)\n",
        "loss_function = nn.NLLLoss()\n",
        "optimizer = torch.optim.SGD(model.parameters(), lr=0.001)\n",
        "\n",
        "# 학습을 진행합니다.\n",
        "for epoch in range(100):\n",
        "    total_loss = 0\n",
        "    for context, target in data:\n",
        "        context_vector = make_context_vector(context, word_to_index)  \n",
        "        log_probs = model(context_vector)\n",
        "        total_loss += loss_function(log_probs, torch.tensor([word_to_index[target]]))\n",
        "    print('epoch = ',epoch, ', loss = ',total_loss)\n",
        "    optimizer.zero_grad()\n",
        "    total_loss.backward()\n",
        "    optimizer.step()\n",
        "'''"
      ],
      "execution_count": 89,
      "outputs": [
        {
          "output_type": "execute_result",
          "data": {
            "application/vnd.google.colaboratory.intrinsic+json": {
              "type": "string"
            },
            "text/plain": [
              "\"\\nmodel = CBOW(vocab_size, 128)\\nloss_function = nn.NLLLoss()\\noptimizer = torch.optim.SGD(model.parameters(), lr=0.001)\\n\\n# 학습을 진행합니다.\\nfor epoch in range(100):\\n    total_loss = 0\\n    for context, target in data:\\n        context_vector = make_context_vector(context, word_to_index)  \\n        log_probs = model(context_vector)\\n        total_loss += loss_function(log_probs, torch.tensor([word_to_index[target]]))\\n    print('epoch = ',epoch, ', loss = ',total_loss)\\n    optimizer.zero_grad()\\n    total_loss.backward()\\n    optimizer.step()\\n\""
            ]
          },
          "metadata": {
            "tags": []
          },
          "execution_count": 89
        }
      ]
    },
    {
      "cell_type": "markdown",
      "metadata": {
        "id": "ZWUMoLiUxEfq"
      },
      "source": [
        "#### 정규식을 활용한 특수문자 제거\n",
        "- clear_text에 특수문자를 제거한 tweet\n",
        "- re.sub(pattern, sub_word, script)\n",
        "  - pattern: 찾고자 하는 문구\n",
        "  - sub_word: 바꾸고 싶은 문구\n",
        "  - script: 문구 찾을 대상"
      ]
    },
    {
      "cell_type": "code",
      "metadata": {
        "id": "pTcT1HpLLebF",
        "colab": {
          "base_uri": "https://localhost:8080/",
          "height": 0
        },
        "outputId": "0984f844-0ee2-4ccb-8cb2-acd6c8ebbd67"
      },
      "source": [
        "'''\n",
        "text_list = list(train_df['text'])\n",
        "clear_text_list = []\n",
        "\n",
        "for i in tqdm(range(len(text_list))):\n",
        "  clear_text = re.sub('[-=+,#/\\?:^$.@*\\\"※~&%ㆍ!』\\\\‘|\\(\\)\\[\\]\\<\\>`\\'…》]', '', text_list[i])\n",
        "  clear_text_list.append(clear_text.lower())\n",
        "\n",
        "train_df['clear_text'] = clear_text_list\n",
        "train_df.head()\n",
        "'''"
      ],
      "execution_count": 90,
      "outputs": [
        {
          "output_type": "execute_result",
          "data": {
            "application/vnd.google.colaboratory.intrinsic+json": {
              "type": "string"
            },
            "text/plain": [
              "'\\ntext_list = list(train_df[\\'text\\'])\\nclear_text_list = []\\n\\nfor i in tqdm(range(len(text_list))):\\n  clear_text = re.sub(\\'[-=+,#/\\\\?:^$.@*\"※~&%ㆍ!』\\\\‘|\\\\(\\\\)\\\\[\\\\]\\\\<\\\\>`\\'…》]\\', \\'\\', text_list[i])\\n  clear_text_list.append(clear_text.lower())\\n\\ntrain_df[\\'clear_text\\'] = clear_text_list\\ntrain_df.head()\\n'"
            ]
          },
          "metadata": {
            "tags": []
          },
          "execution_count": 90
        }
      ]
    },
    {
      "cell_type": "code",
      "metadata": {
        "id": "3fzoQx42OpOt",
        "colab": {
          "base_uri": "https://localhost:8080/",
          "height": 0
        },
        "outputId": "ea4200a4-9245-4b92-9bfd-fb36fd6efa2f"
      },
      "source": [
        "'''\n",
        "text_list = list(test_df['text'])\n",
        "clear_text_list = []\n",
        "\n",
        "for i in tqdm(range(len(text_list))):\n",
        "  clear_text = re.sub('[-=+,#/\\?:^$.@*\\\"※~&%ㆍ!』\\\\‘|\\(\\)\\[\\]\\<\\>`\\'…》]', '', text_list[i])\n",
        "  clear_text_list.append(clear_text.lower())\n",
        "\n",
        "test_df['clear_text'] = clear_text_list\n",
        "test_df.head()\n",
        "'''"
      ],
      "execution_count": 91,
      "outputs": [
        {
          "output_type": "execute_result",
          "data": {
            "application/vnd.google.colaboratory.intrinsic+json": {
              "type": "string"
            },
            "text/plain": [
              "'\\ntext_list = list(test_df[\\'text\\'])\\nclear_text_list = []\\n\\nfor i in tqdm(range(len(text_list))):\\n  clear_text = re.sub(\\'[-=+,#/\\\\?:^$.@*\"※~&%ㆍ!』\\\\‘|\\\\(\\\\)\\\\[\\\\]\\\\<\\\\>`\\'…》]\\', \\'\\', text_list[i])\\n  clear_text_list.append(clear_text.lower())\\n\\ntest_df[\\'clear_text\\'] = clear_text_list\\ntest_df.head()\\n'"
            ]
          },
          "metadata": {
            "tags": []
          },
          "execution_count": 91
        }
      ]
    },
    {
      "cell_type": "markdown",
      "metadata": {
        "id": "f00tB4-XO3Es"
      },
      "source": [
        "#### nltk를 활용해 토큰화/불용어처리/어간추출"
      ]
    },
    {
      "cell_type": "code",
      "metadata": {
        "id": "VeWzLSjkO2gc",
        "colab": {
          "base_uri": "https://localhost:8080/",
          "height": 0
        },
        "outputId": "7a8876a4-36de-49bb-c5a6-fcce5bf1d938"
      },
      "source": [
        "'''\n",
        "import nltk\n",
        "nltk.download(\"stopwords\")\n",
        "nltk.download(\"punkt\")\n",
        "from nltk.tokenize import word_tokenize   # 단어 토큰화\n",
        "from nltk.stem import LancasterStemmer\n",
        "\n",
        "stemmer = LancasterStemmer()\n",
        "'''"
      ],
      "execution_count": 92,
      "outputs": [
        {
          "output_type": "execute_result",
          "data": {
            "application/vnd.google.colaboratory.intrinsic+json": {
              "type": "string"
            },
            "text/plain": [
              "'\\nimport nltk\\nnltk.download(\"stopwords\")\\nnltk.download(\"punkt\")\\nfrom nltk.tokenize import word_tokenize   # 단어 토큰화\\nfrom nltk.stem import LancasterStemmer\\n\\nstemmer = LancasterStemmer()\\n'"
            ]
          },
          "metadata": {
            "tags": []
          },
          "execution_count": 92
        }
      ]
    },
    {
      "cell_type": "markdown",
      "metadata": {
        "id": "qXib6e7IPIh1"
      },
      "source": [
        "- 토큰화 한 단어들에서 어간 추출한 다음 불용어를 제거한 뒤 길이가 2이상인 단어들만 남김"
      ]
    },
    {
      "cell_type": "code",
      "metadata": {
        "id": "so2n1L8mPUjS",
        "colab": {
          "base_uri": "https://localhost:8080/",
          "height": 0
        },
        "outputId": "6f08e001-faac-41c8-c796-363e5d60dcd7"
      },
      "source": [
        "'''\n",
        "x_train = []\n",
        "\n",
        "clear_text_list = list(train_df['clear_text'])\n",
        "\n",
        "for i in tqdm(range(len(clear_text_list))):\n",
        "  temp = word_tokenize(clear_text_list[i])    # 토큰화\n",
        "  temp = [stemmer.stem(word) for word in temp]  # 어간 추출\n",
        "  temp = [word for word in temp if word not in nltk.corpus.stopwords.words('english')]  # 불용어 제거\n",
        "  temp = [word for word in temp if len(word) > 1]\n",
        "  x_train.append(temp)\n",
        "\n",
        "x_train[:3]\n",
        "'''"
      ],
      "execution_count": 93,
      "outputs": [
        {
          "output_type": "execute_result",
          "data": {
            "application/vnd.google.colaboratory.intrinsic+json": {
              "type": "string"
            },
            "text/plain": [
              "\"\\nx_train = []\\n\\nclear_text_list = list(train_df['clear_text'])\\n\\nfor i in tqdm(range(len(clear_text_list))):\\n  temp = word_tokenize(clear_text_list[i])    # 토큰화\\n  temp = [stemmer.stem(word) for word in temp]  # 어간 추출\\n  temp = [word for word in temp if word not in nltk.corpus.stopwords.words('english')]  # 불용어 제거\\n  temp = [word for word in temp if len(word) > 1]\\n  x_train.append(temp)\\n\\nx_train[:3]\\n\""
            ]
          },
          "metadata": {
            "tags": []
          },
          "execution_count": 93
        }
      ]
    },
    {
      "cell_type": "code",
      "metadata": {
        "id": "mqO30J3tTHnE",
        "colab": {
          "base_uri": "https://localhost:8080/",
          "height": 0
        },
        "outputId": "cabb02cb-51b8-47cd-ec1e-5c783cb11301"
      },
      "source": [
        "'''\n",
        "x_test = []\n",
        "\n",
        "clear_text_list = list(test_df['clear_text'])\n",
        "\n",
        "for i in tqdm(range(len(clear_text_list))):\n",
        "  temp = word_tokenize(clear_text_list[i])    # 토큰화\n",
        "  temp = [stemmer.stem(word) for word in temp]  # 어간 추출\n",
        "  temp = [word for word in temp if word not in nltk.corpus.stopwords.words('english')]  # 불용어 제거\n",
        "  temp = [word for word in temp if len(word) > 1]\n",
        "  x_test.append(temp)\n",
        "\n",
        "x_test[:3]\n",
        "'''"
      ],
      "execution_count": 94,
      "outputs": [
        {
          "output_type": "execute_result",
          "data": {
            "application/vnd.google.colaboratory.intrinsic+json": {
              "type": "string"
            },
            "text/plain": [
              "\"\\nx_test = []\\n\\nclear_text_list = list(test_df['clear_text'])\\n\\nfor i in tqdm(range(len(clear_text_list))):\\n  temp = word_tokenize(clear_text_list[i])    # 토큰화\\n  temp = [stemmer.stem(word) for word in temp]  # 어간 추출\\n  temp = [word for word in temp if word not in nltk.corpus.stopwords.words('english')]  # 불용어 제거\\n  temp = [word for word in temp if len(word) > 1]\\n  x_test.append(temp)\\n\\nx_test[:3]\\n\""
            ]
          },
          "metadata": {
            "tags": []
          },
          "execution_count": 94
        }
      ]
    },
    {
      "cell_type": "markdown",
      "metadata": {
        "id": "7hFtiL8-TOxj"
      },
      "source": [
        "## 각각의 단어를 정수로 인코딩"
      ]
    },
    {
      "cell_type": "code",
      "metadata": {
        "id": "e65G7QiYTS1j",
        "colab": {
          "base_uri": "https://localhost:8080/",
          "height": 53
        },
        "outputId": "8bbb3676-2e76-41d9-9365-c96748873464"
      },
      "source": [
        "'''\n",
        "words = []\n",
        "\n",
        "for i in tqdm(range(len(x_train))):\n",
        "  for j in range(len(x_train[i])):\n",
        "    words.append(x_train[i][j])\n",
        "\n",
        "len(list(set(words)))\n",
        "'''"
      ],
      "execution_count": 95,
      "outputs": [
        {
          "output_type": "execute_result",
          "data": {
            "application/vnd.google.colaboratory.intrinsic+json": {
              "type": "string"
            },
            "text/plain": [
              "'\\nwords = []\\n\\nfor i in tqdm(range(len(x_train))):\\n  for j in range(len(x_train[i])):\\n    words.append(x_train[i][j])\\n\\nlen(list(set(words)))\\n'"
            ]
          },
          "metadata": {
            "tags": []
          },
          "execution_count": 95
        }
      ]
    },
    {
      "cell_type": "markdown",
      "metadata": {
        "id": "JiyXUUdBTSfT"
      },
      "source": [
        "토큰화, 불용어처리, 어간추출 해서 나온 단어들의 총 개수: 18,168개"
      ]
    },
    {
      "cell_type": "code",
      "metadata": {
        "id": "T9anL9WnamzD",
        "colab": {
          "base_uri": "https://localhost:8080/"
        },
        "outputId": "849c4206-ca7f-4234-b409-995d2ae8af3d"
      },
      "source": [
        "!pip install torchtext"
      ],
      "execution_count": 96,
      "outputs": [
        {
          "output_type": "stream",
          "text": [
            "Requirement already satisfied: torchtext in /usr/local/lib/python3.7/dist-packages (0.10.0)\n",
            "Requirement already satisfied: numpy in /usr/local/lib/python3.7/dist-packages (from torchtext) (1.19.5)\n",
            "Requirement already satisfied: torch==1.9.0 in /usr/local/lib/python3.7/dist-packages (from torchtext) (1.9.0+cu102)\n",
            "Requirement already satisfied: requests in /usr/local/lib/python3.7/dist-packages (from torchtext) (2.23.0)\n",
            "Requirement already satisfied: tqdm in /usr/local/lib/python3.7/dist-packages (from torchtext) (4.41.1)\n",
            "Requirement already satisfied: typing-extensions in /usr/local/lib/python3.7/dist-packages (from torch==1.9.0->torchtext) (3.7.4.3)\n",
            "Requirement already satisfied: certifi>=2017.4.17 in /usr/local/lib/python3.7/dist-packages (from requests->torchtext) (2021.5.30)\n",
            "Requirement already satisfied: urllib3!=1.25.0,!=1.25.1,<1.26,>=1.21.1 in /usr/local/lib/python3.7/dist-packages (from requests->torchtext) (1.24.3)\n",
            "Requirement already satisfied: chardet<4,>=3.0.2 in /usr/local/lib/python3.7/dist-packages (from requests->torchtext) (3.0.4)\n",
            "Requirement already satisfied: idna<3,>=2.5 in /usr/local/lib/python3.7/dist-packages (from requests->torchtext) (2.10)\n"
          ],
          "name": "stdout"
        }
      ]
    }
  ]
}
