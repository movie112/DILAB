{
  "nbformat": 4,
  "nbformat_minor": 0,
  "metadata": {
    "colab": {
      "name": "lab_11_1.ipynb",
      "provenance": [],
      "authorship_tag": "ABX9TyNb2PrW4fVx1vvH49Ifrd3c",
      "include_colab_link": true
    },
    "kernelspec": {
      "name": "python3",
      "display_name": "Python 3"
    },
    "language_info": {
      "name": "python"
    }
  },
  "cells": [
    {
      "cell_type": "markdown",
      "metadata": {
        "id": "view-in-github",
        "colab_type": "text"
      },
      "source": [
        "<a href=\"https://colab.research.google.com/github/movie112/INU-DILAB/blob/main/lab_11_1.ipynb\" target=\"_parent\"><img src=\"https://colab.research.google.com/assets/colab-badge.svg\" alt=\"Open In Colab\"/></a>"
      ]
    },
    {
      "cell_type": "markdown",
      "metadata": {
        "id": "hGKpLN0sziyz"
      },
      "source": [
        "# Lab_11_1: RNN basic\n",
        "##contents\n",
        "- RNN을 실행하는 Pytorch code\n",
        "- simple example\n",
        "  - input\n",
        "  - fidden state\n",
        "  - sequence length\n",
        "  - batch size\n",
        "---\n",
        "## RNN in Pytorch\n",
        "<img src=\"https://img1.daumcdn.net/thumb/R1280x0/?scode=mtistory2&fname=https%3A%2F%2Fblog.kakaocdn.net%2Fdn%2FbocVaf%2FbtqC48TSP1V%2Fgu9CyjxwKjUU8AtSVEyoYK%2Fimg.png\" width=\"500px\" height=\"300px\"></img>\n",
        "- input_date: 3개의 차원을 가지는 Tensor\n",
        "- 두 줄 이외의 생략된 코드들: 가지고 있는 데이터를 RNN에 입력 가능한 Tensor 형태로 만들어주는 과정에 불과\n",
        "\n",
        "## Example\n",
        "#### input\n",
        "<img src=\"https://img1.daumcdn.net/thumb/R1280x0/?scode=mtistory2&fname=https%3A%2F%2Fblog.kakaocdn.net%2Fdn%2Fbhdv8j%2FbtqC3NCHkYS%2FL5Y5s2WLKKfH9PlLxoy3w0%2Fimg.png\" width=\"500px\" height=\"300px\"></img>\n",
        "- 문자를 모델이 인식할 수 있도록 vector로 치환하여 RNN에 전달\n",
        "- one_hot encoding: 문자들을 사전식으로 나열해서 사전 개수만큼 vector 만들고 각 문자에 해당하는 index만 1로\n",
        "- h라는 하나의 문자를 표현하기 위해서는 4개의 차원가진 vector 필요 -> input_size=4, A가 선언될 때 미리 A에게 알려줘야하는 값\n",
        "\n",
        "#### hidden state\n",
        "<img src=\"https://img1.daumcdn.net/thumb/R1280x0/?scode=mtistory2&fname=https%3A%2F%2Fblog.kakaocdn.net%2Fdn%2FcHXawy%2FbtqC3rmkajl%2F6oKA8YVu9YLNTkTWYKNgN1%2Fimg.png\" width=\"500px\" height=\"300px\"></img>\n",
        "- hidden_size = output_size\n",
        "- 어떤 사이즈의 출력을 원하는지에 따라 output size 결정\n",
        "- A가 선언될 때 미리 A에게 알려줌\n",
        "\n",
        "#### sequence length\n",
        "<img src=\"https://img1.daumcdn.net/thumb/R1280x0/?scode=mtistory2&fname=https%3A%2F%2Fblog.kakaocdn.net%2Fdn%2FmjpxS%2FbtqC1IvBXd0%2FQqU9cFLnhDjBh27PT7umfk%2Fimg.png\" width=\"500px\" height=\"300px\"></img>\n",
        "- 사용자가 알려주지 않아도 model이 sequence lenghth 자동으로 파악 (t+1)\n",
        "- sequence length 값은 두 번째 자리의 파라미터로 사용된다.\n",
        "\n",
        "#### sequence length\n",
        "<img src=\"https://img1.daumcdn.net/thumb/R1280x0/?scode=mtistory2&fname=https%3A%2F%2Fblog.kakaocdn.net%2Fdn%2FIAF4V%2FbtqC4tjFWLk%2FyubIiVS041GsyKkZyD9ch0%2Fimg.png\" width=\"500px\" height=\"300px\"></img>\n",
        "- model이 자동으로 파악, input data만 잘 구성하면 됨\n",
        "\n"
      ]
    },
    {
      "cell_type": "markdown",
      "metadata": {
        "id": "HTMlSdXkCWjm"
      },
      "source": [
        "#### Run\n",
        "- [hello]\n",
        "- [eolll]\n",
        "- [lleel]   \n",
        "- 세 개의 단어를 하나의 batch로 구성해서 input data 만들고 RNN에 입력\n",
        "- (3, 5, 4): (batch_size, length, one_hot vector 수(dim))\n",
        "- output= (3, 5, 2)"
      ]
    },
    {
      "cell_type": "code",
      "metadata": {
        "id": "spQ5cRJ0ziDk"
      },
      "source": [
        "import torch\n",
        "import numpy as np"
      ],
      "execution_count": null,
      "outputs": []
    },
    {
      "cell_type": "code",
      "metadata": {
        "id": "DGTXaoyACEJD"
      },
      "source": [
        "# Random seed to make results deterministic and reproducible\n",
        "torch.manual_seed(0)"
      ],
      "execution_count": null,
      "outputs": []
    },
    {
      "cell_type": "code",
      "metadata": {
        "id": "B3CAHP98CHB4"
      },
      "source": [
        "# declare dimension\n",
        "input_size = 4\n",
        "hidden_size = 2"
      ],
      "execution_count": null,
      "outputs": []
    },
    {
      "cell_type": "code",
      "metadata": {
        "id": "FWWsFyd8CH4a"
      },
      "source": [
        "# singleton example\n",
        "# shape : (1, 1, 4)\n",
        "# input_data_np = np.array([[[1, 0, 0, 0]]])\n",
        "\n",
        "# sequential example\n",
        "# shape : (3, 5, 4)\n",
        "h = [1, 0, 0, 0]\n",
        "e = [0, 1, 0, 0]\n",
        "l = [0, 0, 1, 0]\n",
        "o = [0, 0, 0, 1]\n",
        "input_data_np = np.array([[h, e, l, l, o], [e, o, l, l, l], [l, l, e, e, l]], dtype=np.float32)"
      ],
      "execution_count": null,
      "outputs": []
    },
    {
      "cell_type": "code",
      "metadata": {
        "id": "usLpJMGuCJ8w"
      },
      "source": [
        "# transform as torch tensor\n",
        "input_data = torch.Tensor(input_data_np)"
      ],
      "execution_count": null,
      "outputs": []
    },
    {
      "cell_type": "code",
      "metadata": {
        "id": "r1Qr6kZ_CKDx"
      },
      "source": [
        "# declare RNN\n",
        "rnn = torch.nn.RNN(input_size, hidden_size)"
      ],
      "execution_count": null,
      "outputs": []
    },
    {
      "cell_type": "code",
      "metadata": {
        "id": "Y07C1DKICLrE"
      },
      "source": [
        "# check output\n",
        "outputs, _status = rnn(input_data)\n",
        "print(outputs)\n",
        "print(outputs.size())"
      ],
      "execution_count": null,
      "outputs": []
    }
  ]
}
