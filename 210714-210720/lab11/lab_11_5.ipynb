{
  "nbformat": 4,
  "nbformat_minor": 0,
  "metadata": {
    "colab": {
      "name": "lab_11_5.ipynb",
      "provenance": [],
      "authorship_tag": "ABX9TyNqJ8krnvORZ4lMKUqi2UG6",
      "include_colab_link": true
    },
    "kernelspec": {
      "name": "python3",
      "display_name": "Python 3"
    },
    "language_info": {
      "name": "python"
    }
  },
  "cells": [
    {
      "cell_type": "markdown",
      "metadata": {
        "id": "view-in-github",
        "colab_type": "text"
      },
      "source": [
        "<a href=\"https://colab.research.google.com/github/movie112/INU-DILAB/blob/main/lab_11_5.ipynb\" target=\"_parent\"><img src=\"https://colab.research.google.com/assets/colab-badge.svg\" alt=\"Open In Colab\"/></a>"
      ]
    },
    {
      "cell_type": "markdown",
      "metadata": {
        "id": "Wt_35iwPJqnf"
      },
      "source": [
        "# Lab_11_5: RNN-seqseq\n",
        "## contents\n",
        "- seq2seq\n",
        "- apply seq2seq\n",
        "  - encoder - decoder\n",
        "  - data preprocessing\n",
        "  - neural net setting\n",
        "  - training\n",
        "  - evaluation\n",
        "---\n",
        "## seq2seq\n",
        "- sequnce 입력받아 sequence 출력하는 모델\n",
        "- 이미 RNN이 sequential data를 다루기 위해 만들어졌다고 했는데 일반적인 RNN과 뭐가 다른가?\n",
        "\n",
        "- Example: chatbot\n",
        "  - RNN : \"Today's perfect weather makes me much sad.\" 라는 문장을 보고 한 단어씩 추출하여 답변을 생성한다면, 위로랑은 거리가 먼 문장을 생성해낼 것.   \n",
        "  끝에서 살짝 변하는 말에 대해 대응하지 못한다.\n",
        "  - seq2seq : 문장 다 보기 전에 답변을 만들면 오류 발생 -> 끝까지 다 듣고 말하기 모델 \n",
        "\n",
        "## apply seq2seq\n",
        "### 1. encoder-decoder\n",
        "- seq2seq의 대표적 특징: encoder - decoder 구조\n",
        "\n",
        "<img src=\"https://img1.daumcdn.net/thumb/R1280x0/?scode=mtistory2&fname=https%3A%2F%2Fblog.kakaocdn.net%2Fdn%2FdwHwrS%2Fbtq0LO05pec%2Fj0r86KSbeRHuxkOZYDIPQ0%2Fimg.png\" width=\"500px\" height=\"300px\"></img>\n",
        "- encoder\n",
        "  - 입력된 sequence를 ventor 형태로 압축하여 decoder에 전달\n",
        "  - 모든 문장을 들은 후\n",
        "- decoder\n",
        "  - cell의 output과 hidden state를 이용해서 단어 예측\n",
        "  1. 첫 cell에서 encoder로부터 전달받은 vector를 hiddenstate로 넣어주고 start flag와 함께 모델 시작\n",
        "  2. 첫 cell의 output을 답변 문장의 첫 단어로 사용\n",
        "  3. output은 두 번째 cell의 입력으로, hidden state와 함께 다음 단어 예측\n",
        "  4. 예측이 진행되면 decoder에서 하나의 문장(답변)을 만들어냄\n",
        "\n",
        "\n",
        "- 영한 번역 code\n",
        "  - source text(영어) -> target text(한국어)"
      ]
    },
    {
      "cell_type": "code",
      "metadata": {
        "id": "8iBiSdd2Jpeu"
      },
      "source": [
        "import random\n",
        "import torch\n",
        "import torch.nn as nn\n",
        "from torch import optim\n",
        "\n",
        "#대략\n",
        "# declare max length for sentence\n",
        "SOURCE_MAX_LENGTH = 10\n",
        "TARGET_MAX_LENGTH = 12\n",
        "\n",
        "load_pairs, load_source_vocab, load_target_vocab = preprocess(raw, SOURCE_MAX_LENGTH, TARGET_MAX_LENGTH) # Preprocess: source, target으로 나누고 train, test data으로 나눈다.\n",
        "print(random.choice(load_pairs))\n",
        "\n",
        "# declare the encoder and the decoder\n",
        "enc_hidden_size = 16\n",
        "dec_hidden_size = enc_hidden_size\n",
        "enc = Encoder(load_source_vocab.n_vocab, enc_hidden_size).to(device)\n",
        "dec = Decoder(dec_hidden_size, load_target_vocab.n_vocab).to(device)\n",
        "\n",
        "# train seq2seq model\n",
        "train(load_pairs, load_source_vocab, load_target_vocab, enc, dec, 5000, print_every=1000)# Encoder 출력을 Decoder에 넣는 코드를 포함하고 있을 것이다.\n",
        "\n",
        "# check the model with given data\n",
        "evaluate(load_pairs, load_source_vocab, load_target_vocab, enc, dec, TARGET_MAX_LENGTH)"
      ],
      "execution_count": null,
      "outputs": []
    },
    {
      "cell_type": "markdown",
      "metadata": {
        "id": "a6WSuxSGPmSo"
      },
      "source": [
        "### 2. data preprocessing\n"
      ]
    },
    {
      "cell_type": "code",
      "metadata": {
        "id": "FQhoXDcEPqoi"
      },
      "source": [
        "import random\n",
        "import torch\n",
        "import torch.nn as nn\n",
        "from torch import optim\n",
        "\n",
        "torch.manual_seed(0)\n",
        "device = torch.device(\"cuda\" if torch.cuda.is_available() else \"cpu\")\n",
        "\n",
        "# 영어 tab 한국어 \n",
        "raw = [\"I feel hungry.\t나는 배가 고프다.\",\n",
        "       \"Pytorch is very easy.\t파이토치는 매우 쉽다.\",\n",
        "       \"Pytorch is a framework for deep learning.\t파이토치는 딥러닝을 위한 프레임워크이다.\",\n",
        "       \"Pytorch is very clear to use.\t파이토치는 사용하기 매우 직관적이다.\"]\n",
        "       \n",
        "# token \n",
        "# decoder의 마지막 출력물을 받아오고 첫 번째 step의 index를 받아온다.\n",
        "SOS_token = 0 # \"start of sentence\" step의 input\n",
        "EOS_token = 1 # \"end of sentence\" 문장의 종료 알림"
      ],
      "execution_count": null,
      "outputs": []
    },
    {
      "cell_type": "code",
      "metadata": {
        "id": "tsKhvMG6QNzV"
      },
      "source": [
        "# preprocessing: Source text와 target text를 나눠서 어떤 단어로 구성, 단어의 수 등을 특정하는 부분\n",
        "# data 준비 과정\n",
        "def preprocess(corpus, source_max_length, target_max_length):\n",
        "    print(\"reading corpus...\")\n",
        "    pairs = []\n",
        "    for line in corpus:\n",
        "        pairs.append([s for s in line.strip().lower().split(\"\\t\")])# tab으로 구분\n",
        "    print(\"Read {} sentence pairs\".format(len(pairs)))\n",
        "\n",
        "    pairs = [pair for pair in pairs if filter_pair(pair, source_max_length, target_max_length)]\n",
        "    print(\"Trimmed to {} sentence pairs\".format(len(pairs)))\n",
        "\n",
        "    # Vocab() class를 선언하여 단어 대수나 dictionary 만들어서 넣음\n",
        "    source_vocab = Vocab()\n",
        "    target_vocab = Vocab()\n",
        "\n",
        "    print(\"Counting words...\")\n",
        "    for pair in pairs:\n",
        "        source_vocab.add_vocab(pair[0])\n",
        "        target_vocab.add_vocab(pair[1])\n",
        "    print(\"source vocab size =\", source_vocab.n_vocab)\n",
        "    print(\"target vocab size =\", target_vocab.n_vocab)\n",
        "\n",
        "    return pairs, source_vocab, target_vocab"
      ],
      "execution_count": null,
      "outputs": []
    },
    {
      "cell_type": "markdown",
      "metadata": {
        "id": "Ts_u42dDQvAr"
      },
      "source": [
        "### 3. neural net setting\n",
        "- encoder"
      ]
    },
    {
      "cell_type": "code",
      "metadata": {
        "id": "j7XKiW9pQyaA"
      },
      "source": [
        "class Encoder(nn.Module):\n",
        "    def __init__(self, input_size, hidden_size):\n",
        "        super(Encoder, self).__init__()\n",
        "        self.hidden_size = hidden_size\n",
        "        # embedding은 거대한 행렬\n",
        "        # input_size에서 hidden size 만큼의 vector로 줄인다.\n",
        "        self.embedding = nn.Embedding(input_size, hidden_size) # input_size: Source에서 쓰이는 단어의 개수\n",
        "\n",
        "        # EMB(가로로 긴 vector) * one-hot encoding(세로로 긴) -> hidden size로 줄어든 vector -> 이를 gru에서 처리한다.       \n",
        "        \n",
        "        self.gru = nn.GRU(hidden_size, hidden_size) # 들어오는 dim과 나오는 dim(hidden state)만 정해주면 된다.\n",
        "\n",
        "    # encoder구조를 알 수 있다.\n",
        "    def forward(self, x, hidden):\n",
        "        # embedding을 통과해서 나오고 , 이것이 gru에 input으로 들어가서 나온다.\n",
        "        x = self.embedding(x).view(1, 1, -1)\n",
        "        x, hidden = self.gru(x, hidden)\n",
        "        return x, hidden"
      ],
      "execution_count": null,
      "outputs": []
    },
    {
      "cell_type": "markdown",
      "metadata": {
        "id": "_9szOY7mR8zy"
      },
      "source": [
        "- decoder"
      ]
    },
    {
      "cell_type": "code",
      "metadata": {
        "id": "2SbvKebSR-vf"
      },
      "source": [
        "class Decoder(nn.Module):\n",
        "    def __init__(self, hidden_size, output_size):\n",
        "        super(Decoder, self).__init__()\n",
        "        self.hidden_size = hidden_size\n",
        "        self.embedding = nn.Embedding(output_size, hidden_size)\n",
        "        self.gru = nn.GRU(hidden_size, hidden_size)\n",
        "        self.out = nn.Linear(hidden_size, output_size) # target에 맞추어 그만큼 복\n",
        "        self.softmax = nn.LogSoftmax(dim=1)\n",
        "\n",
        "    def forward(self, x, hidden):\n",
        "        x = self.embedding(x).view(1, 1, -1)\n",
        "        x, hidden = self.gru(x, hidden)\n",
        "        x = self.softmax(self.out(x[0]))\n",
        "        return x, hidden\n",
        "        # one hot encoding * EMB -> 줄어든 vector -> GRU(decoder) <- hidden state(dim=n)\n",
        "        # ->(dim=n) -> out > target text에서 쓰이는 단어로 복원"
      ],
      "execution_count": null,
      "outputs": []
    },
    {
      "cell_type": "markdown",
      "metadata": {
        "id": "-sNNxre5TGmC"
      },
      "source": [
        "### 4. training"
      ]
    },
    {
      "cell_type": "code",
      "metadata": {
        "id": "DQYLJz3dTKIx"
      },
      "source": [
        "def tensorize(vocab, sentence): # 학습 전 sentence를 입력 받아서 onehot encoding을 하고 이를 tensor로 바꿔주는 역할 보조함수\n",
        "    indexes = [vocab.vocab2index[word] for word in sentence.split(\" \")]\n",
        "    indexes.append(vocab.vocab2index[\"<EOS>\"])\n",
        "    return torch.Tensor(indexes).long().to(device).view(-1, 1)\n",
        "    \n",
        "# training seq2seq\n",
        "def train(pairs, source_vocab, target_vocab, encoder, decoder, n_iter, print_every=1000, learning_rate=0.01):\n",
        "    loss_total = 0\n",
        "\n",
        "    encoder_optimizer = optim.SGD(encoder.parameters(), lr=learning_rate)\n",
        "    decoder_optimizer = optim.SGD(decoder.parameters(), lr=learning_rate)\n",
        "\n",
        "    training_batch = [random.choice(pairs) for _ in range(n_iter)]\n",
        "    training_source = [tensorize(source_vocab, pair[0]) for pair in training_batch]\n",
        "    training_target = [tensorize(target_vocab, pair[1]) for pair in training_batch]\n",
        "\n",
        "    # category vector를 비교할 때 많이 사용되는 loss이다.\n",
        "    # Negative Log Likelihood Loss\n",
        "    # 마지막에 nn.LogSoftmax 를 해주어야한다.\n",
        "    criterion = nn.NLLLoss()\n",
        "\n",
        "    for i in range(1, n_iter + 1):\n",
        "        source_tensor = training_source[i - 1]\n",
        "        target_tensor = training_target[i - 1]\n",
        "\n",
        "        # hidden state\n",
        "        encoder_hidden = torch.zeros([1, 1, encoder.hidden_size]).to(device) # 첫 hidden state: 0벡터 [0 0 0]\n",
        "\n",
        "        encoder_optimizer.zero_grad()\n",
        "        decoder_optimizer.zero_grad()\n",
        "\n",
        "        source_length = source_tensor.size(0)\n",
        "        target_length = target_tensor.size(0)\n",
        "\n",
        "        loss = 0\n",
        "\n",
        "        \n",
        "        for enc_input in range(source_length):\n",
        "            # 문장 끝날 때까지 루프 돌면서 hiddeen state를 꺼냄.\n",
        "            _, encoder_hidden = encoder(source_tensor[enc_input], encoder_hidden)\n",
        "\n",
        "        # encoder의 마지막 hidden state를 decoder의 첫 hidden state로. input으로 Start_Of_Token(sos)\n",
        "        decoder_input = torch.Tensor([[SOS_token]]).long().to(device)\n",
        "        decoder_hidden = encoder_hidden # connect encoder output to decoder input\n",
        "\n",
        "        for di in range(target_length):\n",
        "            decoder_output, decoder_hidden = decoder(decoder_input, decoder_hidden)\n",
        "            loss += criterion(decoder_output, target_tensor[di])\n",
        "            decoder_input = target_tensor[di]  # teacher forcing: 실제 값을 넣어줘서 훈련하는 방법이 있다. 빠르지만, 네트워크 학습이 불안정할 수 있다.\n",
        "\n",
        "        loss.backward()\n",
        "\n",
        "        encoder_optimizer.step()\n",
        "        decoder_optimizer.step()\n",
        "\n",
        "        loss_iter = loss.item() / target_length\n",
        "        loss_total += loss_iter\n",
        "\n",
        "        if i % print_every == 0:\n",
        "            loss_avg = loss_total / print_every\n",
        "            loss_total = 0\n",
        "            print(\"[{} - {}%] loss = {:05.4f}\".format(i, i / n_iter * 100, loss_avg))"
      ],
      "execution_count": null,
      "outputs": []
    }
  ]
}
