{
  "nbformat": 4,
  "nbformat_minor": 0,
  "metadata": {
    "colab": {
      "name": "lab10_1.ipynb",
      "provenance": [],
      "authorship_tag": "ABX9TyOI2/HC48eZR23fno2RFSBs",
      "include_colab_link": true
    },
    "kernelspec": {
      "name": "python3",
      "display_name": "Python 3"
    },
    "language_info": {
      "name": "python"
    }
  },
  "cells": [
    {
      "cell_type": "markdown",
      "metadata": {
        "id": "view-in-github",
        "colab_type": "text"
      },
      "source": [
        "<a href=\"https://colab.research.google.com/github/movie112/INU-DILAB/blob/main/lab10_1.ipynb\" target=\"_parent\"><img src=\"https://colab.research.google.com/assets/colab-badge.svg\" alt=\"Open In Colab\"/></a>"
      ]
    },
    {
      "cell_type": "markdown",
      "metadata": {
        "id": "EnJmdpswgGbU"
      },
      "source": [
        "# Lab_10_1: Convolution\n",
        "## contents\n",
        "- Convolution?\n",
        "- Neuron과 Convolution의 상관관계\n",
        "- Pooling\n",
        "---\n",
        "## Convolution?\n",
        "- 이미지 위에서 stride 값 만큼 filter(kernel)을 이동시키며   \n",
        "겹친 부분의 각 원소의 값을 곱해서 모두 더한 값을 출력하는 연산\n",
        "<img src=\"https://d2l.ai/_images/correlation.svg\" alt=\"convolution\"></img><br/>\n",
        "(0 * 0) + (1 * 1) +    \n",
        "(3 * 2) + (4 * 3) = 19\n",
        "\n",
        "> ### stride and padding\n",
        "> - stride: filter를 한 번에 얼마나 이동할 것인가\n",
        "> - padding: zero-padding\n",
        "<img src=\"https://classic.d2l.ai/_images/conv-pad.svg\" alt=\"convolution\"></img><br/>\n",
        "padding = 1\n",
        "</br>\n",
        "> ### nn.Conv2d\n",
        "> - convolution layer 생성\n",
        "> - torch.nn.Conv2d(in_channels, out_channels, kernel_size, stride=1, padding=0, bias=True)   \n",
        "<img src=\"https://encrypted-tbn0.gstatic.com/images?q=tbn:ANd9GcRlRJ6OEXVWfdBYjr9hqiXWcTHSKHiMYt40fA&usqp=CAU\"></img>\n",
        "filter example   \n",
        "> 입력 채널 1 / 출력 채널 1 / 커널 크기 3x3   \n",
        "> conv = nn.Conv2d(1, 1, 3)\n",
        "> </br> \n",
        "> - 입력의 형태   \n",
        "> input type: torch.Tensor   \n",
        "> input shape: (N x C x H x W) : (batch_size, channel, height, width)\n",
        "> </br>\n",
        "> - 출력의 크기\n",
        "<img src=\"https://1.bp.blogspot.com/-db1Bv-YnKTo/XkrIvCYFtEI/AAAAAAAAArA/2b0zbD29CQML4IKxp_1Zng_r0ioaOCZkgCEwYBhgL/s1600/appendix_C_conv_formula.png\"></img>\n",
        "\n",
        "\n",
        "\n",
        "\n"
      ]
    },
    {
      "cell_type": "code",
      "metadata": {
        "colab": {
          "base_uri": "https://localhost:8080/"
        },
        "id": "_Pw4OAJ-rKdM",
        "outputId": "6813fab2-70b4-4276-d145-481a1aedf35d"
      },
      "source": [
        "import torch\n",
        "import torch.nn as nn\n",
        "# 예제\n",
        "input = torch.Tensor(1, 1, 64, 32)\n",
        "conv = nn.Conv2d(1, 1, 3, stride=1, padding=1)\n",
        "output = conv(input)\n",
        "output.shape\n",
        "# 소수점은 버림"
      ],
      "execution_count": 10,
      "outputs": [
        {
          "output_type": "execute_result",
          "data": {
            "text/plain": [
              "torch.Size([1, 1, 64, 32])"
            ]
          },
          "metadata": {
            "tags": []
          },
          "execution_count": 10
        }
      ]
    },
    {
      "cell_type": "markdown",
      "metadata": {
        "id": "5SD6pfyQswg3"
      },
      "source": [
        "## Neuron과 Convolution의 상관관계\n",
        "- filter 값이 perceptron의 weight 값으로 들어감\n",
        "<img src=\"https://img1.daumcdn.net/thumb/R1280x0/?scode=mtistory2&fname=https%3A%2F%2Fblog.kakaocdn.net%2Fdn%2FTkvFb%2FbtqZoyEjyGV%2FUrw3W1aL7FORCocejc6olK%2Fimg.png\" height=\"300px\" width=\"400px\"></img><br/>\n",
        "\n",
        "## Pooling\n",
        "image size 줄이거나 fully connected 연산 대체(avg pooling)   \n",
        "<img src=\"https://img1.daumcdn.net/thumb/R1280x0/?scode=mtistory2&fname=https%3A%2F%2Fblog.kakaocdn.net%2Fdn%2FKscSr%2FbtqZqpmjJaD%2FPOXYidIHaeiVuDEf7adPg0%2Fimg.png\" height=\"300px\" width=\"400px\"></img>\n",
        "> - max pooling   \n",
        "> size 내에서 가장 큰 값 출력\n",
        "> torch.nn.MaxPool2d(kernel_size, stride=None, padding=0)\n",
        "> <img src=\"https://img1.daumcdn.net/thumb/R1280x0/?scode=mtistory2&fname=https%3A%2F%2Fblog.kakaocdn.net%2Fdn%2FlhIIP%2FbtqZkp9cukZ%2FpiGgPUrJL5d8Zx94W8NRQ1%2Fimg.png\" height=\"300px\" width=\"400px\"></img>"
      ]
    },
    {
      "cell_type": "code",
      "metadata": {
        "colab": {
          "base_uri": "https://localhost:8080/"
        },
        "id": "84Vfrg4pxH7B",
        "outputId": "3f841500-3c4d-4da5-d9da-851658f754fb"
      },
      "source": [
        "input = torch.Tensor(1, 1, 28, 28)\n",
        "conv1 = nn.Conv2d(1, 5, 5)\n",
        "pool = nn.MaxPool2d(2)\n",
        "out = conv1(input)\n",
        "out.size()"
      ],
      "execution_count": 14,
      "outputs": [
        {
          "output_type": "execute_result",
          "data": {
            "text/plain": [
              "torch.Size([1, 5, 24, 24])"
            ]
          },
          "metadata": {
            "tags": []
          },
          "execution_count": 14
        }
      ]
    },
    {
      "cell_type": "code",
      "metadata": {
        "colab": {
          "base_uri": "https://localhost:8080/"
        },
        "id": "-0bLjvKtyRKF",
        "outputId": "720b9251-e801-4af9-9edf-e2eb61d3c7c3"
      },
      "source": [
        "out2 = pool(out)\n",
        "out2.size()"
      ],
      "execution_count": 15,
      "outputs": [
        {
          "output_type": "execute_result",
          "data": {
            "text/plain": [
              "torch.Size([1, 5, 12, 12])"
            ]
          },
          "metadata": {
            "tags": []
          },
          "execution_count": 15
        }
      ]
    },
    {
      "cell_type": "markdown",
      "metadata": {
        "id": "YGmOzuJF03r_"
      },
      "source": [
        "- average pooling    \n",
        "size 내에서 평균 계산"
      ]
    }
  ]
}
