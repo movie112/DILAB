{
  "nbformat": 4,
  "nbformat_minor": 0,
  "metadata": {
    "colab": {
      "name": "lab_11_0.ipynb",
      "provenance": [],
      "authorship_tag": "ABX9TyM5XyBkRjXrVKvn1Y1SbydF",
      "include_colab_link": true
    },
    "kernelspec": {
      "name": "python3",
      "display_name": "Python 3"
    },
    "language_info": {
      "name": "python"
    }
  },
  "cells": [
    {
      "cell_type": "markdown",
      "metadata": {
        "id": "view-in-github",
        "colab_type": "text"
      },
      "source": [
        "<a href=\"https://colab.research.google.com/github/movie112/INU-DILAB/blob/main/lab_11_0.ipynb\" target=\"_parent\"><img src=\"https://colab.research.google.com/assets/colab-badge.svg\" alt=\"Open In Colab\"/></a>"
      ]
    },
    {
      "cell_type": "markdown",
      "metadata": {
        "id": "8WRL0BBFvMjq"
      },
      "source": [
        "# Lab_11_0: RNN intro\n",
        "## contents\n",
        "- RNN 구조 살펴보기\n",
        "- RNN으로 해결할 수 있는 문제\n",
        "---\n",
        "## RNN\n",
        "- RNN: sequential data를 다루기 위해서 도입되었다. \n",
        "- Sequential data: 데이터의 값 뿐 아니라 순서도 중요한 의미를 가지는 데이터\n",
        "  - ex) \"Hello\":  H-e-l-l-o 알파벳의 순서가 단어의 의미를 형성하는 데 중요한 역할을 한다\n",
        "- RNN 이전에는 position index를 사용해서 순서 파악: 복잡한 구조 파악에 어려움\n",
        "<img src=\"https://img1.daumcdn.net/thumb/R1280x0/?scode=mtistory2&fname=https%3A%2F%2Fblog.kakaocdn.net%2Fdn%2FbeSDi4%2FbtqCZ0wDX3c%2FTVWx1OPluyxbShiG98zlg1%2Fimg.png\" width=\"500px\" height=\"300px\"></img>\n",
        "\n",
        "1.   첫 번째 input x0가 cell_A에서 처리됨\n",
        "2.   output: h0 출력 / hidden state: 다음 cell로 전달\n",
        "3.   두 번째 output부터 이전 cell의 처리결과를 반영 -> 모델이 순서를 이해\n",
        "\n",
        "<img src=\"https://img1.daumcdn.net/thumb/R1280x0/?scode=mtistory2&fname=https%3A%2F%2Fblog.kakaocdn.net%2Fdn%2FdW32C1%2FbtqC3On1z7I%2FhEQ11cQDG3oIkpOoRBcxN1%2Fimg.png\" width=\"500px\" height=\"300px\"></img>\n",
        "- cell 내부에서는 함수연산(전 단계의 hidden state, 지금의 input 값)\n",
        "\n",
        "<img src=\"https://img1.daumcdn.net/thumb/R1280x0/?scode=mtistory2&fname=https%3A%2F%2Fblog.kakaocdn.net%2Fdn%2FdKih9w%2FbtqCZze1cYE%2FUVV02wpqGvDcxjH6cspsCK%2Fimg.png\" width=\"500px\" height=\"300px\"></img>\n",
        "\n"
      ]
    },
    {
      "cell_type": "code",
      "metadata": {
        "id": "8Xtq4srgvAQy"
      },
      "source": [
        ""
      ],
      "execution_count": null,
      "outputs": []
    }
  ]
}