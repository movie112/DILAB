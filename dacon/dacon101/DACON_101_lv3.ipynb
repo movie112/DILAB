{
  "nbformat": 4,
  "nbformat_minor": 0,
  "metadata": {
    "colab": {
      "name": "DACON_101_lv3.ipynb",
      "provenance": [],
      "authorship_tag": "ABX9TyNXINUPAdfYivD91ye5RE7u",
      "include_colab_link": true
    },
    "kernelspec": {
      "name": "python3",
      "display_name": "Python 3"
    },
    "language_info": {
      "name": "python"
    }
  },
  "cells": [
    {
      "cell_type": "markdown",
      "metadata": {
        "id": "view-in-github",
        "colab_type": "text"
      },
      "source": [
        "<a href=\"https://colab.research.google.com/github/movie112/INU-DILAB/blob/main/dacon/dacon101/DACON_101_lv3.ipynb\" target=\"_parent\"><img src=\"https://colab.research.google.com/assets/colab-badge.svg\" alt=\"Open In Colab\"/></a>"
      ]
    },
    {
      "cell_type": "markdown",
      "metadata": {
        "id": "geufhu-ZNDHt"
      },
      "source": [
        "# DACON_101: 머신러닝이 처음이라면 🤔   \n",
        "🏃‍♀️ [데이터 다운로드] 부터 ️[대회 제출] 까지 🏃‍♂\n",
        "## Lv3. 교차검증과 LGBM 모델을 활용한 와인 품질 분류하기\n",
        "---\n",
        "### - EDA -\n",
        "#### EDA 1/6 read_csv(), info(), shape, head()\n",
        "- EDA의 첫 번째 순서로 가장 기본적인 데이터 불러오기, 데이터 정보 관측하기, 데이터 크기 파악하기, 데이터 피쳐 알아보기 진행\n",
        "- csv 파일을 Pandas DataFrame class로 불러오기 위해 read_csv() 매서드를 활용"
      ]
    },
    {
      "cell_type": "code",
      "metadata": {
        "id": "850V7lOjNCYc"
      },
      "source": [
        "df = pd.read_csv(‘경로')"
      ],
      "execution_count": null,
      "outputs": []
    },
    {
      "cell_type": "markdown",
      "metadata": {
        "id": "FKtDH9-wNl5m"
      },
      "source": [
        "- info() 매서드: 데이터의 피쳐수와 컬럼명, 결측치여부, Dtype 에 대한 정보를 알아냄"
      ]
    },
    {
      "cell_type": "code",
      "metadata": {
        "id": "m4zMSvGQNsO1"
      },
      "source": [
        "df.info()"
      ],
      "execution_count": null,
      "outputs": []
    },
    {
      "cell_type": "markdown",
      "metadata": {
        "id": "-hITsuXWNsUF"
      },
      "source": [
        "- shape 속성: 데이터의 행갯수, 열갯수를 출력해 데이터의 크기 파악"
      ]
    },
    {
      "cell_type": "code",
      "metadata": {
        "id": "YPEh8vBwN0bl"
      },
      "source": [
        "df.shape"
      ],
      "execution_count": null,
      "outputs": []
    },
    {
      "cell_type": "markdown",
      "metadata": {
        "id": "7SVSLZXPN2Us"
      },
      "source": [
        "- head() 매서드: 데이터의 대략적인 정보 파악\n",
        "\n"
      ]
    },
    {
      "cell_type": "code",
      "metadata": {
        "id": "Pw3hIukYN1bd"
      },
      "source": [
        "df.head()"
      ],
      "execution_count": null,
      "outputs": []
    },
    {
      "cell_type": "markdown",
      "metadata": {
        "id": "3bPSWWtJOGym"
      },
      "source": [
        "#### EDA 2/6 결측치 유무 확인하기 isnull().sum()\n",
        "- EDA 과정에서 우선적으로 결측치의 유무에 대해서 반드시 파악 필요, 결측치가 없다면 다음과정으로 넘어가도 되지만, 존재한다면 이에 대한 조치 취함"
      ]
    },
    {
      "cell_type": "code",
      "metadata": {
        "id": "3BOc5opCOUqy"
      },
      "source": [
        "\tdf.isnull().sum()"
      ],
      "execution_count": null,
      "outputs": []
    },
    {
      "cell_type": "markdown",
      "metadata": {
        "id": "eNuIZ0rlOXMy"
      },
      "source": [
        "#### EDA 3/6 수치데이터 특성보기 (describe())\n",
        "- describe() 매서드: \n",
        "  - 다양한 통계량을 요약, DataFrame의 각 열에 대해 요약 수행\n",
        "  - 결측치는 제외하고 수치형 데이터에 한함\n",
        "  - 기본적으로 count, mean, std, min , 1 분위수, 2 분위수, 3 분위수, max 값이 출력\n"
      ]
    },
    {
      "cell_type": "code",
      "metadata": {
        "id": "oMQOVp1QOyQm"
      },
      "source": [
        "df.describe()"
      ],
      "execution_count": null,
      "outputs": []
    },
    {
      "cell_type": "markdown",
      "metadata": {
        "id": "OxuD1sK5O0wc"
      },
      "source": [
        "#### EDA 4/6 변수분포 시각화\n",
        "- 예측하고자 하는 변수인 종속변수(quality) 의 분포를 시각화하겠다.\n",
        "- matplotlib, seaborn 라이브러리로 시각화를 출력 가능, 시각화 결과를 통해 머신러닝 방향성을 잡을 수 있다."
      ]
    },
    {
      "cell_type": "code",
      "metadata": {
        "id": "34xM7EnDPW3W"
      },
      "source": [
        "import matplotlib\n",
        "import matplotlib.pyplot as plt\n",
        "import seaborn as sns"
      ],
      "execution_count": null,
      "outputs": []
    },
    {
      "cell_type": "markdown",
      "metadata": {
        "id": "xyq4cnwIPZz8"
      },
      "source": [
        "- 시각화를 진행할 때, 보통 copy()매서드로 복사본을 생성한 후 진행"
      ]
    },
    {
      "cell_type": "code",
      "metadata": {
        "id": "10YnWMf8PdzN"
      },
      "source": [
        "dfcopy = df.copy()"
      ],
      "execution_count": null,
      "outputs": []
    },
    {
      "cell_type": "markdown",
      "metadata": {
        "id": "31xix4VtPe0-"
      },
      "source": [
        "- seaborn 의 distplot() 매서드를 이용"
      ]
    },
    {
      "cell_type": "code",
      "metadata": {
        "id": "YzqjMRoGPg6X"
      },
      "source": [
        "sns.distplot(df['피쳐명'], kde=True, bins=None)\n",
        "df['피쳐명'] # 출력하고자 하는 컬럼\n",
        "kde          #'그래프에 선을 출력할지 여부'\n",
        "bins         #'출력할 막대그래프 갯수'"
      ],
      "execution_count": null,
      "outputs": []
    },
    {
      "cell_type": "markdown",
      "metadata": {
        "id": "GIncskquPtmt"
      },
      "source": [
        "- matplotlib 의 axis()매서드로 그래프 축의 최솟값, 최댓값 지정\n",
        "- matplotlib 의 title() 매서드로 그래프의 제목을 지정\n",
        "- matplotlib 의 show() 매서드로 그래프를 출력"
      ]
    },
    {
      "cell_type": "code",
      "metadata": {
        "id": "aWdLWtQePyAl"
      },
      "source": [
        "plt.axis(['x 축 최솟값, x 축 최댓값, y 축 최솟값, y 축 최댓값'])\n",
        "plt.title('제목')\n",
        "plt.show()"
      ],
      "execution_count": null,
      "outputs": []
    },
    {
      "cell_type": "markdown",
      "metadata": {
        "id": "7GOYWe8xPzlV"
      },
      "source": [
        "#### EDA 5/6 Matplotlib 선 그래프 그리기 (plot())\n",
        "- Matplotlib: 데이터 시각화 라이브러리\n",
        "- 라이브러리를 불러오고 plot() 매서드를 활용해서 선 그래프를 그려보자"
      ]
    },
    {
      "cell_type": "code",
      "metadata": {
        "id": "g4A9wrZDQISW"
      },
      "source": [
        "from matplotlib import pyplot as plt\n",
        "plt.plot(x, y)\n",
        "plt.show()"
      ],
      "execution_count": null,
      "outputs": []
    },
    {
      "cell_type": "markdown",
      "metadata": {
        "id": "PHL9OCzdQOqN"
      },
      "source": [
        "#### EDA 6/6 Matplotlib 히스토그램 그리기 (hist())\n",
        "- 히스토그램(Histogram): 도수분포표를 그래프로 나타낸 것"
      ]
    },
    {
      "cell_type": "code",
      "metadata": {
        "id": "Pf_wJY2AQOWW"
      },
      "source": [
        "from matplotlib.pyplot as plt\n",
        "plt.hist(x, y)\n",
        "plt.show()"
      ],
      "execution_count": null,
      "outputs": []
    },
    {
      "cell_type": "markdown",
      "metadata": {
        "id": "NcoBPpZYQYfN"
      },
      "source": [
        "---\n",
        "### - 전처리 -\n",
        "#### 전처리 1/4 이상치탐지\n",
        "- 이상치(Outlier)\n",
        "  - 이상(문제)이 있는 데이터, 일반적인 데이터 패턴과 매우 다른 패턴을 갖는 데이터\n",
        "  - 모델의 성능을 크게 하락시킴\n",
        "- 대표적인 방법은 IQR(Inter Qunatile Range)로, 사분위 값의 편차를 이용,이를 boxplot 그래프로 볼 수 있음\n"
      ]
    },
    {
      "cell_type": "code",
      "metadata": {
        "id": "FVMoSeVbQ7VH"
      },
      "source": [
        "import seaborn as sns\n",
        "sns.boxplot(data=train['fixed acidity'])"
      ],
      "execution_count": null,
      "outputs": []
    },
    {
      "cell_type": "markdown",
      "metadata": {
        "id": "_wbevBujQ8vF"
      },
      "source": [
        "#### 전처리 2/4 이상치 제거\n",
        "- IQR: 3분위수(75%에 위치한 값) - 1분위수(25%에 위치한 값)\n",
        "<img src=\"data:image/png;base64,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\" width=\"350ps\" height=\"200px\"></img>\n",
        "  - 10~8 사이의 실선 : 3분위수 + 1.5 * IQR\n",
        "  - 보라색 박스의 위쪽 실선 : 3분위수 (75%)\n",
        "  - 보라색 박스의 중앙 실선 : 2분위수 (중앙값)\n",
        "  - 보라색 박스의 아래 실선 : 1분위수 (25%)\n",
        "  - 4~6 사이의 실선 : 1분위수 - 1.5 * IQR\n",
        "  - 보라색 박스의 길이 : 3분위수 - 1분위수 = IQR\n",
        "- 즉, 우리는 이 boxplot의 4와 6사이의 실선보다 작고, 8과 10 사이의 실선보다 큰 데이터 포인트들을 이상치로 판단하고 제거해보겠다.\n"
      ]
    },
    {
      "cell_type": "code",
      "metadata": {
        "id": "d0ce8LIaSPoe"
      },
      "source": [
        "# 25%에 위치한 값\n",
        "quantile_25 = np.quantile(train['fixed acidity'], 0.25)\n",
        "# 75%에 위치한 값\n",
        "quantile_75 = np.quantile(train['fixed acidity'],0.75)\n",
        "# IQR\n",
        "IQR = quantile_75 - quantile_25\n",
        "# quantile_25보다 1.5 * IQR 작은 값\n",
        "minimum = quantile_25 - 1.5 * IQR\n",
        "# quantile_75보다 1.5 * IQR 큰 값\n",
        "maximum = quantile_75 + 1.5 * IQR\n",
        "\n",
        "# minimum보다 크거나 같고, maximum보다 작거나 같은 값들만 뽑아낸다\n",
        "train2 = train[(minimum <= train['fixed acidity']) & (train['fixed acidity'] <= maximum)]"
      ],
      "execution_count": null,
      "outputs": []
    },
    {
      "cell_type": "markdown",
      "metadata": {
        "id": "ZSW5Qe31SnHX"
      },
      "source": [
        "#### 전처리 3/4 수치형 데이터 정규화\n",
        "- 의사결정나무나, 랜덤포레스트 같은“트리 기반의 모델\"은 대소 비교를 통해서 구분해서 숫자의 단위에 크게 영향을 받지 않음\n",
        "-  Logistic Regression, Lasso 등과 같은“평활 함수 모델\"들은 숫자의 크기와 단위에 영향 많이 받음\n",
        "- __수치형 데이터 정규화__로모든 모델에 잘 어울리는 데이터 생성\n",
        "  -  \"Min Max Scailing\"기법\n",
        "    - 상당히 간단\n",
        "    - 가장 작은 값은 0으로, 가장 큰 값은 1로 만들어주는 방법, 그 사이의 값들은 비율에 따라서 0~1 사이에 분포\n",
        "    - 이상치에 민감: 상대적으로 굉장히 큰 값이나, 작은 값을 1이나 0으로 만들기 때문에 문제 발생"
      ]
    },
    {
      "cell_type": "code",
      "metadata": {
        "id": "I2KI8p3uTLjG"
      },
      "source": [
        "# describe를 통해 \"fixed acidity\"의 데이터의 분포가 어떻게 생겼는지 짐작\n",
        "train.describe()\n",
        "\n",
        "# seaborn의 displot을 통해 \"fixed acidity\"의 distplot을 그림\n",
        "sns.distplot(train['fixed acidity'])\n",
        "\n",
        "# MinMaxScaler를 \"scaler\"라는 변수에 지정\n",
        "scaler = MinMaxScaler()\n",
        "\n",
        "# \"scaler\" 학습\n",
        "scaler.fit(train[['fixed acidity']])\n",
        "\n",
        "# \"scaler\"를 통해 train의 \"fixed acidity\"를 바꾸어 \"Scaled fixed acidity\"라는 column에 저장\n",
        "train['Scaled fixed acidity'] = scaler.transform(train[['fixed acidity']])\n",
        "\n",
        "# seaborn의 displot을 통해 \"Scaled fixed acidity\"의 distplot을 그림\n",
        "sns.distplot(train['Scaled fixed acidity'])"
      ],
      "execution_count": null,
      "outputs": []
    },
    {
      "cell_type": "markdown",
      "metadata": {
        "id": "REtU7_gjTpEG"
      },
      "source": [
        "#### 전처리 4/4 원-핫 인코딩(One-Hot Encoding)\n",
        "- 컴퓨터는 '문자' 데이터를 학습할 수 없어서 'type'같은 feature는 컴퓨터가 읽어서 학습할 수 있도록 'encoding'을 해줘야 함\n",
        "- One-Hot Encoding:‘하나만 Hot 하고, 나머지는 Cold한 데이터', 즉, 자신에게 맞는 것은 1로, 나머지는 0으로 바꾸어 준다.\n",
        "  - example) “출신 지역\" 변수는 문자로 되어있어 컴퓨터가 이해할 수 없다. 숫자로 변경이 필요\n",
        "\n",
        "  <img src=\"data:image/png;base64,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\" width=\"110px\" height=\"150px\"></img>\n",
        "  ➜\n",
        "  <img src=\"data:image/png;base64,iVBORw0KGgoAAAANSUhEUgAAAcsAAACXCAYAAAB6OXB/AAAT8UlEQVR4Ae2czVUjuxZGOyOygBQ6AyK4CZDFnRPADYJ5TwmCMVO/9TXv0KJaP1+VVGVT2rWWl2yVdCRtbevYQPePCxcEIAABCEAAAlUCP6p3uQkBCEAAAhCAwIVkiQQQgAAEIACBBgGSZQMQtyEAAQhAAAIkSxyAAAQgAAEINAiQLBuAuA0BCEAAAhAgWeIABCAAAQhAoEGAZNkAxG0IQAACEIAAyRIHIAABCEAAAg0CJMsGIG5DAAIQgAAESJY4AAEIQAACEGgQIFk2AHEbAhCAAAQg0EyWP378uPCAAQ7gAA7gwJkdaH0csJJlKwj3IbCGgN5wXBAYSQCnRtKcL5bjT/PUcoLMh5YV9xDAqR569M0RwKkcFepcAo4/JEuXJu2GEXDEHDYYgaYggFNTbPNui3T8IVnuhp/AJQKOmKW+1EMgRwCnclSocwk4/pAsXZq0G0bAEXPYYASaggBOTbHNuy3S8YdkuRt+ApcIOGKW+lIPgRwBnMpRoc4l4PhDsnRp0m4YAUfMYYMRaAoCODXFNu+2SMcfkuVu+AlcIuCIWepLPQRyBHAqR4U6l4Djzy7J8u3t7fL4+HhROeJ6enq6vLy8dIfqmZfG15re39+757EMsGfs5Vi38NoRcznPnr1bxtLrszuVW7NT9/z8fNHju1049bFje54lrdh6T+XcGf3e3cNNx58hyVKANFjrkQMZC9c9wc5drYNNCUyJrDR+xK1tmkRI+z88PHxJ9i1RcvNO62r9a/c0Z80lnZueL+eXjnXrzzX/1oVTZUJy4ufPn5fX19dsI9Xrvtrlrlp/ca+9T3PxbqEOpz52oXaWtPZJfdNzJs7N6NeKrfY5d+TbyC9PMZ+RpeNP89RygiwnHQfdEvayXfpafUrtVa+Ncq+1m6axl8lHMVJx9Lznm2VNtNI9HXp3d3fZtauP5rSGi8tv73Y49eeD5RanaslOe0ey9AzmnPrDSefI8gwUn9TP5TklD3Mf5OPcjPOcZPmH8+ezOMDjgA+Qgt661CbgLtuqfk1SUPvcmLlNi2+ly/jLA2kpynKOrde1/qV7NSYaT/dz62zN5dr31yRLsVF7nPqza61DSryWB9+f3pff3zhL30xxKiX19/Pae/K7nlOlM3BZXzqngtKaczf63ErpnEnd3yzj248G00NA0yu9rwNPr3OXQJfe4GskjA3OJZFcslwmxZhbxIn1tESJfqVS/UvrK8VWfY6pxqjdK83hVupbYqbO5Naf3p/RqZKzsb/iU/sxbLiTe4+cNVmmzuBUmPJR1nxKE2DpnFKUOC9zTuXO3a8zuP6r1pmkGXYnyxHLlMj//PPP5d9///0r2Sr+mmSpjVFSSn98EHPMbVpsskRIL9VrTpqbrpooab/Sc60hPdj1WhsUj9x8FSvWE+2iLCXe0vi3VK817H2d2Sk5UfpmKK5aeylZhu///fdf9vdIOuzCMTn6XS6c2n5OhRO5M1DnUtTXzkA5p/MtzrF4HS7d+nnl+NM8tWpBSgd5AMqVS2hpUkqfp2/SNclSG3p/f//7oQ1Lr1yy1H0dEMt5LZOZ1hIipDGd53G4aV65T141CZ34360NTrU/JNX21HnfLX2OePIvkmD6PL2fczTu32qJU31O6QxaOiMP0jOvdE6Fj7ovt8KvcKV07sb9Wyhr/sT8upJlBFmWLpz4RJO+OZXglFTSRCf42ojWFfHUNncQ1OalPgIWj6U4up+K05pLej+k+/XrV/YT/zK22sc83DJlmI59i8+1prVXbe/SWOFAyuOMTqVrdp+Hh2IU1/JwU5uUXbS79RKnPnZoeZas2bflGbhMernY0Sd1Rv3S89N9766Z6+i2jj/NU8sJIhiCo7alxzLR5A61AKDDLf0xkpsstWGxwRFfmxnXNTZN46c/fk3nGPPKSRj30lJ9UynTe9/pOU4dv1s1x/SeCa++q2M4tb9TS4d0TutsU/3ykkdx5l/j3F3Op/Xa8WdIsmxNRFD1+7/0E22rT3rfSZbanPTTjPovv1HUNk0bXkr0UR+bn86t9jxiLmXSeiKpq7/u52JrTTF2qVSb73ZpLb3XjE45H0qXnizfEy3u8gmn/nzzbvFK73/XcyrWoPdU+iUl6qMsnVO6r7WXvKmduxH72qVzJjVPLSeI8ybOJYMAVNuE2Ihlwom+KmubnN7r2bTWHNP56Hnum23aJpVrbeyIk8aIuu9Q4tTHLm3d9+Uer/G61fbMyZJzamnO19fpWfn1zsermq+1s6jlXG6so+ucM2lYsqz9dV5r4bVNaPVdc79n0/acYym2Di5tYu1R+jS3hsvRbR0xtVc45e3MGq/XtPVGv41WOPWxD6WzxNmlVrKsxagly1q/W7nn+EOyNHerR8LWEKXYSoSS8GyXIybJ0t/1NQlwTVt/BtdviVMfe1A6S5wdIlnWKQ1Llq0/8JHM2sjcpXrdrz1qP8bNxczV9RwUPRLm5pLWlWI73yxHcEnncsRz92DDKW831nitti2ua3/P6c1y31Y49cG3dJY49JUs9Qc7tXM4/WPFNKY+1Nf66d4t/xTM8WdIskyh8RwCLQKOmK0Y3IdASgCnUho8X0vA8YdkuZZq8l/NCXDpoU94XHkCjpj5nuetlS8ll6Iep8r7j1N/s8Gpv5mUahx/SJYletTvRsARc7fBCXxKAjh1ym09bFGOPyTLw7aDgYKAI2a0pYSAQwCnHEq0KRFw/CFZluhRvxsBR8zdBifwKQng1Cm39bBFOf6QLA/bDgYKAo6Y0ZYSAg4BnHIo0aZEwPGHZFmiR/1uBBwxdxucwKckgFOn3NbDFuX4Q7I8bDsYKAg4YkZbSgg4BHDKoUSbEgHHH5JliR71uxFwxNxtcAKfkgBOnXJbD1uU44+VLBWIBwxwAAdwAAfO6kArM1vJshWE+xBYQ0BvNi4IjCSAUyNpzhfL8ad5ajlB5kPLinsI4FQPPfrmCOBUjgp1LgHHH5KlS5N2wwg4Yg4bjEBTEMCpKbZ5t0U6/pAsd8NP4BIBR8xSX+ohkCOAUzkq1LkEHH9Ili5N2g0j4Ig5bDACTUEAp6bY5t0W6fhDstwNP4FLBBwxS32ph0COAE7lqFDnEnD8IVm6NGk3jIAj5rDBCDQFAZyaYpt3W6TjD8lyN/wELhFwxCz1pR4COQI4laNCnUvA8Ydk6dKk3TACjpjDBiPQFARwaopt3m2Rjj8ky93wE7hEwBGz1Jd6COQI4FSOCnUuAcefocny+fn58vT05M6PdpMScMSUR2qnx8PDw+Xt7W1SWizbIYBTDiXalAg4/gxLlkqUGpBkWdoO6oNAS0y5lCZIOfX4+Hh5f3+PEJQQ+EIAp77g4MVKAi1/FK47WeoA00F2d3d3ub+/J1mu3KQZm9fE1DdIJcqXl5dPNLm6z5s8gYAOssr/N5zzJ1cHyHkJ1PwJKt3JUodafOrXNwC+WQZayhKBmpivr6+/P3SpTC95pW+cXBDIEcCpHBXqXAI1fyJGd7KMQCpJlikNnpcI1MTUh6/0R7ARA7eCBGWOAE7lqFDnEqj5EzFIlkGC8jACNTFJlodtw6kGwqlTbefhi6n5E5MhWQYJysMI1MQkWR62DacaCKdOtZ2HL6bmT0yGZBkkKA8jUBOT31ketg2nGginTrWdhy+m5k9MhmQZJCgPI1ATM/dXirm6wybLQN+CAE59i2262UnW/IlJkyyDBOVhBFpi8u8sD9uK0wyEU6fZyqsspOWPJkWyvMrWzD2oI6b++lXt9Mj9dezcBFn9kgBOLYnweg0Bx5+hyXLN5Gg7LwFHzHnpsPItBHBqCzX6BAHHH5Jl0KI8jIAj5mGTYaBTEMCpU2zj1Rbh+EOyvNr2zDuwI+a8dFj5FgI4tYUafYKA4w/JMmhRHkbAEfOwyTDQKQjg1Cm28WqLcPwhWV5te+Yd2BFzXjqsfAsBnNpCjT5BwPGHZBm0KA8j4Ih52GQY6BQEcOoU23i1RTj+kCyvtj3zDuyIOS8dVr6FAE5toUafIOD4Q7IMWpSHEXDEPGwyDHQKAjh1im282iIcf0iWV9ueeQd2xJyXDivfQgCntlCjTxBw/CFZBi3Kwwg4Yh42GQY6BQGcOsU2Xm0Rjj9WslQgHjDAARzAARw4qwOtTG0ly1YQ7kNgDQG92bggMJIATo2kOV8sx5/mqeUEmQ8tK+4hgFM99OibI4BTOSrUuQQcf0iWLk3aDSPgiDlsMAJNQQCnptjm3Rbp+EOy3A0/gUsEHDFLfamHQI4ATuWoUOcScPwhWbo0aTeMgCPmsMEINAUBnJpim3dbpOMPyXI3/AQuEXDELPWlHgI5AjiVo0KdS8Dxh2Tp0qTdMAKOmMMGI9AUBHBqim3ebZGOPyTL3fATuETAEbPUl3oI5AjgVI4KdS4Bxx+SpUuTdsMIOGIOG4xAUxDAqSm2ebdFOv6QLHfDT+ASAUfMUl/qIZAjgFM5KtS5BBx/hiTLp6enz/8O7+Hh4fL29ubOkXYTEnDEDCzPz88X+cUFgRoBxynOqRrBue85/nQnSx1maYKUkI+Pj5f39/e56bP6IgFHTHWWW2pLsiyi5Mb/CbSc4pxClRqBlj/q25Us9Q1SifLl5eVzHrm6z5s8gYCka/zfsPqgpQ9cd3d3l/v7e5Il1jQJ1JzKnUm5uuYgNDgtgZo/seiuZPn6+vr7MFOZXvomoE9yXBDIEWiJqQ9f8dMJucQ3yxxF6lICNac4p1JSPM8RqPkT7buSpQ619EewEZQDLkhQ5gg4YkY/XAoSlDUCNac4p2rkuCcCNX+CEMkySFAeRsARMyZDsgwSlDUCNadIljVy3BOBmj9BiGQZJCgPI+CIGZMhWQYJyhqBmlMkyxo57olAzZ8g1JUs+V1AYKRcQ8ARM+KRLIMEZY1AzSnOqRo57olAzZ8g1JUsc39RlquLwSghIAKOmEGKZBkkKGsEak7lzqRcXS0+985NoOZPrLwrWSoI/34pUFK6BBwxIxbJMkhQ1gi0nOKcqtHjXssfEepOlgqiA02D6ZH761i2AgIpAUfMaE+yDBKUNQKOU5xTNYJz33P8GZIs58bM6tcScMRcG5P2cxPAqbn3v3f1jj8ky17K9F9NwBFzdVA6TE0Ap6be/u7FO/6QLLsxE2AtAUfMtTFpPzcBnJp7/3tX7/hDsuylTP/VBBwxVwelw9QEcGrq7e9evOMPybIbMwHWEnDEXBuT9nMTwKm597939Y4/JMteyvRfTcARc3VQOkxNAKem3v7uxTv+kCy7MRNgLQFHzLUxaT83AZyae/97V+/4Q7LspUz/1QQcMVcHpcPUBHBq6u3vXrzjD8myGzMB1hJwxFwbk/ZzE8Cpufe/d/WOPyTLXsr0X03AEXN1UDpMTQCnpt7+7sU7/ljJUoF4wAAHcAAHcOCsDrQyrpUsW0G4D4E1BPRm44LASAI4NZLmfLEcf5qnlhNkPrSsuIcATvXQo2+OAE7lqFDnEnD8IVm6NGk3jIAj5rDBCDQFAZyaYpt3W6TjD8lyN/wELhFwxCz1pR4COQI4laNCnUvA8Ydk6dKk3TACjpjDBiPQFARwaopt3m2Rjj8ky93wE7hEwBGz1Jd6COQI4FSOCnUuAccfkqVLk3bDCDhiDhuMQFMQwKkptnm3RTr+kCx3w0/gEgFHzFJf6iGQI4BTOSrUuQQcf0iWLk3aDSPgiDlsMAJNQQCnptjm3Rbp+EOy3A0/gUsEHDFLfamHQI4ATuWoUOcScPwZkiyfnp4+/zu8h4eHy9vbmztH2k1IwBETpyYUo2PJjlMR/vn5+SK/uCAQBBx/upOlxEsTpCR8fHy8vL+/xzwoIfCFQEtMnPqCixcGgZZTEUJuqS3JMohQioDjT1ey1DdIJcqXl5dP4rm6z5s8gUBDzJw/uTpAQiAl0Drs9OFdH+Lv7u4u9/f3JMsUHs/3T5avr6+/xVOZXvrUpk9wXBDIEagdbDiVI0Zdi0DNKfXVB/r4iZfOJ75ZtojOdb/lj2h0fbOUgOmPYAMvMgYJyhyBmpg4lSNGXYtAzallX86nJRFeO/6QLPHkcAI1MUmWh2/HKQasObVcIMlySYTXjj8kSzw5nEBNTJLl4dtxigFrTi0XSLJcEuG1409XsuT3S0i2hUBNTJzaQpQ+NaeWdEiWSyK8dvzpSpa5v1LM1bEVEEgJ1MTM+ZOrS+PxHAI1p5Z0SJZLIrx2/OlKlkLMv4lDtLUEWmLi1FqitG85lRIiWaY0eC4Cjj/dyVIDST4Npkfur2PZDgikBBwxcSolxvMWAcepiEGyDBKUQcDxZ0iyjAEpIeAQcMR04tAGAkEAp4IE5RYCjj8kyy1k6dNFwBGzawA6T0cAp6bb8qELdvwhWQ5FTjCHgCOmE4c2EAgCOBUkKLcQcPwhWW4hS58uAo6YXQPQeToCODXdlg9dsOMPyXIocoI5BBwxnTi0gUAQwKkgQbmFgOMPyXILWfp0EXDE7BqAztMRwKnptnzogh1/SJZDkRPMIeCI6cShDQSCAE4FCcotBBx/SJZbyNKni4AjZtcAdJ6OAE5Nt+VDF+z4Q7IcipxgDgFHTCcObSAQBHAqSFBuIeD4Q7LcQpY+XQQcMbsGoPN0BHBqui0fumDHHytZKhAPGOAADuAADpzVgVb2bSbLVgDuQwACEIAABM5OgGR59h1mfRCAAAQg0E2AZNmNkAAQgAAEIHB2AiTLs+8w64MABCAAgW4CJMtuhASAAAQgAIGzEyBZnn2HWR8EIAABCHQTIFl2IyQABCAAAQicnQDJ8uw7zPogAAEIQKCbAMmyGyEBIAABCEDg7ARIlmffYdYHAQhAAALdBP4HX7EINApjuHwAAAAASUVORK5CYII=\" width=\"400px\" height=\"150px\"></img>"
      ]
    }
  ]
}