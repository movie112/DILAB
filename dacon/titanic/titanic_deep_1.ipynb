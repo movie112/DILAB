{
  "nbformat": 4,
  "nbformat_minor": 0,
  "metadata": {
    "colab": {
      "name": "titanic_deep_1.ipynb",
      "provenance": [],
      "mount_file_id": "10XExTaoHafM_RsjNIdUxZgKadIACzhQQ",
      "authorship_tag": "ABX9TyMYZBbNsIwstBDmZR4LLdne",
      "include_colab_link": true
    },
    "kernelspec": {
      "name": "python3",
      "display_name": "Python 3"
    },
    "language_info": {
      "name": "python"
    }
  },
  "cells": [
    {
      "cell_type": "markdown",
      "metadata": {
        "id": "view-in-github",
        "colab_type": "text"
      },
      "source": [
        "<a href=\"https://colab.research.google.com/github/movie112/INU-DILAB/blob/main/dacon/titanic/titanic_deep_1.ipynb\" target=\"_parent\"><img src=\"https://colab.research.google.com/assets/colab-badge.svg\" alt=\"Open In Colab\"/></a>"
      ]
    },
    {
      "cell_type": "markdown",
      "metadata": {
        "id": "P5xrSVTMsnUZ"
      },
      "source": [
        "# [재난] 타이타닉: 누가 살아남았을까?   \n",
        "- 참고: [blog_Titanic 생존자 예측 심화편#1](https://blog.naver.com/fkdldjs60/221919606816)\n",
        "- 범주형데이터 전처리\n",
        "  - 간단하게 분류되는 데이터\n",
        "- 기존 변수 조합\n"
      ]
    },
    {
      "cell_type": "code",
      "metadata": {
        "id": "nszJlVJ9skow"
      },
      "source": [
        "import pandas as pd\n",
        "import seaborn as sns"
      ],
      "execution_count": 41,
      "outputs": []
    },
    {
      "cell_type": "code",
      "metadata": {
        "colab": {
          "base_uri": "https://localhost:8080/"
        },
        "id": "6MwmEgomtQ3K",
        "outputId": "422f35b1-8d58-4d24-8511-863ad6514ac9"
      },
      "source": [
        "cd drive/MyDrive/data/titanic"
      ],
      "execution_count": 42,
      "outputs": [
        {
          "output_type": "stream",
          "text": [
            "[Errno 2] No such file or directory: 'drive/MyDrive/data/titanic'\n",
            "/content/drive/MyDrive/data/titanic\n"
          ],
          "name": "stdout"
        }
      ]
    },
    {
      "cell_type": "code",
      "metadata": {
        "colab": {
          "base_uri": "https://localhost:8080/"
        },
        "id": "-nJYfbCWtV2N",
        "outputId": "37a794bb-90bd-4bc7-f8d9-44bb3237127d"
      },
      "source": [
        "train = pd.read_csv('train.csv')\n",
        "print(train.shape)"
      ],
      "execution_count": 43,
      "outputs": [
        {
          "output_type": "stream",
          "text": [
            "(891, 12)\n"
          ],
          "name": "stdout"
        }
      ]
    },
    {
      "cell_type": "code",
      "metadata": {
        "colab": {
          "base_uri": "https://localhost:8080/"
        },
        "id": "EBZYu0ohtXSE",
        "outputId": "ee668bfa-3e28-4b2a-da97-ac9b2d4e20f0"
      },
      "source": [
        "test = pd.read_csv('test.csv')\n",
        "print(test.shape)"
      ],
      "execution_count": 44,
      "outputs": [
        {
          "output_type": "stream",
          "text": [
            "(418, 11)\n"
          ],
          "name": "stdout"
        }
      ]
    },
    {
      "cell_type": "code",
      "metadata": {
        "id": "ivFKybX_tYzL"
      },
      "source": [
        "train['Sex_encode'] = train['Sex'].replace('male', 0).replace('female', 1)\n",
        "test['Sex_encode'] = train['Sex'].replace('male', 0).replace('female', 1)"
      ],
      "execution_count": 47,
      "outputs": []
    },
    {
      "cell_type": "markdown",
      "metadata": {
        "id": "Z8VlEN4Yt10d"
      },
      "source": [
        "---\n",
        "## 범주형데이터 전처리\n",
        "#### 선착장데이터 처리\n",
        "- 범주형데이터는 0, 1로 만드는 것이 좋음\n",
        "- 새로운 변수를 True, False 값만 갖도록 만든다."
      ]
    },
    {
      "cell_type": "code",
      "metadata": {
        "colab": {
          "base_uri": "https://localhost:8080/",
          "height": 204
        },
        "id": "lqCTFNZ_uLhu",
        "outputId": "345691f5-333e-4004-8cb2-913f7573faa0"
      },
      "source": [
        "train['Embarked_Q'] = train['Embarked'] == 'Q'\n",
        "train['Embarked_S'] = train['Embarked'] == 'S'\n",
        "train['Embarked_C'] = train['Embarked'] == 'C'\n",
        "\n",
        "train[['Embarked', 'Embarked_Q', 'Embarked_S', 'Embarked_C']].head()"
      ],
      "execution_count": 48,
      "outputs": [
        {
          "output_type": "execute_result",
          "data": {
            "text/html": [
              "<div>\n",
              "<style scoped>\n",
              "    .dataframe tbody tr th:only-of-type {\n",
              "        vertical-align: middle;\n",
              "    }\n",
              "\n",
              "    .dataframe tbody tr th {\n",
              "        vertical-align: top;\n",
              "    }\n",
              "\n",
              "    .dataframe thead th {\n",
              "        text-align: right;\n",
              "    }\n",
              "</style>\n",
              "<table border=\"1\" class=\"dataframe\">\n",
              "  <thead>\n",
              "    <tr style=\"text-align: right;\">\n",
              "      <th></th>\n",
              "      <th>Embarked</th>\n",
              "      <th>Embarked_Q</th>\n",
              "      <th>Embarked_S</th>\n",
              "      <th>Embarked_C</th>\n",
              "    </tr>\n",
              "  </thead>\n",
              "  <tbody>\n",
              "    <tr>\n",
              "      <th>0</th>\n",
              "      <td>S</td>\n",
              "      <td>False</td>\n",
              "      <td>True</td>\n",
              "      <td>False</td>\n",
              "    </tr>\n",
              "    <tr>\n",
              "      <th>1</th>\n",
              "      <td>C</td>\n",
              "      <td>False</td>\n",
              "      <td>False</td>\n",
              "      <td>True</td>\n",
              "    </tr>\n",
              "    <tr>\n",
              "      <th>2</th>\n",
              "      <td>S</td>\n",
              "      <td>False</td>\n",
              "      <td>True</td>\n",
              "      <td>False</td>\n",
              "    </tr>\n",
              "    <tr>\n",
              "      <th>3</th>\n",
              "      <td>S</td>\n",
              "      <td>False</td>\n",
              "      <td>True</td>\n",
              "      <td>False</td>\n",
              "    </tr>\n",
              "    <tr>\n",
              "      <th>4</th>\n",
              "      <td>S</td>\n",
              "      <td>False</td>\n",
              "      <td>True</td>\n",
              "      <td>False</td>\n",
              "    </tr>\n",
              "  </tbody>\n",
              "</table>\n",
              "</div>"
            ],
            "text/plain": [
              "  Embarked  Embarked_Q  Embarked_S  Embarked_C\n",
              "0        S       False        True       False\n",
              "1        C       False       False        True\n",
              "2        S       False        True       False\n",
              "3        S       False        True       False\n",
              "4        S       False        True       False"
            ]
          },
          "metadata": {
            "tags": []
          },
          "execution_count": 48
        }
      ]
    },
    {
      "cell_type": "code",
      "metadata": {
        "id": "6aSVqJQVuzq8"
      },
      "source": [
        "test['Embarked_Q'] = test['Embarked'] == 'Q'\n",
        "test['Embarked_S'] = test['Embarked'] == 'S'\n",
        "test['Embarked_C'] = test['Embarked'] == 'C'"
      ],
      "execution_count": 49,
      "outputs": []
    },
    {
      "cell_type": "markdown",
      "metadata": {
        "id": "TpGuVqBRuzXl"
      },
      "source": [
        "---\n",
        "## 기존 변수 조합\n",
        "#### SibSp, Parch 조합\n",
        "- SibSp: 동승한 형제/자매\n",
        "- Parch: 동승한 부모 및 자녀 수\n",
        "- Family: 가족 수\n",
        "  - SibSp + Parch + 1(본인)"
      ]
    },
    {
      "cell_type": "code",
      "metadata": {
        "id": "O_VNtEkBvbTE"
      },
      "source": [
        "train['Family'] = train['SibSp'] + train['Parch'] +1"
      ],
      "execution_count": 50,
      "outputs": []
    },
    {
      "cell_type": "code",
      "metadata": {
        "id": "XRB8wuYQv3Sf"
      },
      "source": [
        "test['Family'] = test['SibSp'] + test['Parch'] +1"
      ],
      "execution_count": 51,
      "outputs": []
    },
    {
      "cell_type": "code",
      "metadata": {
        "colab": {
          "base_uri": "https://localhost:8080/",
          "height": 297
        },
        "id": "KC0Y7sBcwMd_",
        "outputId": "40a3ba21-43b5-4b43-8419-cdb84802689c"
      },
      "source": [
        "sns.countplot(data=train, x='Family', hue='Survived')"
      ],
      "execution_count": 52,
      "outputs": [
        {
          "output_type": "execute_result",
          "data": {
            "text/plain": [
              "<matplotlib.axes._subplots.AxesSubplot at 0x7f21daddc090>"
            ]
          },
          "metadata": {
            "tags": []
          },
          "execution_count": 52
        },
        {
          "output_type": "display_data",
          "data": {
            "image/png": "[encoded data removed]",
            "text/plain": [
              "<Figure size 432x288 with 1 Axes>"
            ]
          },
          "metadata": {
            "tags": [],
            "needs_background": "light"
          }
        }
      ]
    },
    {
      "cell_type": "markdown",
      "metadata": {
        "id": "etaPLjTBwVVq"
      },
      "source": [
        "__총 가족수가 1명인 탑승자가 가장 많고 생존자도 가장 많지만 생존율은 그다지 크지 않다__  \n",
        "\n",
        "__가족수가 2, 3, 4명인 탑승자는 1명인 탑승자에 비해 적으나 생존율은 더 높고, 가족수가 5, 6, 7, 8, 11명인 탑승자는 그 수가 비교적 적고 생존율도 희박.__\n",
        "\n",
        "\n"
      ]
    },
    {
      "cell_type": "markdown",
      "metadata": {
        "id": "ofjdT5-kwtUy"
      },
      "source": [
        "#### 1명이면 Single, 총 가족수가 2 ~ 4명이면 Nuclear, 총가족수가 5명 이상이면 Big으로 변환 함수 정의"
      ]
    },
    {
      "cell_type": "code",
      "metadata": {
        "id": "nvIlLVcYws6s"
      },
      "source": [
        "def Family_type(Family):\n",
        "  if Family == 1:\n",
        "    return 'Single'\n",
        "  elif Family > 1 and Family < 5:\n",
        "    return 'Nuclear'\n",
        "  else:\n",
        "    return 'Big'"
      ],
      "execution_count": 53,
      "outputs": []
    },
    {
      "cell_type": "markdown",
      "metadata": {
        "id": "KNKX6cE4xI9G"
      },
      "source": [
        "#### 함수적용: apply"
      ]
    },
    {
      "cell_type": "code",
      "metadata": {
        "colab": {
          "base_uri": "https://localhost:8080/",
          "height": 204
        },
        "id": "o8Gz1lRvxM34",
        "outputId": "b3c59503-27d2-46ca-b395-b18debb7e079"
      },
      "source": [
        "train['Family_type'] = train['Family'].apply(Family_type)\n",
        "train[['Family_type', 'Family']].head()"
      ],
      "execution_count": 54,
      "outputs": [
        {
          "output_type": "execute_result",
          "data": {
            "text/html": [
              "<div>\n",
              "<style scoped>\n",
              "    .dataframe tbody tr th:only-of-type {\n",
              "        vertical-align: middle;\n",
              "    }\n",
              "\n",
              "    .dataframe tbody tr th {\n",
              "        vertical-align: top;\n",
              "    }\n",
              "\n",
              "    .dataframe thead th {\n",
              "        text-align: right;\n",
              "    }\n",
              "</style>\n",
              "<table border=\"1\" class=\"dataframe\">\n",
              "  <thead>\n",
              "    <tr style=\"text-align: right;\">\n",
              "      <th></th>\n",
              "      <th>Family_type</th>\n",
              "      <th>Family</th>\n",
              "    </tr>\n",
              "  </thead>\n",
              "  <tbody>\n",
              "    <tr>\n",
              "      <th>0</th>\n",
              "      <td>Nuclear</td>\n",
              "      <td>2</td>\n",
              "    </tr>\n",
              "    <tr>\n",
              "      <th>1</th>\n",
              "      <td>Nuclear</td>\n",
              "      <td>2</td>\n",
              "    </tr>\n",
              "    <tr>\n",
              "      <th>2</th>\n",
              "      <td>Single</td>\n",
              "      <td>1</td>\n",
              "    </tr>\n",
              "    <tr>\n",
              "      <th>3</th>\n",
              "      <td>Nuclear</td>\n",
              "      <td>2</td>\n",
              "    </tr>\n",
              "    <tr>\n",
              "      <th>4</th>\n",
              "      <td>Single</td>\n",
              "      <td>1</td>\n",
              "    </tr>\n",
              "  </tbody>\n",
              "</table>\n",
              "</div>"
            ],
            "text/plain": [
              "  Family_type  Family\n",
              "0     Nuclear       2\n",
              "1     Nuclear       2\n",
              "2      Single       1\n",
              "3     Nuclear       2\n",
              "4      Single       1"
            ]
          },
          "metadata": {
            "tags": []
          },
          "execution_count": 54
        }
      ]
    },
    {
      "cell_type": "code",
      "metadata": {
        "id": "lLshAraYxemZ"
      },
      "source": [
        "test['Family_type'] = test['Family'].apply(Family_type)"
      ],
      "execution_count": 55,
      "outputs": []
    },
    {
      "cell_type": "markdown",
      "metadata": {
        "id": "bQgV2nwXxn3F"
      },
      "source": [
        "#### 범주형데이터 처리"
      ]
    },
    {
      "cell_type": "code",
      "metadata": {
        "colab": {
          "base_uri": "https://localhost:8080/",
          "height": 204
        },
        "id": "QWgUIg3Gxt3d",
        "outputId": "3cf20759-6257-4728-d7f8-a17125fb14d0"
      },
      "source": [
        "train['Single'] = train['Family_type'] == 'Single'\n",
        "train['Nuclear'] = train['Family_type'] == 'Nuclear'\n",
        "train['Big'] = train['Family_type'] == 'Big'\n",
        "\n",
        "train[['Family_type', 'Single', 'Nuclear', 'Big']].head()"
      ],
      "execution_count": 56,
      "outputs": [
        {
          "output_type": "execute_result",
          "data": {
            "text/html": [
              "<div>\n",
              "<style scoped>\n",
              "    .dataframe tbody tr th:only-of-type {\n",
              "        vertical-align: middle;\n",
              "    }\n",
              "\n",
              "    .dataframe tbody tr th {\n",
              "        vertical-align: top;\n",
              "    }\n",
              "\n",
              "    .dataframe thead th {\n",
              "        text-align: right;\n",
              "    }\n",
              "</style>\n",
              "<table border=\"1\" class=\"dataframe\">\n",
              "  <thead>\n",
              "    <tr style=\"text-align: right;\">\n",
              "      <th></th>\n",
              "      <th>Family_type</th>\n",
              "      <th>Single</th>\n",
              "      <th>Nuclear</th>\n",
              "      <th>Big</th>\n",
              "    </tr>\n",
              "  </thead>\n",
              "  <tbody>\n",
              "    <tr>\n",
              "      <th>0</th>\n",
              "      <td>Nuclear</td>\n",
              "      <td>False</td>\n",
              "      <td>True</td>\n",
              "      <td>False</td>\n",
              "    </tr>\n",
              "    <tr>\n",
              "      <th>1</th>\n",
              "      <td>Nuclear</td>\n",
              "      <td>False</td>\n",
              "      <td>True</td>\n",
              "      <td>False</td>\n",
              "    </tr>\n",
              "    <tr>\n",
              "      <th>2</th>\n",
              "      <td>Single</td>\n",
              "      <td>True</td>\n",
              "      <td>False</td>\n",
              "      <td>False</td>\n",
              "    </tr>\n",
              "    <tr>\n",
              "      <th>3</th>\n",
              "      <td>Nuclear</td>\n",
              "      <td>False</td>\n",
              "      <td>True</td>\n",
              "      <td>False</td>\n",
              "    </tr>\n",
              "    <tr>\n",
              "      <th>4</th>\n",
              "      <td>Single</td>\n",
              "      <td>True</td>\n",
              "      <td>False</td>\n",
              "      <td>False</td>\n",
              "    </tr>\n",
              "  </tbody>\n",
              "</table>\n",
              "</div>"
            ],
            "text/plain": [
              "  Family_type  Single  Nuclear    Big\n",
              "0     Nuclear   False     True  False\n",
              "1     Nuclear   False     True  False\n",
              "2      Single    True    False  False\n",
              "3     Nuclear   False     True  False\n",
              "4      Single    True    False  False"
            ]
          },
          "metadata": {
            "tags": []
          },
          "execution_count": 56
        }
      ]
    },
    {
      "cell_type": "code",
      "metadata": {
        "id": "EmH_ieIbyTnj"
      },
      "source": [
        "test['Single'] = test['Family_type'] == 'Single'\n",
        "test['Nuclear'] = test['Family_type'] == 'Nuclear'\n",
        "test['Big'] = test['Family_type'] == 'Big'"
      ],
      "execution_count": 57,
      "outputs": []
    },
    {
      "cell_type": "markdown",
      "metadata": {
        "id": "MsmIVBASyapj"
      },
      "source": [
        "---\n",
        "#### 상관관계"
      ]
    },
    {
      "cell_type": "code",
      "metadata": {
        "colab": {
          "base_uri": "https://localhost:8080/"
        },
        "id": "tu1ZXM0LyZ_N",
        "outputId": "a85ca5c4-9a7a-4fe9-c4f3-9dc04f7e278e"
      },
      "source": [
        "corr = train.corr()\n",
        "corr['Survived']"
      ],
      "execution_count": 58,
      "outputs": [
        {
          "output_type": "execute_result",
          "data": {
            "text/plain": [
              "PassengerId   -0.005007\n",
              "Survived       1.000000\n",
              "Pclass        -0.338481\n",
              "Age           -0.077221\n",
              "SibSp         -0.035322\n",
              "Parch          0.081629\n",
              "Fare           0.257307\n",
              "Sex_encode     0.543351\n",
              "Embarked_Q     0.003650\n",
              "Embarked_S    -0.155660\n",
              "Embarked_C     0.168240\n",
              "Family         0.016639\n",
              "Single        -0.203367\n",
              "Nuclear        0.279855\n",
              "Big           -0.125147\n",
              "Name: Survived, dtype: float64"
            ]
          },
          "metadata": {
            "tags": []
          },
          "execution_count": 58
        }
      ]
    },
    {
      "cell_type": "markdown",
      "metadata": {
        "id": "2cSJAYuKyliv"
      },
      "source": [
        "__기존 SibSp, Parch는 전혀 상관 없는 값이었는데 Single, Nuclear, Big은 상관관계 어느정도 갖는다__"
      ]
    },
    {
      "cell_type": "markdown",
      "metadata": {
        "id": "bdKPjUXGzeET"
      },
      "source": [
        "#### 데이터 만들기"
      ]
    },
    {
      "cell_type": "markdown",
      "metadata": {
        "id": "N3w4-lO0yzjN"
      },
      "source": [
        "- 결측값"
      ]
    },
    {
      "cell_type": "code",
      "metadata": {
        "id": "MbJwarSCyi6W"
      },
      "source": [
        "test['Fare'] = test['Fare'].fillna(0)"
      ],
      "execution_count": 59,
      "outputs": []
    },
    {
      "cell_type": "code",
      "metadata": {
        "id": "EggBjmp-zKkJ"
      },
      "source": [
        "features = ['Pclass', 'Sex_encode', 'Embarked_Q', 'Embarked_S', 'Embarked_C', 'Single', 'Nuclear', 'Big']"
      ],
      "execution_count": 64,
      "outputs": []
    },
    {
      "cell_type": "code",
      "metadata": {
        "id": "x4gleeh9zn44"
      },
      "source": [
        "x_train=train[features]\n",
        "x_test=test[features]\n",
        "y_train=train['Survived']"
      ],
      "execution_count": 65,
      "outputs": []
    },
    {
      "cell_type": "code",
      "metadata": {
        "colab": {
          "base_uri": "https://localhost:8080/",
          "height": 224
        },
        "id": "ycsuTNgO0qqN",
        "outputId": "551ad711-c053-4749-8403-86e2046ab449"
      },
      "source": [
        "x_train.head()"
      ],
      "execution_count": 66,
      "outputs": [
        {
          "output_type": "execute_result",
          "data": {
            "text/html": [
              "<div>\n",
              "<style scoped>\n",
              "    .dataframe tbody tr th:only-of-type {\n",
              "        vertical-align: middle;\n",
              "    }\n",
              "\n",
              "    .dataframe tbody tr th {\n",
              "        vertical-align: top;\n",
              "    }\n",
              "\n",
              "    .dataframe thead th {\n",
              "        text-align: right;\n",
              "    }\n",
              "</style>\n",
              "<table border=\"1\" class=\"dataframe\">\n",
              "  <thead>\n",
              "    <tr style=\"text-align: right;\">\n",
              "      <th></th>\n",
              "      <th>Pclass</th>\n",
              "      <th>Sex_encode</th>\n",
              "      <th>Embarked_Q</th>\n",
              "      <th>Embarked_S</th>\n",
              "      <th>Embarked_C</th>\n",
              "      <th>Single</th>\n",
              "      <th>Nuclear</th>\n",
              "      <th>Big</th>\n",
              "    </tr>\n",
              "  </thead>\n",
              "  <tbody>\n",
              "    <tr>\n",
              "      <th>0</th>\n",
              "      <td>3</td>\n",
              "      <td>0</td>\n",
              "      <td>False</td>\n",
              "      <td>True</td>\n",
              "      <td>False</td>\n",
              "      <td>False</td>\n",
              "      <td>True</td>\n",
              "      <td>False</td>\n",
              "    </tr>\n",
              "    <tr>\n",
              "      <th>1</th>\n",
              "      <td>1</td>\n",
              "      <td>1</td>\n",
              "      <td>False</td>\n",
              "      <td>False</td>\n",
              "      <td>True</td>\n",
              "      <td>False</td>\n",
              "      <td>True</td>\n",
              "      <td>False</td>\n",
              "    </tr>\n",
              "    <tr>\n",
              "      <th>2</th>\n",
              "      <td>3</td>\n",
              "      <td>1</td>\n",
              "      <td>False</td>\n",
              "      <td>True</td>\n",
              "      <td>False</td>\n",
              "      <td>True</td>\n",
              "      <td>False</td>\n",
              "      <td>False</td>\n",
              "    </tr>\n",
              "    <tr>\n",
              "      <th>3</th>\n",
              "      <td>1</td>\n",
              "      <td>1</td>\n",
              "      <td>False</td>\n",
              "      <td>True</td>\n",
              "      <td>False</td>\n",
              "      <td>False</td>\n",
              "      <td>True</td>\n",
              "      <td>False</td>\n",
              "    </tr>\n",
              "    <tr>\n",
              "      <th>4</th>\n",
              "      <td>3</td>\n",
              "      <td>0</td>\n",
              "      <td>False</td>\n",
              "      <td>True</td>\n",
              "      <td>False</td>\n",
              "      <td>True</td>\n",
              "      <td>False</td>\n",
              "      <td>False</td>\n",
              "    </tr>\n",
              "  </tbody>\n",
              "</table>\n",
              "</div>"
            ],
            "text/plain": [
              "   Pclass  Sex_encode  Embarked_Q  ...  Single  Nuclear    Big\n",
              "0       3           0       False  ...   False     True  False\n",
              "1       1           1       False  ...   False     True  False\n",
              "2       3           1       False  ...    True    False  False\n",
              "3       1           1       False  ...   False     True  False\n",
              "4       3           0       False  ...    True    False  False\n",
              "\n",
              "[5 rows x 8 columns]"
            ]
          },
          "metadata": {
            "tags": []
          },
          "execution_count": 66
        }
      ]
    },
    {
      "cell_type": "markdown",
      "metadata": {
        "id": "zvDye2cIz6go"
      },
      "source": [
        "#### 이전과 동일하게 진행"
      ]
    },
    {
      "cell_type": "code",
      "metadata": {
        "colab": {
          "base_uri": "https://localhost:8080/"
        },
        "id": "k_NTskmpz9QF",
        "outputId": "a8769c6a-277c-49cc-8e0c-f4e3b0fc6855"
      },
      "source": [
        "from sklearn.tree import DecisionTreeClassifier\n",
        "model = DecisionTreeClassifier(max_depth=10, max_features=0.9)\n",
        "model"
      ],
      "execution_count": 67,
      "outputs": [
        {
          "output_type": "execute_result",
          "data": {
            "text/plain": [
              "DecisionTreeClassifier(ccp_alpha=0.0, class_weight=None, criterion='gini',\n",
              "                       max_depth=10, max_features=0.9, max_leaf_nodes=None,\n",
              "                       min_impurity_decrease=0.0, min_impurity_split=None,\n",
              "                       min_samples_leaf=1, min_samples_split=2,\n",
              "                       min_weight_fraction_leaf=0.0, presort='deprecated',\n",
              "                       random_state=None, splitter='best')"
            ]
          },
          "metadata": {
            "tags": []
          },
          "execution_count": 67
        }
      ]
    },
    {
      "cell_type": "code",
      "metadata": {
        "colab": {
          "base_uri": "https://localhost:8080/"
        },
        "id": "I2csMavu0BtY",
        "outputId": "bfdeca74-883c-4697-fe88-96faccb8908a"
      },
      "source": [
        "from sklearn.model_selection import cross_val_score\n",
        "score = cross_val_score(model, x_train, y_train, scoring = 'accuracy', cv=10).mean()\n",
        "score"
      ],
      "execution_count": 69,
      "outputs": [
        {
          "output_type": "execute_result",
          "data": {
            "text/plain": [
              "0.8002621722846441"
            ]
          },
          "metadata": {
            "tags": []
          },
          "execution_count": 69
        }
      ]
    }
  ]
}