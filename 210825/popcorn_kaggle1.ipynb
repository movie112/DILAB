{
  "nbformat": 4,
  "nbformat_minor": 0,
  "metadata": {
    "colab": {
      "name": "popcorn_kaggle1.ipynb",
      "provenance": [],
      "collapsed_sections": [],
      "mount_file_id": "1Ut8SUV_FWlXmAAvYJHWsph-C6NGvzPBa",
      "authorship_tag": "ABX9TyPr/GDFiBv9fn6By2pB1q+7",
      "include_colab_link": true
    },
    "kernelspec": {
      "name": "python3",
      "display_name": "Python 3"
    },
    "language_info": {
      "name": "python"
    }
  },
  "cells": [
    {
      "cell_type": "markdown",
      "metadata": {
        "id": "view-in-github",
        "colab_type": "text"
      },
      "source": [
        "<a href=\"https://colab.research.google.com/github/movie112/INU-DILAB/blob/main/210811_210824/popcorn_kaggle1.ipynb\" target=\"_parent\"><img src=\"https://colab.research.google.com/assets/colab-badge.svg\" alt=\"Open In Colab\"/></a>"
      ]
    },
    {
      "cell_type": "markdown",
      "metadata": {
        "id": "akMt14T20n1t"
      },
      "source": [
        "# Bag of Words Meets Bags of Popcorn\n",
        "### Use Google's Word2Vec for movie reviews\n",
        "<https://www.kaggle.com/c/word2vec-nlp-tutorial/overview>\n",
        "---\n"
      ]
    },
    {
      "cell_type": "markdown",
      "metadata": {
        "id": "7VD5fLM917X0"
      },
      "source": [
        "- 영화 사이트 IMDB 영화 리뷰 데이터셋 이용\n",
        "- 리뷰 긍정 1 부정 0 으로 표시"
      ]
    },
    {
      "cell_type": "markdown",
      "metadata": {
        "id": "jG2Wohnk2c8I"
      },
      "source": [
        "## 라이브러리"
      ]
    },
    {
      "cell_type": "code",
      "metadata": {
        "colab": {
          "base_uri": "https://localhost:8080/"
        },
        "id": "jFcq3c4F2fl8",
        "outputId": "166e5839-155d-4a1f-8a77-86c4ab8dcec2"
      },
      "source": [
        "import pandas as pd\n",
        "import seaborn as sns\n",
        "import re\n",
        "\n",
        "import matplotlib.pyplot as plt\n",
        "\n",
        "import nltk\n",
        "from nltk.corpus import stopwords\n",
        "from nltk.util import ngrams\n",
        "from nltk.tokenize import word_tokenize # 단어 토큰화\n",
        "from nltk.stem import WordNetLemmatizer\n",
        "from nltk.stem import LancasterStemmer\n",
        "nltk.download(\"stopwords\")\n",
        "nltk.download('punkt')\n",
        "nltk.download('wordnet')\n",
        "stop=set(stopwords.words('english'))\n",
        "\n",
        "from collections import defaultdict # dictionary 생성\n",
        "from collections import Counter\n",
        "\n",
        "import string\n",
        "from tqdm import tqdm   # 진행 상황\n",
        "\n",
        "from sklearn.feature_extraction.text import CountVectorizer\n",
        "from sklearn.pipeline import Pipeline\n",
        "\n",
        "from bs4 import BeautifulSoup"
      ],
      "execution_count": null,
      "outputs": [
        {
          "output_type": "stream",
          "text": [
            "[nltk_data] Downloading package stopwords to /root/nltk_data...\n",
            "[nltk_data]   Unzipping corpora/stopwords.zip.\n",
            "[nltk_data] Downloading package punkt to /root/nltk_data...\n",
            "[nltk_data]   Unzipping tokenizers/punkt.zip.\n",
            "[nltk_data] Downloading package wordnet to /root/nltk_data...\n",
            "[nltk_data]   Unzipping corpora/wordnet.zip.\n"
          ],
          "name": "stdout"
        }
      ]
    },
    {
      "cell_type": "markdown",
      "metadata": {
        "id": "KHyS1ZUXFeBQ"
      },
      "source": [
        "---\n",
        "\n",
        "## NLP 텍스트 데이터 전처리"
      ]
    },
    {
      "cell_type": "markdown",
      "metadata": {
        "id": "y9oyxpzL27OM"
      },
      "source": [
        "### 데이터\n",
        "- csv(comma-separated variables): 콤마(comma)로 데이터 구분\n",
        "- tsv(tab-separated values): 탭(tab)으로 데이터 구분"
      ]
    },
    {
      "cell_type": "code",
      "metadata": {
        "colab": {
          "base_uri": "https://localhost:8080/",
          "height": 160
        },
        "id": "B4-zlkqD3C6U",
        "outputId": "0cf3eb9a-cc59-4be8-c30a-5511a730fa56"
      },
      "source": [
        "\"\"\"\n",
        "header = 0: 파일의 첫 번째 줄에 열 이름이 있음\n",
        "delimiter = \\t: 필드가 탭으로 구분\n",
        "quoting = 3: 큰따옴표 무시\n",
        "\"\"\"\n",
        "train = pd.read_csv('/content/drive/MyDrive/movie-review/labeledTrainData.tsv', \n",
        "                    header=0, delimiter='\\t', quoting=3)\n",
        "print(train.shape)\n",
        "train.head(3)"
      ],
      "execution_count": null,
      "outputs": [
        {
          "output_type": "stream",
          "text": [
            "(25000, 3)\n"
          ],
          "name": "stdout"
        },
        {
          "output_type": "execute_result",
          "data": {
            "text/html": [
              "<div>\n",
              "<style scoped>\n",
              "    .dataframe tbody tr th:only-of-type {\n",
              "        vertical-align: middle;\n",
              "    }\n",
              "\n",
              "    .dataframe tbody tr th {\n",
              "        vertical-align: top;\n",
              "    }\n",
              "\n",
              "    .dataframe thead th {\n",
              "        text-align: right;\n",
              "    }\n",
              "</style>\n",
              "<table border=\"1\" class=\"dataframe\">\n",
              "  <thead>\n",
              "    <tr style=\"text-align: right;\">\n",
              "      <th></th>\n",
              "      <th>id</th>\n",
              "      <th>sentiment</th>\n",
              "      <th>review</th>\n",
              "    </tr>\n",
              "  </thead>\n",
              "  <tbody>\n",
              "    <tr>\n",
              "      <th>0</th>\n",
              "      <td>\"5814_8\"</td>\n",
              "      <td>1</td>\n",
              "      <td>\"With all this stuff going down at the moment ...</td>\n",
              "    </tr>\n",
              "    <tr>\n",
              "      <th>1</th>\n",
              "      <td>\"2381_9\"</td>\n",
              "      <td>1</td>\n",
              "      <td>\"\\\"The Classic War of the Worlds\\\" by Timothy ...</td>\n",
              "    </tr>\n",
              "    <tr>\n",
              "      <th>2</th>\n",
              "      <td>\"7759_3\"</td>\n",
              "      <td>0</td>\n",
              "      <td>\"The film starts with a manager (Nicholas Bell...</td>\n",
              "    </tr>\n",
              "  </tbody>\n",
              "</table>\n",
              "</div>"
            ],
            "text/plain": [
              "         id  sentiment                                             review\n",
              "0  \"5814_8\"          1  \"With all this stuff going down at the moment ...\n",
              "1  \"2381_9\"          1  \"\\\"The Classic War of the Worlds\\\" by Timothy ...\n",
              "2  \"7759_3\"          0  \"The film starts with a manager (Nicholas Bell..."
            ]
          },
          "metadata": {},
          "execution_count": 2
        }
      ]
    },
    {
      "cell_type": "code",
      "metadata": {
        "colab": {
          "base_uri": "https://localhost:8080/",
          "height": 160
        },
        "id": "pGh4SpfL28bE",
        "outputId": "3b780c88-bd64-46c6-e40c-537621e8ef6c"
      },
      "source": [
        "test = pd.read_csv('/content/drive/MyDrive/movie-review/testData.tsv', \n",
        "                    header=0, delimiter='\\t', quoting=3)\n",
        "print(test.shape)\n",
        "test.head(3)"
      ],
      "execution_count": null,
      "outputs": [
        {
          "output_type": "stream",
          "text": [
            "(25000, 2)\n"
          ],
          "name": "stdout"
        },
        {
          "output_type": "execute_result",
          "data": {
            "text/html": [
              "<div>\n",
              "<style scoped>\n",
              "    .dataframe tbody tr th:only-of-type {\n",
              "        vertical-align: middle;\n",
              "    }\n",
              "\n",
              "    .dataframe tbody tr th {\n",
              "        vertical-align: top;\n",
              "    }\n",
              "\n",
              "    .dataframe thead th {\n",
              "        text-align: right;\n",
              "    }\n",
              "</style>\n",
              "<table border=\"1\" class=\"dataframe\">\n",
              "  <thead>\n",
              "    <tr style=\"text-align: right;\">\n",
              "      <th></th>\n",
              "      <th>id</th>\n",
              "      <th>review</th>\n",
              "    </tr>\n",
              "  </thead>\n",
              "  <tbody>\n",
              "    <tr>\n",
              "      <th>0</th>\n",
              "      <td>\"12311_10\"</td>\n",
              "      <td>\"Naturally in a film who's main themes are of ...</td>\n",
              "    </tr>\n",
              "    <tr>\n",
              "      <th>1</th>\n",
              "      <td>\"8348_2\"</td>\n",
              "      <td>\"This movie is a disaster within a disaster fi...</td>\n",
              "    </tr>\n",
              "    <tr>\n",
              "      <th>2</th>\n",
              "      <td>\"5828_4\"</td>\n",
              "      <td>\"All in all, this is a movie for kids. We saw ...</td>\n",
              "    </tr>\n",
              "  </tbody>\n",
              "</table>\n",
              "</div>"
            ],
            "text/plain": [
              "           id                                             review\n",
              "0  \"12311_10\"  \"Naturally in a film who's main themes are of ...\n",
              "1    \"8348_2\"  \"This movie is a disaster within a disaster fi...\n",
              "2    \"5828_4\"  \"All in all, this is a movie for kids. We saw ..."
            ]
          },
          "metadata": {},
          "execution_count": 3
        }
      ]
    },
    {
      "cell_type": "code",
      "metadata": {
        "colab": {
          "base_uri": "https://localhost:8080/",
          "height": 71
        },
        "id": "9JKf4JDFLepO",
        "outputId": "6331dff9-37c0-43e1-9ebc-7af30295b52e"
      },
      "source": [
        "train['review'][0][:700]"
      ],
      "execution_count": null,
      "outputs": [
        {
          "output_type": "execute_result",
          "data": {
            "application/vnd.google.colaboratory.intrinsic+json": {
              "type": "string"
            },
            "text/plain": [
              "'\"With all this stuff going down at the moment with MJ i\\'ve started listening to his music, watching the odd documentary here and there, watched The Wiz and watched Moonwalker again. Maybe i just want to get a certain insight into this guy who i thought was really cool in the eighties just to maybe make up my mind whether he is guilty or innocent. Moonwalker is part biography, part feature film which i remember going to see at the cinema when it was originally released. Some of it has subtle messages about MJ\\'s feeling towards the press and also the obvious message of drugs are bad m\\'kay.<br /><br />Visually impressive but of course this is all about Michael Jackson so unless you remotely lik'"
            ]
          },
          "metadata": {},
          "execution_count": 4
        }
      ]
    },
    {
      "cell_type": "markdown",
      "metadata": {
        "id": "nq5UjKZyCSso"
      },
      "source": [
        "#### sentiment 비율\n",
        "- 1(긍정리뷰), 0(부정리뷰)의 수가 같다."
      ]
    },
    {
      "cell_type": "code",
      "metadata": {
        "colab": {
          "base_uri": "https://localhost:8080/",
          "height": 351
        },
        "id": "X2cmnmg8COJ4",
        "outputId": "acb31691-dff8-4380-d835-d77aca1d738a"
      },
      "source": [
        "sentiment_n = train.sentiment.value_counts()\n",
        "print(sentiment_n)\n",
        "sns.countplot(data=train, x='sentiment')\n",
        "plt.gca().set_ylabel('samples')"
      ],
      "execution_count": null,
      "outputs": [
        {
          "output_type": "stream",
          "text": [
            "1    12500\n",
            "0    12500\n",
            "Name: sentiment, dtype: int64\n"
          ],
          "name": "stdout"
        },
        {
          "output_type": "execute_result",
          "data": {
            "text/plain": [
              "Text(0, 0.5, 'samples')"
            ]
          },
          "metadata": {
            "tags": []
          },
          "execution_count": 5
        },
        {
          "output_type": "display_data",
          "data": {
            "image/png": "[encoded data removed]",
            "text/plain": [
              "<Figure size 432x288 with 1 Axes>"
            ]
          },
          "metadata": {
            "tags": [],
            "needs_background": "light"
          }
        }
      ]
    },
    {
      "cell_type": "markdown",
      "metadata": {
        "id": "41WqJ5xlDOd_"
      },
      "source": [
        "#### review의 문자 수\n",
        "- 글자 수가 0 - 3000까지 많다.\n",
        "- 두 그룹 큰 차이 없지만 긍정리뷰가 글이 더 짧은 편"
      ]
    },
    {
      "cell_type": "code",
      "metadata": {
        "colab": {
          "base_uri": "https://localhost:8080/",
          "height": 336
        },
        "id": "Mms3NEz_DRwn",
        "outputId": "48f9dde8-8317-4871-95fb-67102ecd6719"
      },
      "source": [
        "fig, (ax1, ax2) = plt.subplots(1, 2, figsize=(10,5))\n",
        "# 부정리뷰\n",
        "train_len=train[train['sentiment']==0]['review'].str.len()\n",
        "ax1.hist(train_len)\n",
        "ax1.set_title('negative review')\n",
        "train_len=train[train['sentiment']==1]['review'].str.len()\n",
        "ax2.hist(train_len, color=\"orange\")\n",
        "ax2.set_title('positive review')\n",
        "\n",
        "plt.show()"
      ],
      "execution_count": null,
      "outputs": [
        {
          "output_type": "display_data",
          "data": {
            "image/png": "[encoded data removed]",
            "text/plain": [
              "<Figure size 720x360 with 2 Axes>"
            ]
          },
          "metadata": {
            "tags": [],
            "needs_background": "light"
          }
        }
      ]
    },
    {
      "cell_type": "markdown",
      "metadata": {
        "id": "n0DmzTEREpN3"
      },
      "source": [
        "#### 흔히 쓰이는 불용어\n",
        "- 부정리뷰: 0\n"
      ]
    },
    {
      "cell_type": "code",
      "metadata": {
        "id": "k_pbVXzPIUYH"
      },
      "source": [
        "def create_corpus(sentiment):\n",
        "    corpus=[]\n",
        "    \n",
        "    for x in train[train['sentiment']==sentiment]['review'].str.split():\n",
        "        for i in x:\n",
        "            corpus.append(i)\n",
        "    return corpus"
      ],
      "execution_count": null,
      "outputs": []
    },
    {
      "cell_type": "code",
      "metadata": {
        "colab": {
          "base_uri": "https://localhost:8080/",
          "height": 283
        },
        "id": "gd-z7UUXIhuz",
        "outputId": "ced2c534-94aa-4b8b-bb30-624ba51d643f"
      },
      "source": [
        "corpus=create_corpus(0)\n",
        "\n",
        "dic = defaultdict(int)\n",
        "for word in corpus:\n",
        "  if word in stop:\n",
        "    dic[word] += 1\n",
        "\n",
        "top = sorted(dic.items(), key=lambda x:x[1], reverse = True)[:10]    # count 많은 순대로 정렬\n",
        "x, y = zip(*top)\n",
        "plt.bar(x, y)"
      ],
      "execution_count": null,
      "outputs": [
        {
          "output_type": "execute_result",
          "data": {
            "text/plain": [
              "<BarContainer object of 10 artists>"
            ]
          },
          "metadata": {
            "tags": []
          },
          "execution_count": 8
        },
        {
          "output_type": "display_data",
          "data": {
            "image/png": "[encoded data removed]",
            "text/plain": [
              "<Figure size 432x288 with 1 Axes>"
            ]
          },
          "metadata": {
            "tags": [],
            "needs_background": "light"
          }
        }
      ]
    },
    {
      "cell_type": "markdown",
      "metadata": {
        "id": "TLr009JvE87A"
      },
      "source": [
        "- 긍정리뷰:1"
      ]
    },
    {
      "cell_type": "code",
      "metadata": {
        "colab": {
          "base_uri": "https://localhost:8080/",
          "height": 283
        },
        "id": "hq6toT2MJ3rH",
        "outputId": "437e785f-1b38-42fb-85b5-ba1b218618e5"
      },
      "source": [
        "corpus=create_corpus(1)\n",
        "\n",
        "dic = defaultdict(int)\n",
        "for word in corpus:\n",
        "  if word in stop:\n",
        "    dic[word] += 1\n",
        "\n",
        "top = sorted(dic.items(), key=lambda x:x[1], reverse = True)[:10]    # count 많은 순대로 정렬\n",
        "x, y = zip(*top)\n",
        "plt.bar(x, y)"
      ],
      "execution_count": null,
      "outputs": [
        {
          "output_type": "execute_result",
          "data": {
            "text/plain": [
              "<BarContainer object of 10 artists>"
            ]
          },
          "metadata": {
            "tags": []
          },
          "execution_count": 9
        },
        {
          "output_type": "display_data",
          "data": {
            "image/png": "[encoded data removed]",
            "text/plain": [
              "<Figure size 432x288 with 1 Axes>"
            ]
          },
          "metadata": {
            "tags": [],
            "needs_background": "light"
          }
        }
      ]
    },
    {
      "cell_type": "markdown",
      "metadata": {
        "id": "w8t2FoS4KEV2"
      },
      "source": [
        "- 둘 다 불용어는 비슷하게 쓰인다. the, and a of 많다"
      ]
    },
    {
      "cell_type": "markdown",
      "metadata": {
        "id": "DNObc62lXPf9"
      },
      "source": [
        "#### Punctuations\n",
        "- class 0"
      ]
    },
    {
      "cell_type": "code",
      "metadata": {
        "colab": {
          "base_uri": "https://localhost:8080/",
          "height": 338
        },
        "id": "F6FaxPDdXVmu",
        "outputId": "c3af3530-0d78-4126-8ccb-0766e339d297"
      },
      "source": [
        "plt.figure(figsize=(10,5))\n",
        "corpus = create_corpus(0)\n",
        "\n",
        "dic = defaultdict(int)\n",
        "special = string.punctuation\n",
        "for i in corpus:\n",
        "  if i in special:\n",
        "    dic[i] += 1\n",
        "\n",
        "x, y = zip(*dic.items())\n",
        "plt.bar(x, y)"
      ],
      "execution_count": null,
      "outputs": [
        {
          "output_type": "execute_result",
          "data": {
            "text/plain": [
              "<BarContainer object of 28 artists>"
            ]
          },
          "metadata": {
            "tags": []
          },
          "execution_count": 10
        },
        {
          "output_type": "display_data",
          "data": {
            "image/png": "[encoded data removed]",
            "text/plain": [
              "<Figure size 720x360 with 1 Axes>"
            ]
          },
          "metadata": {
            "tags": [],
            "needs_background": "light"
          }
        }
      ]
    },
    {
      "cell_type": "code",
      "metadata": {
        "colab": {
          "base_uri": "https://localhost:8080/",
          "height": 338
        },
        "id": "3wssvBy8XsEN",
        "outputId": "4846f14d-a40b-4ace-f813-4d3c7daf0f4a"
      },
      "source": [
        "plt.figure(figsize=(10,5))\n",
        "corpus = create_corpus(1)\n",
        "\n",
        "dic = defaultdict(int)\n",
        "special = string.punctuation\n",
        "for i in corpus:\n",
        "  if i in special:\n",
        "    dic[i] += 1\n",
        "\n",
        "x, y = zip(*dic.items())\n",
        "plt.bar(x, y, color='skyblue')"
      ],
      "execution_count": null,
      "outputs": [
        {
          "output_type": "execute_result",
          "data": {
            "text/plain": [
              "<BarContainer object of 25 artists>"
            ]
          },
          "metadata": {
            "tags": []
          },
          "execution_count": 11
        },
        {
          "output_type": "display_data",
          "data": {
            "image/png": "[encoded data removed]",
            "text/plain": [
              "<Figure size 720x360 with 1 Axes>"
            ]
          },
          "metadata": {
            "tags": [],
            "needs_background": "light"
          }
        }
      ]
    },
    {
      "cell_type": "markdown",
      "metadata": {
        "id": "2fMoy_ooXy1c"
      },
      "source": [
        "- '-', '&'가 많다."
      ]
    },
    {
      "cell_type": "markdown",
      "metadata": {
        "id": "JZpPpBT6Lge3"
      },
      "source": [
        "#### 흔히 쓰이는 단어\n",
        "- html 태그 존재"
      ]
    },
    {
      "cell_type": "code",
      "metadata": {
        "colab": {
          "base_uri": "https://localhost:8080/",
          "height": 301
        },
        "id": "WMugqXy7LtMn",
        "outputId": "4d377fb0-029e-4d03-acd6-d7fa9c6863d0"
      },
      "source": [
        "corpus = create_corpus(0)\n",
        "counter = Counter(corpus)\n",
        "\n",
        "most = counter.most_common()\n",
        "print(most[0], most[1][0][0]) # 빈도, 문자열만 추출\n",
        "\n",
        "x =[]\n",
        "y =[]\n",
        "\n",
        "for word, count in most[:40]:\n",
        "  if(word not in stop):   # stop = set(stopwords.words('english'))\n",
        "    x.append(word)\n",
        "    y.append(count)\n",
        "\n",
        "sns.barplot(x=y,y=x)"
      ],
      "execution_count": null,
      "outputs": [
        {
          "output_type": "stream",
          "text": [
            "('the', 138593) a\n"
          ],
          "name": "stdout"
        },
        {
          "output_type": "execute_result",
          "data": {
            "text/plain": [
              "<matplotlib.axes._subplots.AxesSubplot at 0x7f34adcddb50>"
            ]
          },
          "metadata": {
            "tags": []
          },
          "execution_count": 12
        },
        {
          "output_type": "display_data",
          "data": {
            "image/png": "[encoded data removed]",
            "text/plain": [
              "<Figure size 432x288 with 1 Axes>"
            ]
          },
          "metadata": {
            "tags": [],
            "needs_background": "light"
          }
        }
      ]
    },
    {
      "cell_type": "markdown",
      "metadata": {
        "id": "ZUxPIuswYKyt"
      },
      "source": [
        "#### 흔한 bigrams"
      ]
    },
    {
      "cell_type": "code",
      "metadata": {
        "id": "LGtvHmudYN6n"
      },
      "source": [
        "def get_top_bigrams(corpus, n=None):\n",
        "  vec = CountVectorizer(ngram_range=(2, 2)).fit(corpus) # fit: 말뭉치를 vocabulary로 만들어주는 과정\n",
        "  bag_of_words = vec.transform(corpus)    #transform: parameter를 vector로 표현해라\n",
        "  sum_words = bag_of_words.sum(axis=0)\n",
        "  words_freq = [(word, sum_words[0, idx]) for word, idx in vec.vocabulary_.items()]\n",
        "  words_freq =sorted(words_freq, key = lambda x: x[1], reverse=True)\n",
        "  return words_freq[:n]"
      ],
      "execution_count": null,
      "outputs": []
    },
    {
      "cell_type": "code",
      "metadata": {
        "colab": {
          "base_uri": "https://localhost:8080/",
          "height": 338
        },
        "id": "pvpWmegiYST2",
        "outputId": "4359bfcf-b104-45c5-b9ab-c594799e92b0"
      },
      "source": [
        "plt.figure(figsize=(10,5))\n",
        "top_tweet_bigrams= get_top_bigrams(train['review'])[:10]\n",
        "x,y=map(list,zip(*top_tweet_bigrams))\n",
        "sns.barplot(x=y,y=x)"
      ],
      "execution_count": null,
      "outputs": [
        {
          "output_type": "execute_result",
          "data": {
            "text/plain": [
              "<matplotlib.axes._subplots.AxesSubplot at 0x7f3495faa990>"
            ]
          },
          "metadata": {
            "tags": []
          },
          "execution_count": 27
        },
        {
          "output_type": "display_data",
          "data": {
            "image/png": "[encoded data removed]",
            "text/plain": [
              "<Figure size 720x360 with 1 Axes>"
            ]
          },
          "metadata": {
            "tags": [],
            "needs_background": "light"
          }
        }
      ]
    },
    {
      "cell_type": "markdown",
      "metadata": {
        "id": "B1c0fZxlchJP"
      },
      "source": [
        "#### Data Cleaning"
      ]
    },
    {
      "cell_type": "markdown",
      "metadata": {
        "id": "dUmzPy4Cp8fT"
      },
      "source": [
        "<https://programmers.co.kr/learn/courses/21/lessons/1694>"
      ]
    },
    {
      "cell_type": "code",
      "metadata": {
        "id": "6wR0W0HVc0dU"
      },
      "source": [
        "def review_to_words( raw_review ):\n",
        "    # 1. HTML 제거\n",
        "    review_text = BeautifulSoup(raw_review, 'html.parser').get_text()\n",
        "    # 2. 영문자가 아닌 문자는 공백으로 변환\n",
        "    letters_only = re.sub('[^a-zA-Z]', ' ', review_text)\n",
        "    # 3. 소문자 변환\n",
        "    words = letters_only.lower().split()\n",
        "    # 4. 파이썬에서는 리스트보다 세트로 찾는 게 훨씬 빠르다.\n",
        "    # stopwords 를 세트로 변환한다.\n",
        "    stops = set(stopwords.words('english'))\n",
        "    # 5. Stopwords 불용어 제거\n",
        "    meaningful_words = [w for w in words if not w in stops]\n",
        "    # 6. 어간추출\n",
        "    stemming_words = [stemmer.stem(w) for w in meaningful_words]\n",
        "    # 7. 공백으로 구분된 문자열로 결합하여 결과를 반환\n",
        "    return( ' '.join(stemming_words) )"
      ],
      "execution_count": null,
      "outputs": []
    },
    {
      "cell_type": "code",
      "metadata": {
        "colab": {
          "base_uri": "https://localhost:8080/",
          "height": 144
        },
        "id": "xGz2i6dVoHkz",
        "outputId": "d2667f71-0211-445b-b0bb-b6ee23b8d6d5"
      },
      "source": [
        "stemmer = nltk.stem.PorterStemmer()\n",
        "\n",
        "clean_review = review_to_words(train['review'][0])\n",
        "clean_review"
      ],
      "execution_count": null,
      "outputs": [
        {
          "output_type": "execute_result",
          "data": {
            "application/vnd.google.colaboratory.intrinsic+json": {
              "type": "string"
            },
            "text/plain": [
              "'stuff go moment mj start listen music watch odd documentari watch wiz watch moonwalk mayb want get certain insight guy thought realli cool eighti mayb make mind whether guilti innoc moonwalk part biographi part featur film rememb go see cinema origin releas subtl messag mj feel toward press also obviou messag drug bad kay visual impress cours michael jackson unless remot like mj anyway go hate find bore may call mj egotist consent make movi mj fan would say made fan true realli nice actual featur film bit final start minut exclud smooth crimin sequenc joe pesci convinc psychopath power drug lord want mj dead bad beyond mj overheard plan nah joe pesci charact rant want peopl know suppli drug etc dunno mayb hate mj music lot cool thing like mj turn car robot whole speed demon sequenc also director must patienc saint came film kiddi bad sequenc usual director hate work one kid let alon whole bunch perform complex danc scene bottom line movi peopl like mj one level anoth think peopl stay away tri give wholesom messag iron mj bestest buddi movi girl michael jackson truli one talent peopl ever grace planet guilti well attent gave subject hmmm well know peopl differ behind close door know fact either extrem nice stupid guy one sickest liar hope latter'"
            ]
          },
          "metadata": {},
          "execution_count": 9
        }
      ]
    },
    {
      "cell_type": "code",
      "metadata": {
        "colab": {
          "base_uri": "https://localhost:8080/"
        },
        "id": "XQJ4IOICoKt7",
        "outputId": "8651bc44-28bc-4e31-c27f-b8637509448b"
      },
      "source": [
        "# 첫 번째 리뷰를 대상으로 전처리해줬던 내용을 전체 텍스트 데이터를 대상으로 처리한다.\n",
        "# 전체 리뷰 데이터 수 가져오기\n",
        "num_reviews = train['review'].size\n",
        "num_reviews"
      ],
      "execution_count": null,
      "outputs": [
        {
          "output_type": "execute_result",
          "data": {
            "text/plain": [
              "25000"
            ]
          },
          "metadata": {
            "tags": []
          },
          "execution_count": 129
        }
      ]
    },
    {
      "cell_type": "code",
      "metadata": {
        "id": "3ndwhSPToRBj"
      },
      "source": [
        "#clean_train_reviews = []\n",
        "\n",
        "# for i in range(0, num_reviews):\n",
        "#     clean_train_reviews.append( review_to_words(train['review'][i]))\n",
        "\"\"\"\n",
        "코드를 좀 더 간결하게 하려고 for loop를 사용하는\n",
        "대신 apply를 사용하도록 개선\n",
        "\"\"\"\n",
        "# %time train['review_clean'] = train['review'].apply(review_to_words)\n",
        "\"\"\"\n",
        "코드는 한 줄로 간결해졌지만 여전히 오래 걸림\n",
        "\"\"\"\n",
        "# CPU times: user 1min 15s, sys: 2.3 s, total: 1min 18s\n",
        "# Wall time: 1min 20s"
      ],
      "execution_count": null,
      "outputs": []
    },
    {
      "cell_type": "code",
      "metadata": {
        "id": "qUowJlzYoorL"
      },
      "source": [
        "# 참고 : https://gist.github.com/yong27/7869662\n",
        "# http://www.racketracer.com/2016/07/06/pandas-in-parallel/\n",
        "from multiprocessing import Pool\n",
        "import numpy as np\n",
        "\n",
        "def _apply_df(args):\n",
        "    df, func, kwargs = args\n",
        "    return df.apply(func, **kwargs)\n",
        "\n",
        "def apply_by_multiprocessing(df, func, **kwargs):\n",
        "    # 키워드 항목 중 workers 파라메터를 꺼냄\n",
        "    workers = kwargs.pop('workers')\n",
        "    # 위에서 가져온 workers 수로 프로세스 풀을 정의\n",
        "    pool = Pool(processes=workers)\n",
        "    # 실행할 함수와 데이터프레임을 워커의 수 만큼 나눠 작업\n",
        "    result = pool.map(_apply_df, [(d, func, kwargs)\n",
        "            for d in np.array_split(df, workers)])\n",
        "    pool.close()\n",
        "    # 작업 결과를 합쳐서 반환\n",
        "    return pd.concat(list(result))"
      ],
      "execution_count": null,
      "outputs": []
    },
    {
      "cell_type": "code",
      "metadata": {
        "id": "OJbdqwpWopqk",
        "colab": {
          "base_uri": "https://localhost:8080/"
        },
        "outputId": "e9f642ad-11bf-4af2-c3d0-0c1645de05cb"
      },
      "source": [
        "%time clean_train_reviews = apply_by_multiprocessing(\\\n",
        "    train['review'], review_to_words, workers=4)  "
      ],
      "execution_count": null,
      "outputs": [
        {
          "output_type": "stream",
          "text": [
            "CPU times: user 546 ms, sys: 215 ms, total: 761 ms\n",
            "Wall time: 1min 31s\n"
          ],
          "name": "stdout"
        }
      ]
    },
    {
      "cell_type": "markdown",
      "metadata": {
        "id": "OQ9jZbMmFwyw"
      },
      "source": [
        "---\n",
        "## CountVectorizer로 텍스트 데이터 벡터화"
      ]
    },
    {
      "cell_type": "markdown",
      "metadata": {
        "id": "WY-pwskXvemS"
      },
      "source": [
        "#### 사이킷런의 CountVectorizer를 통해 피처 생성\n",
        "- 정규표현식을 사용해 토큰을 추출\n",
        "- 모두 소문자로 변환\n",
        "- 의미 없는 특성을 많이 생성하기 때문에 적어도 두 개의 문서에 나타난 토큰만을 사용\n",
        "- min_df로 토큰이 나타날 최소 문서 개수를 지정할 수 있다."
      ]
    },
    {
      "cell_type": "code",
      "metadata": {
        "colab": {
          "base_uri": "https://localhost:8080/"
        },
        "id": "ohq1AxuWvxMy",
        "outputId": "8566961d-3bb3-47c7-939e-293c8badc610"
      },
      "source": [
        "# 파라메터 값만 수정해도 캐글 스코어 차이가 크게 남\n",
        "vectorizer = CountVectorizer(analyzer = 'word', \n",
        "                             tokenizer = None,\n",
        "                             preprocessor = None, \n",
        "                             stop_words = None, \n",
        "                             min_df = 2, # 토큰이 나타날 최소 문서 개수\n",
        "                             ngram_range=(1, 3),\n",
        "                             max_features = 20000\n",
        "                            )\n",
        "vectorizer"
      ],
      "execution_count": null,
      "outputs": [
        {
          "output_type": "execute_result",
          "data": {
            "text/plain": [
              "CountVectorizer(analyzer='word', binary=False, decode_error='strict',\n",
              "                dtype=<class 'numpy.int64'>, encoding='utf-8', input='content',\n",
              "                lowercase=True, max_df=1.0, max_features=20000, min_df=2,\n",
              "                ngram_range=(1, 3), preprocessor=None, stop_words=None,\n",
              "                strip_accents=None, token_pattern='(?u)\\\\b\\\\w\\\\w+\\\\b',\n",
              "                tokenizer=None, vocabulary=None)"
            ]
          },
          "metadata": {
            "tags": []
          },
          "execution_count": 134
        }
      ]
    },
    {
      "cell_type": "code",
      "metadata": {
        "id": "L3brF0CiwDLS"
      },
      "source": [
        "train_data_features = pipeline.fit_transform(clean_train_reviews)"
      ],
      "execution_count": null,
      "outputs": []
    },
    {
      "cell_type": "code",
      "metadata": {
        "id": "MAEsQFQjv2lt"
      },
      "source": [
        "# 속도 개선을 위해 파이프라인을 사용하도록 개선\n",
        "# 참고 : https://stackoverflow.com/questions/28160335/plot-a-document-tfidf-2d-graph\n",
        "pipeline = Pipeline([\n",
        "    ('vect', vectorizer),\n",
        "])  "
      ],
      "execution_count": null,
      "outputs": []
    },
    {
      "cell_type": "code",
      "metadata": {
        "colab": {
          "base_uri": "https://localhost:8080/"
        },
        "id": "tfjG_cOev8h6",
        "outputId": "67103be6-ace1-4015-a619-9b7485921375"
      },
      "source": [
        "train_data_features.shape"
      ],
      "execution_count": null,
      "outputs": [
        {
          "output_type": "execute_result",
          "data": {
            "text/plain": [
              "(25000, 20000)"
            ]
          },
          "metadata": {
            "tags": []
          },
          "execution_count": 141
        }
      ]
    },
    {
      "cell_type": "code",
      "metadata": {
        "colab": {
          "base_uri": "https://localhost:8080/"
        },
        "id": "N403tlvYEoMf",
        "outputId": "dce9e224-0203-4cc2-854f-fbf79f3edda3"
      },
      "source": [
        "vocab = vectorizer.get_feature_names()\n",
        "vocab[:10]"
      ],
      "execution_count": null,
      "outputs": [
        {
          "output_type": "execute_result",
          "data": {
            "text/plain": [
              "['aag',\n",
              " 'aaron',\n",
              " 'ab',\n",
              " 'abandon',\n",
              " 'abbey',\n",
              " 'abbi',\n",
              " 'abbot',\n",
              " 'abbott',\n",
              " 'abc',\n",
              " 'abduct']"
            ]
          },
          "metadata": {
            "tags": []
          },
          "execution_count": 142
        }
      ]
    },
    {
      "cell_type": "code",
      "metadata": {
        "colab": {
          "base_uri": "https://localhost:8080/",
          "height": 164
        },
        "id": "orc0vBR0EqVy",
        "outputId": "436b85ee-d3dc-4e26-f3fe-f79ec7345fe2"
      },
      "source": [
        "# 벡터화된 피처를 확인해 봄\n",
        "dist = np.sum(train_data_features, axis=0)\n",
        "\n",
        "for tag, count in zip(vocab, dist):\n",
        "    print(count, tag)\n",
        "\n",
        "pd.DataFrame(dist, columns=vocab)"
      ],
      "execution_count": null,
      "outputs": [
        {
          "output_type": "stream",
          "text": [
            "[[26 48 22 ... 59 40 23]] aag\n"
          ],
          "name": "stdout"
        },
        {
          "output_type": "execute_result",
          "data": {
            "text/html": [
              "<div>\n",
              "<style scoped>\n",
              "    .dataframe tbody tr th:only-of-type {\n",
              "        vertical-align: middle;\n",
              "    }\n",
              "\n",
              "    .dataframe tbody tr th {\n",
              "        vertical-align: top;\n",
              "    }\n",
              "\n",
              "    .dataframe thead th {\n",
              "        text-align: right;\n",
              "    }\n",
              "</style>\n",
              "<table border=\"1\" class=\"dataframe\">\n",
              "  <thead>\n",
              "    <tr style=\"text-align: right;\">\n",
              "      <th></th>\n",
              "      <th>aag</th>\n",
              "      <th>aaron</th>\n",
              "      <th>ab</th>\n",
              "      <th>abandon</th>\n",
              "      <th>abbey</th>\n",
              "      <th>abbi</th>\n",
              "      <th>abbot</th>\n",
              "      <th>abbott</th>\n",
              "      <th>abc</th>\n",
              "      <th>abduct</th>\n",
              "      <th>abe</th>\n",
              "      <th>abhay</th>\n",
              "      <th>abid</th>\n",
              "      <th>abigail</th>\n",
              "      <th>abil</th>\n",
              "      <th>abil make</th>\n",
              "      <th>abl</th>\n",
              "      <th>abl get</th>\n",
              "      <th>abl make</th>\n",
              "      <th>abl see</th>\n",
              "      <th>abl watch</th>\n",
              "      <th>abli</th>\n",
              "      <th>aboard</th>\n",
              "      <th>abomin</th>\n",
              "      <th>aborigin</th>\n",
              "      <th>abort</th>\n",
              "      <th>abound</th>\n",
              "      <th>abraham</th>\n",
              "      <th>abraham lincoln</th>\n",
              "      <th>abroad</th>\n",
              "      <th>abrupt</th>\n",
              "      <th>absenc</th>\n",
              "      <th>absent</th>\n",
              "      <th>absolut</th>\n",
              "      <th>absolut aw</th>\n",
              "      <th>absolut brilliant</th>\n",
              "      <th>absolut hilari</th>\n",
              "      <th>absolut horribl</th>\n",
              "      <th>absolut love</th>\n",
              "      <th>absolut noth</th>\n",
              "      <th>...</th>\n",
              "      <th>yuen</th>\n",
              "      <th>yugoslavia</th>\n",
              "      <th>yup</th>\n",
              "      <th>yuppi</th>\n",
              "      <th>yuzna</th>\n",
              "      <th>yvonn</th>\n",
              "      <th>zabriski</th>\n",
              "      <th>zabriski point</th>\n",
              "      <th>zach</th>\n",
              "      <th>zack</th>\n",
              "      <th>zane</th>\n",
              "      <th>zani</th>\n",
              "      <th>zatoichi</th>\n",
              "      <th>zealand</th>\n",
              "      <th>zelah</th>\n",
              "      <th>zelah clark</th>\n",
              "      <th>zelda</th>\n",
              "      <th>zenia</th>\n",
              "      <th>zero</th>\n",
              "      <th>zero day</th>\n",
              "      <th>zero star</th>\n",
              "      <th>zeta</th>\n",
              "      <th>zeta jone</th>\n",
              "      <th>zhang</th>\n",
              "      <th>zip</th>\n",
              "      <th>zizek</th>\n",
              "      <th>zodiac</th>\n",
              "      <th>zodiac killer</th>\n",
              "      <th>zoe</th>\n",
              "      <th>zombi</th>\n",
              "      <th>zombi bloodbath</th>\n",
              "      <th>zombi film</th>\n",
              "      <th>zombi flick</th>\n",
              "      <th>zombi movi</th>\n",
              "      <th>zone</th>\n",
              "      <th>zoo</th>\n",
              "      <th>zoom</th>\n",
              "      <th>zorro</th>\n",
              "      <th>zu</th>\n",
              "      <th>zucker</th>\n",
              "    </tr>\n",
              "  </thead>\n",
              "  <tbody>\n",
              "    <tr>\n",
              "      <th>0</th>\n",
              "      <td>26</td>\n",
              "      <td>48</td>\n",
              "      <td>22</td>\n",
              "      <td>288</td>\n",
              "      <td>24</td>\n",
              "      <td>30</td>\n",
              "      <td>29</td>\n",
              "      <td>30</td>\n",
              "      <td>125</td>\n",
              "      <td>55</td>\n",
              "      <td>24</td>\n",
              "      <td>28</td>\n",
              "      <td>28</td>\n",
              "      <td>26</td>\n",
              "      <td>562</td>\n",
              "      <td>25</td>\n",
              "      <td>1259</td>\n",
              "      <td>53</td>\n",
              "      <td>32</td>\n",
              "      <td>54</td>\n",
              "      <td>35</td>\n",
              "      <td>27</td>\n",
              "      <td>37</td>\n",
              "      <td>83</td>\n",
              "      <td>69</td>\n",
              "      <td>92</td>\n",
              "      <td>63</td>\n",
              "      <td>93</td>\n",
              "      <td>29</td>\n",
              "      <td>38</td>\n",
              "      <td>136</td>\n",
              "      <td>118</td>\n",
              "      <td>83</td>\n",
              "      <td>1850</td>\n",
              "      <td>29</td>\n",
              "      <td>35</td>\n",
              "      <td>42</td>\n",
              "      <td>23</td>\n",
              "      <td>93</td>\n",
              "      <td>154</td>\n",
              "      <td>...</td>\n",
              "      <td>21</td>\n",
              "      <td>28</td>\n",
              "      <td>26</td>\n",
              "      <td>32</td>\n",
              "      <td>25</td>\n",
              "      <td>25</td>\n",
              "      <td>40</td>\n",
              "      <td>36</td>\n",
              "      <td>22</td>\n",
              "      <td>21</td>\n",
              "      <td>70</td>\n",
              "      <td>38</td>\n",
              "      <td>33</td>\n",
              "      <td>47</td>\n",
              "      <td>43</td>\n",
              "      <td>34</td>\n",
              "      <td>28</td>\n",
              "      <td>31</td>\n",
              "      <td>390</td>\n",
              "      <td>44</td>\n",
              "      <td>32</td>\n",
              "      <td>38</td>\n",
              "      <td>37</td>\n",
              "      <td>37</td>\n",
              "      <td>23</td>\n",
              "      <td>85</td>\n",
              "      <td>45</td>\n",
              "      <td>26</td>\n",
              "      <td>27</td>\n",
              "      <td>1331</td>\n",
              "      <td>23</td>\n",
              "      <td>52</td>\n",
              "      <td>37</td>\n",
              "      <td>89</td>\n",
              "      <td>161</td>\n",
              "      <td>31</td>\n",
              "      <td>71</td>\n",
              "      <td>59</td>\n",
              "      <td>40</td>\n",
              "      <td>23</td>\n",
              "    </tr>\n",
              "  </tbody>\n",
              "</table>\n",
              "<p>1 rows × 20000 columns</p>\n",
              "</div>"
            ],
            "text/plain": [
              "   aag  aaron  ab  abandon  abbey  abbi  ...  zone  zoo  zoom  zorro  zu  zucker\n",
              "0   26     48  22      288     24    30  ...   161   31    71     59  40      23\n",
              "\n",
              "[1 rows x 20000 columns]"
            ]
          },
          "metadata": {
            "tags": []
          },
          "execution_count": 145
        }
      ]
    },
    {
      "cell_type": "code",
      "metadata": {
        "colab": {
          "base_uri": "https://localhost:8080/",
          "height": 270
        },
        "id": "VNw8e4Q2EsFy",
        "outputId": "9cd7f9d8-fc21-4f33-c776-116e0403dfe0"
      },
      "source": [
        "pd.DataFrame(train_data_features[:100].toarray(), columns=vocab).head()"
      ],
      "execution_count": null,
      "outputs": [
        {
          "output_type": "execute_result",
          "data": {
            "text/html": [
              "<div>\n",
              "<style scoped>\n",
              "    .dataframe tbody tr th:only-of-type {\n",
              "        vertical-align: middle;\n",
              "    }\n",
              "\n",
              "    .dataframe tbody tr th {\n",
              "        vertical-align: top;\n",
              "    }\n",
              "\n",
              "    .dataframe thead th {\n",
              "        text-align: right;\n",
              "    }\n",
              "</style>\n",
              "<table border=\"1\" class=\"dataframe\">\n",
              "  <thead>\n",
              "    <tr style=\"text-align: right;\">\n",
              "      <th></th>\n",
              "      <th>aag</th>\n",
              "      <th>aaron</th>\n",
              "      <th>ab</th>\n",
              "      <th>abandon</th>\n",
              "      <th>abbey</th>\n",
              "      <th>abbi</th>\n",
              "      <th>abbot</th>\n",
              "      <th>abbott</th>\n",
              "      <th>abc</th>\n",
              "      <th>abduct</th>\n",
              "      <th>abe</th>\n",
              "      <th>abhay</th>\n",
              "      <th>abid</th>\n",
              "      <th>abigail</th>\n",
              "      <th>abil</th>\n",
              "      <th>abil make</th>\n",
              "      <th>abl</th>\n",
              "      <th>abl get</th>\n",
              "      <th>abl make</th>\n",
              "      <th>abl see</th>\n",
              "      <th>abl watch</th>\n",
              "      <th>abli</th>\n",
              "      <th>aboard</th>\n",
              "      <th>abomin</th>\n",
              "      <th>aborigin</th>\n",
              "      <th>abort</th>\n",
              "      <th>abound</th>\n",
              "      <th>abraham</th>\n",
              "      <th>abraham lincoln</th>\n",
              "      <th>abroad</th>\n",
              "      <th>abrupt</th>\n",
              "      <th>absenc</th>\n",
              "      <th>absent</th>\n",
              "      <th>absolut</th>\n",
              "      <th>absolut aw</th>\n",
              "      <th>absolut brilliant</th>\n",
              "      <th>absolut hilari</th>\n",
              "      <th>absolut horribl</th>\n",
              "      <th>absolut love</th>\n",
              "      <th>absolut noth</th>\n",
              "      <th>...</th>\n",
              "      <th>yuen</th>\n",
              "      <th>yugoslavia</th>\n",
              "      <th>yup</th>\n",
              "      <th>yuppi</th>\n",
              "      <th>yuzna</th>\n",
              "      <th>yvonn</th>\n",
              "      <th>zabriski</th>\n",
              "      <th>zabriski point</th>\n",
              "      <th>zach</th>\n",
              "      <th>zack</th>\n",
              "      <th>zane</th>\n",
              "      <th>zani</th>\n",
              "      <th>zatoichi</th>\n",
              "      <th>zealand</th>\n",
              "      <th>zelah</th>\n",
              "      <th>zelah clark</th>\n",
              "      <th>zelda</th>\n",
              "      <th>zenia</th>\n",
              "      <th>zero</th>\n",
              "      <th>zero day</th>\n",
              "      <th>zero star</th>\n",
              "      <th>zeta</th>\n",
              "      <th>zeta jone</th>\n",
              "      <th>zhang</th>\n",
              "      <th>zip</th>\n",
              "      <th>zizek</th>\n",
              "      <th>zodiac</th>\n",
              "      <th>zodiac killer</th>\n",
              "      <th>zoe</th>\n",
              "      <th>zombi</th>\n",
              "      <th>zombi bloodbath</th>\n",
              "      <th>zombi film</th>\n",
              "      <th>zombi flick</th>\n",
              "      <th>zombi movi</th>\n",
              "      <th>zone</th>\n",
              "      <th>zoo</th>\n",
              "      <th>zoom</th>\n",
              "      <th>zorro</th>\n",
              "      <th>zu</th>\n",
              "      <th>zucker</th>\n",
              "    </tr>\n",
              "  </thead>\n",
              "  <tbody>\n",
              "    <tr>\n",
              "      <th>0</th>\n",
              "      <td>0</td>\n",
              "      <td>0</td>\n",
              "      <td>0</td>\n",
              "      <td>0</td>\n",
              "      <td>0</td>\n",
              "      <td>0</td>\n",
              "      <td>0</td>\n",
              "      <td>0</td>\n",
              "      <td>0</td>\n",
              "      <td>0</td>\n",
              "      <td>0</td>\n",
              "      <td>0</td>\n",
              "      <td>0</td>\n",
              "      <td>0</td>\n",
              "      <td>0</td>\n",
              "      <td>0</td>\n",
              "      <td>0</td>\n",
              "      <td>0</td>\n",
              "      <td>0</td>\n",
              "      <td>0</td>\n",
              "      <td>0</td>\n",
              "      <td>0</td>\n",
              "      <td>0</td>\n",
              "      <td>0</td>\n",
              "      <td>0</td>\n",
              "      <td>0</td>\n",
              "      <td>0</td>\n",
              "      <td>0</td>\n",
              "      <td>0</td>\n",
              "      <td>0</td>\n",
              "      <td>0</td>\n",
              "      <td>0</td>\n",
              "      <td>0</td>\n",
              "      <td>0</td>\n",
              "      <td>0</td>\n",
              "      <td>0</td>\n",
              "      <td>0</td>\n",
              "      <td>0</td>\n",
              "      <td>0</td>\n",
              "      <td>0</td>\n",
              "      <td>...</td>\n",
              "      <td>0</td>\n",
              "      <td>0</td>\n",
              "      <td>0</td>\n",
              "      <td>0</td>\n",
              "      <td>0</td>\n",
              "      <td>0</td>\n",
              "      <td>0</td>\n",
              "      <td>0</td>\n",
              "      <td>0</td>\n",
              "      <td>0</td>\n",
              "      <td>0</td>\n",
              "      <td>0</td>\n",
              "      <td>0</td>\n",
              "      <td>0</td>\n",
              "      <td>0</td>\n",
              "      <td>0</td>\n",
              "      <td>0</td>\n",
              "      <td>0</td>\n",
              "      <td>0</td>\n",
              "      <td>0</td>\n",
              "      <td>0</td>\n",
              "      <td>0</td>\n",
              "      <td>0</td>\n",
              "      <td>0</td>\n",
              "      <td>0</td>\n",
              "      <td>0</td>\n",
              "      <td>0</td>\n",
              "      <td>0</td>\n",
              "      <td>0</td>\n",
              "      <td>0</td>\n",
              "      <td>0</td>\n",
              "      <td>0</td>\n",
              "      <td>0</td>\n",
              "      <td>0</td>\n",
              "      <td>0</td>\n",
              "      <td>0</td>\n",
              "      <td>0</td>\n",
              "      <td>0</td>\n",
              "      <td>0</td>\n",
              "      <td>0</td>\n",
              "    </tr>\n",
              "    <tr>\n",
              "      <th>1</th>\n",
              "      <td>0</td>\n",
              "      <td>0</td>\n",
              "      <td>0</td>\n",
              "      <td>0</td>\n",
              "      <td>0</td>\n",
              "      <td>0</td>\n",
              "      <td>0</td>\n",
              "      <td>0</td>\n",
              "      <td>0</td>\n",
              "      <td>0</td>\n",
              "      <td>0</td>\n",
              "      <td>0</td>\n",
              "      <td>0</td>\n",
              "      <td>0</td>\n",
              "      <td>0</td>\n",
              "      <td>0</td>\n",
              "      <td>0</td>\n",
              "      <td>0</td>\n",
              "      <td>0</td>\n",
              "      <td>0</td>\n",
              "      <td>0</td>\n",
              "      <td>0</td>\n",
              "      <td>0</td>\n",
              "      <td>0</td>\n",
              "      <td>0</td>\n",
              "      <td>0</td>\n",
              "      <td>0</td>\n",
              "      <td>0</td>\n",
              "      <td>0</td>\n",
              "      <td>0</td>\n",
              "      <td>0</td>\n",
              "      <td>0</td>\n",
              "      <td>0</td>\n",
              "      <td>0</td>\n",
              "      <td>0</td>\n",
              "      <td>0</td>\n",
              "      <td>0</td>\n",
              "      <td>0</td>\n",
              "      <td>0</td>\n",
              "      <td>0</td>\n",
              "      <td>...</td>\n",
              "      <td>0</td>\n",
              "      <td>0</td>\n",
              "      <td>0</td>\n",
              "      <td>0</td>\n",
              "      <td>0</td>\n",
              "      <td>0</td>\n",
              "      <td>0</td>\n",
              "      <td>0</td>\n",
              "      <td>0</td>\n",
              "      <td>0</td>\n",
              "      <td>0</td>\n",
              "      <td>0</td>\n",
              "      <td>0</td>\n",
              "      <td>0</td>\n",
              "      <td>0</td>\n",
              "      <td>0</td>\n",
              "      <td>0</td>\n",
              "      <td>0</td>\n",
              "      <td>0</td>\n",
              "      <td>0</td>\n",
              "      <td>0</td>\n",
              "      <td>0</td>\n",
              "      <td>0</td>\n",
              "      <td>0</td>\n",
              "      <td>0</td>\n",
              "      <td>0</td>\n",
              "      <td>0</td>\n",
              "      <td>0</td>\n",
              "      <td>0</td>\n",
              "      <td>0</td>\n",
              "      <td>0</td>\n",
              "      <td>0</td>\n",
              "      <td>0</td>\n",
              "      <td>0</td>\n",
              "      <td>0</td>\n",
              "      <td>0</td>\n",
              "      <td>0</td>\n",
              "      <td>0</td>\n",
              "      <td>0</td>\n",
              "      <td>0</td>\n",
              "    </tr>\n",
              "    <tr>\n",
              "      <th>2</th>\n",
              "      <td>0</td>\n",
              "      <td>0</td>\n",
              "      <td>0</td>\n",
              "      <td>0</td>\n",
              "      <td>0</td>\n",
              "      <td>0</td>\n",
              "      <td>0</td>\n",
              "      <td>0</td>\n",
              "      <td>0</td>\n",
              "      <td>0</td>\n",
              "      <td>0</td>\n",
              "      <td>0</td>\n",
              "      <td>0</td>\n",
              "      <td>0</td>\n",
              "      <td>0</td>\n",
              "      <td>0</td>\n",
              "      <td>0</td>\n",
              "      <td>0</td>\n",
              "      <td>0</td>\n",
              "      <td>0</td>\n",
              "      <td>0</td>\n",
              "      <td>0</td>\n",
              "      <td>0</td>\n",
              "      <td>0</td>\n",
              "      <td>0</td>\n",
              "      <td>0</td>\n",
              "      <td>0</td>\n",
              "      <td>0</td>\n",
              "      <td>0</td>\n",
              "      <td>0</td>\n",
              "      <td>0</td>\n",
              "      <td>0</td>\n",
              "      <td>0</td>\n",
              "      <td>0</td>\n",
              "      <td>0</td>\n",
              "      <td>0</td>\n",
              "      <td>0</td>\n",
              "      <td>0</td>\n",
              "      <td>0</td>\n",
              "      <td>0</td>\n",
              "      <td>...</td>\n",
              "      <td>0</td>\n",
              "      <td>0</td>\n",
              "      <td>0</td>\n",
              "      <td>0</td>\n",
              "      <td>0</td>\n",
              "      <td>0</td>\n",
              "      <td>0</td>\n",
              "      <td>0</td>\n",
              "      <td>0</td>\n",
              "      <td>0</td>\n",
              "      <td>0</td>\n",
              "      <td>0</td>\n",
              "      <td>0</td>\n",
              "      <td>0</td>\n",
              "      <td>0</td>\n",
              "      <td>0</td>\n",
              "      <td>0</td>\n",
              "      <td>0</td>\n",
              "      <td>0</td>\n",
              "      <td>0</td>\n",
              "      <td>0</td>\n",
              "      <td>0</td>\n",
              "      <td>0</td>\n",
              "      <td>0</td>\n",
              "      <td>0</td>\n",
              "      <td>0</td>\n",
              "      <td>0</td>\n",
              "      <td>0</td>\n",
              "      <td>0</td>\n",
              "      <td>0</td>\n",
              "      <td>0</td>\n",
              "      <td>0</td>\n",
              "      <td>0</td>\n",
              "      <td>0</td>\n",
              "      <td>0</td>\n",
              "      <td>0</td>\n",
              "      <td>0</td>\n",
              "      <td>0</td>\n",
              "      <td>0</td>\n",
              "      <td>0</td>\n",
              "    </tr>\n",
              "    <tr>\n",
              "      <th>3</th>\n",
              "      <td>0</td>\n",
              "      <td>0</td>\n",
              "      <td>0</td>\n",
              "      <td>0</td>\n",
              "      <td>0</td>\n",
              "      <td>0</td>\n",
              "      <td>0</td>\n",
              "      <td>0</td>\n",
              "      <td>0</td>\n",
              "      <td>0</td>\n",
              "      <td>0</td>\n",
              "      <td>0</td>\n",
              "      <td>0</td>\n",
              "      <td>0</td>\n",
              "      <td>0</td>\n",
              "      <td>0</td>\n",
              "      <td>0</td>\n",
              "      <td>0</td>\n",
              "      <td>0</td>\n",
              "      <td>0</td>\n",
              "      <td>0</td>\n",
              "      <td>0</td>\n",
              "      <td>0</td>\n",
              "      <td>0</td>\n",
              "      <td>0</td>\n",
              "      <td>0</td>\n",
              "      <td>0</td>\n",
              "      <td>0</td>\n",
              "      <td>0</td>\n",
              "      <td>0</td>\n",
              "      <td>0</td>\n",
              "      <td>0</td>\n",
              "      <td>0</td>\n",
              "      <td>0</td>\n",
              "      <td>0</td>\n",
              "      <td>0</td>\n",
              "      <td>0</td>\n",
              "      <td>0</td>\n",
              "      <td>0</td>\n",
              "      <td>0</td>\n",
              "      <td>...</td>\n",
              "      <td>0</td>\n",
              "      <td>0</td>\n",
              "      <td>0</td>\n",
              "      <td>0</td>\n",
              "      <td>0</td>\n",
              "      <td>0</td>\n",
              "      <td>0</td>\n",
              "      <td>0</td>\n",
              "      <td>0</td>\n",
              "      <td>0</td>\n",
              "      <td>0</td>\n",
              "      <td>0</td>\n",
              "      <td>0</td>\n",
              "      <td>0</td>\n",
              "      <td>0</td>\n",
              "      <td>0</td>\n",
              "      <td>0</td>\n",
              "      <td>0</td>\n",
              "      <td>0</td>\n",
              "      <td>0</td>\n",
              "      <td>0</td>\n",
              "      <td>0</td>\n",
              "      <td>0</td>\n",
              "      <td>0</td>\n",
              "      <td>0</td>\n",
              "      <td>0</td>\n",
              "      <td>0</td>\n",
              "      <td>0</td>\n",
              "      <td>0</td>\n",
              "      <td>0</td>\n",
              "      <td>0</td>\n",
              "      <td>0</td>\n",
              "      <td>0</td>\n",
              "      <td>0</td>\n",
              "      <td>0</td>\n",
              "      <td>0</td>\n",
              "      <td>0</td>\n",
              "      <td>0</td>\n",
              "      <td>0</td>\n",
              "      <td>0</td>\n",
              "    </tr>\n",
              "    <tr>\n",
              "      <th>4</th>\n",
              "      <td>0</td>\n",
              "      <td>0</td>\n",
              "      <td>0</td>\n",
              "      <td>0</td>\n",
              "      <td>0</td>\n",
              "      <td>0</td>\n",
              "      <td>0</td>\n",
              "      <td>0</td>\n",
              "      <td>0</td>\n",
              "      <td>0</td>\n",
              "      <td>0</td>\n",
              "      <td>0</td>\n",
              "      <td>0</td>\n",
              "      <td>0</td>\n",
              "      <td>0</td>\n",
              "      <td>0</td>\n",
              "      <td>0</td>\n",
              "      <td>0</td>\n",
              "      <td>0</td>\n",
              "      <td>0</td>\n",
              "      <td>0</td>\n",
              "      <td>0</td>\n",
              "      <td>0</td>\n",
              "      <td>0</td>\n",
              "      <td>0</td>\n",
              "      <td>0</td>\n",
              "      <td>0</td>\n",
              "      <td>0</td>\n",
              "      <td>0</td>\n",
              "      <td>0</td>\n",
              "      <td>0</td>\n",
              "      <td>0</td>\n",
              "      <td>0</td>\n",
              "      <td>0</td>\n",
              "      <td>0</td>\n",
              "      <td>0</td>\n",
              "      <td>0</td>\n",
              "      <td>0</td>\n",
              "      <td>0</td>\n",
              "      <td>0</td>\n",
              "      <td>...</td>\n",
              "      <td>0</td>\n",
              "      <td>0</td>\n",
              "      <td>0</td>\n",
              "      <td>0</td>\n",
              "      <td>0</td>\n",
              "      <td>0</td>\n",
              "      <td>0</td>\n",
              "      <td>0</td>\n",
              "      <td>0</td>\n",
              "      <td>0</td>\n",
              "      <td>0</td>\n",
              "      <td>0</td>\n",
              "      <td>0</td>\n",
              "      <td>0</td>\n",
              "      <td>0</td>\n",
              "      <td>0</td>\n",
              "      <td>0</td>\n",
              "      <td>0</td>\n",
              "      <td>0</td>\n",
              "      <td>0</td>\n",
              "      <td>0</td>\n",
              "      <td>0</td>\n",
              "      <td>0</td>\n",
              "      <td>0</td>\n",
              "      <td>0</td>\n",
              "      <td>0</td>\n",
              "      <td>0</td>\n",
              "      <td>0</td>\n",
              "      <td>0</td>\n",
              "      <td>0</td>\n",
              "      <td>0</td>\n",
              "      <td>0</td>\n",
              "      <td>0</td>\n",
              "      <td>0</td>\n",
              "      <td>0</td>\n",
              "      <td>0</td>\n",
              "      <td>0</td>\n",
              "      <td>0</td>\n",
              "      <td>0</td>\n",
              "      <td>0</td>\n",
              "    </tr>\n",
              "  </tbody>\n",
              "</table>\n",
              "<p>5 rows × 20000 columns</p>\n",
              "</div>"
            ],
            "text/plain": [
              "   aag  aaron  ab  abandon  abbey  abbi  ...  zone  zoo  zoom  zorro  zu  zucker\n",
              "0    0      0   0        0      0     0  ...     0    0     0      0   0       0\n",
              "1    0      0   0        0      0     0  ...     0    0     0      0   0       0\n",
              "2    0      0   0        0      0     0  ...     0    0     0      0   0       0\n",
              "3    0      0   0        0      0     0  ...     0    0     0      0   0       0\n",
              "4    0      0   0        0      0     0  ...     0    0     0      0   0       0\n",
              "\n",
              "[5 rows x 20000 columns]"
            ]
          },
          "metadata": {
            "tags": []
          },
          "execution_count": 146
        }
      ]
    },
    {
      "cell_type": "markdown",
      "metadata": {
        "id": "KCmGk-leqjq1"
      },
      "source": [
        "---\n",
        "word2vec"
      ]
    },
    {
      "cell_type": "code",
      "metadata": {
        "id": "_j0b4b4lEsBG",
        "colab": {
          "base_uri": "https://localhost:8080/"
        },
        "outputId": "bc1a9fbb-9066-412e-f7cc-28476b439102"
      },
      "source": [
        "clean_train_reviews"
      ],
      "execution_count": null,
      "outputs": [
        {
          "output_type": "execute_result",
          "data": {
            "text/plain": [
              "0        stuff go moment mj start listen music watch od...\n",
              "1        classic war world timothi hine entertain film ...\n",
              "2        film start manag nichola bell give welcom inve...\n",
              "3        must assum prais film greatest film opera ever...\n",
              "4        superbl trashi wondrous unpretenti exploit hoo...\n",
              "                               ...                        \n",
              "24995    seem like consider gone imdb review film went ...\n",
              "24996    believ made film complet unnecessari first fil...\n",
              "24997    guy loser get girl need build pick stronger su...\n",
              "24998    minut documentari bu uel made earli one spain ...\n",
              "24999    saw movi child broke heart stori unfinish end ...\n",
              "Name: review, Length: 25000, dtype: object"
            ]
          },
          "metadata": {},
          "execution_count": 12
        }
      ]
    },
    {
      "cell_type": "markdown",
      "metadata": {
        "id": "MUW-yKfRFhRX"
      },
      "source": [
        "---\n",
        "\n",
        "#### Data Cleaning 예시\n",
        "- 정규화(normalization), 토큰화(tokenization), 어근화(stemming), 어구 추출(phrase extraction)"
      ]
    },
    {
      "cell_type": "markdown",
      "metadata": {
        "id": "t04TknmMHo6v"
      },
      "source": [
        "##### HTML 태그 삭제\n",
        "- BeautifulSoup\n",
        "  - HTML 문서를 분해 분석하는 툴\n",
        "  - 홈페이지 내 데이터를 쉽게 추출할 수 있도록 도와주는 파이썬 외부 라이브러리 \n",
        "  - HTML 태그들을 파서(parser)를 활용해 사용하기 편한 파이썬 객체로 만들어 제공\n"
      ]
    },
    {
      "cell_type": "code",
      "metadata": {
        "colab": {
          "base_uri": "https://localhost:8080/"
        },
        "id": "2N6aSWtvG1EO",
        "outputId": "a94066f5-560a-48ed-d6a5-7a3a37973b8c"
      },
      "source": [
        "!pip install BeautifulSoup4"
      ],
      "execution_count": null,
      "outputs": [
        {
          "output_type": "stream",
          "text": [
            "Requirement already satisfied: BeautifulSoup4 in /usr/local/lib/python3.7/dist-packages (4.6.3)\n"
          ],
          "name": "stdout"
        }
      ]
    },
    {
      "cell_type": "code",
      "metadata": {
        "colab": {
          "base_uri": "https://localhost:8080/"
        },
        "id": "Rv14ptpyIUu_",
        "outputId": "6c9aa6a0-7ac8-474a-93f8-34079ae30e70"
      },
      "source": [
        "!pip show BeautifulSoup4"
      ],
      "execution_count": null,
      "outputs": [
        {
          "output_type": "stream",
          "text": [
            "Name: beautifulsoup4\n",
            "Version: 4.6.3\n",
            "Summary: Screen-scraping library\n",
            "Home-page: http://www.crummy.com/software/BeautifulSoup/bs4/\n",
            "Author: Leonard Richardson\n",
            "Author-email: leonardr@segfault.org\n",
            "License: MIT\n",
            "Location: /usr/local/lib/python3.7/dist-packages\n",
            "Requires: \n",
            "Required-by: google, fastai, bs4\n"
          ],
          "name": "stdout"
        }
      ]
    },
    {
      "cell_type": "code",
      "metadata": {
        "colab": {
          "base_uri": "https://localhost:8080/"
        },
        "id": "eOuAKRxRYNul",
        "outputId": "a1bc3a4a-703b-45b5-cb14-227c3d5a2205"
      },
      "source": [
        "from bs4 import BeautifulSoup\n",
        "\n",
        "example1 = BeautifulSoup(train['review'][0], \"html5lib\")\n",
        "print(example1)"
      ],
      "execution_count": null,
      "outputs": [
        {
          "output_type": "stream",
          "text": [
            "<html><head></head><body>\"With all this stuff going down at the moment with MJ i've started listening to his music, watching the odd documentary here and there, watched The Wiz and watched Moonwalker again. Maybe i just want to get a certain insight into this guy who i thought was really cool in the eighties just to maybe make up my mind whether he is guilty or innocent. Moonwalker is part biography, part feature film which i remember going to see at the cinema when it was originally released. Some of it has subtle messages about MJ's feeling towards the press and also the obvious message of drugs are bad m'kay.<br/><br/>Visually impressive but of course this is all about Michael Jackson so unless you remotely like MJ in anyway then you are going to hate this and find it boring. Some may call MJ an egotist for consenting to the making of this movie BUT MJ and most of his fans would say that he made it for the fans which if true is really nice of him.<br/><br/>The actual feature film bit when it finally starts is only on for 20 minutes or so excluding the Smooth Criminal sequence and Joe Pesci is convincing as a psychopathic all powerful drug lord. Why he wants MJ dead so bad is beyond me. Because MJ overheard his plans? Nah, Joe Pesci's character ranted that he wanted people to know it is he who is supplying drugs etc so i dunno, maybe he just hates MJ's music.<br/><br/>Lots of cool things in this like MJ turning into a car and a robot and the whole Speed Demon sequence. Also, the director must have had the patience of a saint when it came to filming the kiddy Bad sequence as usually directors hate working with one kid let alone a whole bunch of them performing a complex dance scene.<br/><br/>Bottom line, this movie is for people who like MJ on one level or another (which i think is most people). If not, then stay away. It does try and give off a wholesome message and ironically MJ's bestest buddy in this movie is a girl! Michael Jackson is truly one of the most talented people ever to grace this planet but is he guilty? Well, with all the attention i've gave this subject....hmmm well i don't know because people can be different behind closed doors, i know this for a fact. He is either an extremely nice but stupid guy or one of the most sickest liars. I hope he is not the latter.\"</body></html>\n"
          ],
          "name": "stdout"
        }
      ]
    },
    {
      "cell_type": "code",
      "metadata": {
        "colab": {
          "base_uri": "https://localhost:8080/",
          "height": 126
        },
        "id": "XFKUfAsFaQc0",
        "outputId": "73faa4f8-5826-46e8-c2ab-a7c707d625e0"
      },
      "source": [
        "example1.get_text()[:700]"
      ],
      "execution_count": null,
      "outputs": [
        {
          "output_type": "execute_result",
          "data": {
            "application/vnd.google.colaboratory.intrinsic+json": {
              "type": "string"
            },
            "text/plain": [
              "'\"With all this stuff going down at the moment with MJ i\\'ve started listening to his music, watching the odd documentary here and there, watched The Wiz and watched Moonwalker again. Maybe i just want to get a certain insight into this guy who i thought was really cool in the eighties just to maybe make up my mind whether he is guilty or innocent. Moonwalker is part biography, part feature film which i remember going to see at the cinema when it was originally released. Some of it has subtle messages about MJ\\'s feeling towards the press and also the obvious message of drugs are bad m\\'kay.Visually impressive but of course this is all about Michael Jackson so unless you remotely like MJ in anyw'"
            ]
          },
          "metadata": {
            "tags": []
          },
          "execution_count": 69
        }
      ]
    },
    {
      "cell_type": "code",
      "metadata": {
        "colab": {
          "base_uri": "https://localhost:8080/",
          "height": 126
        },
        "id": "unDI4i5YIhRm",
        "outputId": "61c62c71-46c2-43a5-9909-318753e4de80"
      },
      "source": [
        "# 소문자와 대문자가 아닌 것은 공백으로 대체한다.\n",
        "letters_only = re.sub('[^a-zA-Z]', ' ', example1.get_text())\n",
        "letters_only[:700]"
      ],
      "execution_count": null,
      "outputs": [
        {
          "output_type": "execute_result",
          "data": {
            "application/vnd.google.colaboratory.intrinsic+json": {
              "type": "string"
            },
            "text/plain": [
              "' With all this stuff going down at the moment with MJ i ve started listening to his music  watching the odd documentary here and there  watched The Wiz and watched Moonwalker again  Maybe i just want to get a certain insight into this guy who i thought was really cool in the eighties just to maybe make up my mind whether he is guilty or innocent  Moonwalker is part biography  part feature film which i remember going to see at the cinema when it was originally released  Some of it has subtle messages about MJ s feeling towards the press and also the obvious message of drugs are bad m kay Visually impressive but of course this is all about Michael Jackson so unless you remotely like MJ in anyw'"
            ]
          },
          "metadata": {
            "tags": []
          },
          "execution_count": 70
        }
      ]
    },
    {
      "cell_type": "code",
      "metadata": {
        "colab": {
          "base_uri": "https://localhost:8080/"
        },
        "id": "9Db8CzOgIy4w",
        "outputId": "c158137c-0c9a-4096-9fbf-54478c25e7a6"
      },
      "source": [
        "# 모두 소문자로 변환한다.\n",
        "lower_case = letters_only.lower()\n",
        "# 문자를 나눈다. => 토큰화\n",
        "words = lower_case.split()\n",
        "print(len(words))\n",
        "words[:10]"
      ],
      "execution_count": null,
      "outputs": [
        {
          "output_type": "stream",
          "text": [
            "437\n"
          ],
          "name": "stdout"
        },
        {
          "output_type": "execute_result",
          "data": {
            "text/plain": [
              "['with',\n",
              " 'all',\n",
              " 'this',\n",
              " 'stuff',\n",
              " 'going',\n",
              " 'down',\n",
              " 'at',\n",
              " 'the',\n",
              " 'moment',\n",
              " 'with']"
            ]
          },
          "metadata": {
            "tags": []
          },
          "execution_count": 71
        }
      ]
    },
    {
      "cell_type": "markdown",
      "metadata": {
        "id": "PZo6MrzLbFG8"
      },
      "source": [
        "##### 불용어 제거(Stopword Removal)"
      ]
    },
    {
      "cell_type": "code",
      "metadata": {
        "colab": {
          "base_uri": "https://localhost:8080/"
        },
        "id": "z0ESrS3-bPHk",
        "outputId": "710707eb-f448-415e-89bf-1024952a6e5f"
      },
      "source": [
        "# stopwords 를 제거한 토큰들\n",
        "words = [w for w in words if not w in stopwords.words('english')]\n",
        "print(len(words))\n",
        "words[:10]"
      ],
      "execution_count": null,
      "outputs": [
        {
          "output_type": "stream",
          "text": [
            "219\n"
          ],
          "name": "stdout"
        },
        {
          "output_type": "execute_result",
          "data": {
            "text/plain": [
              "['stuff',\n",
              " 'going',\n",
              " 'moment',\n",
              " 'mj',\n",
              " 'started',\n",
              " 'listening',\n",
              " 'music',\n",
              " 'watching',\n",
              " 'odd',\n",
              " 'documentary']"
            ]
          },
          "metadata": {
            "tags": []
          },
          "execution_count": 73
        }
      ]
    },
    {
      "cell_type": "markdown",
      "metadata": {
        "id": "sFPLpxkAbTlU"
      },
      "source": [
        "##### 스테밍(어간추출, 형태소 분석)\n",
        "- 어간 추출(stemming): 어형이 변형된 단어로부터 접사 등을 제거하고 그 단어의 어간을 분리해 내는 것\n",
        "  - NLTK에서 제공하는 형태소 분석기를 사용. 포터 형태소 분석기는 보수적이고 랭커스터 형태소 분석기는 좀 더 적극적. 형태소 분석 규칙의 적극성 때문에 랭커스터 형태소 분석기는 더 많은 동음이의어 형태소를 생산."
      ]
    },
    {
      "cell_type": "code",
      "metadata": {
        "colab": {
          "base_uri": "https://localhost:8080/"
        },
        "id": "kAwwwbiIbEsc",
        "outputId": "f41bb1da-78a2-48a5-ef13-fa8ef0317436"
      },
      "source": [
        "# 포터 스태머의 사용 예\n",
        "stemmer = nltk.stem.PorterStemmer()\n",
        "print(stemmer.stem('maximum'))\n",
        "print(\"The stemmed form of running is: {}\".format(stemmer.stem(\"running\")))\n",
        "print(\"The stemmed form of runs is: {}\".format(stemmer.stem(\"runs\")))\n",
        "print(\"The stemmed form of run is: {}\".format(stemmer.stem(\"run\")))"
      ],
      "execution_count": null,
      "outputs": [
        {
          "output_type": "stream",
          "text": [
            "maximum\n",
            "The stemmed form of running is: run\n",
            "The stemmed form of runs is: run\n",
            "The stemmed form of run is: run\n"
          ],
          "name": "stdout"
        }
      ]
    },
    {
      "cell_type": "code",
      "metadata": {
        "colab": {
          "base_uri": "https://localhost:8080/"
        },
        "id": "O12gu91Ob73-",
        "outputId": "347071b5-6900-4a71-d3d4-0321ad9de6c4"
      },
      "source": [
        "# 랭커스터 스태머의 사용 예\n",
        "from nltk.stem.lancaster import LancasterStemmer\n",
        "lancaster_stemmer = LancasterStemmer()\n",
        "print(lancaster_stemmer.stem('maximum'))\n",
        "print(\"The stemmed form of running is: {}\".format(lancaster_stemmer.stem(\"running\")))\n",
        "print(\"The stemmed form of runs is: {}\".format(lancaster_stemmer.stem(\"runs\")))\n",
        "print(\"The stemmed form of run is: {}\".format(lancaster_stemmer.stem(\"run\")))"
      ],
      "execution_count": null,
      "outputs": [
        {
          "output_type": "stream",
          "text": [
            "maxim\n",
            "The stemmed form of running is: run\n",
            "The stemmed form of runs is: run\n",
            "The stemmed form of run is: run\n"
          ],
          "name": "stdout"
        }
      ]
    },
    {
      "cell_type": "code",
      "metadata": {
        "colab": {
          "base_uri": "https://localhost:8080/"
        },
        "id": "hSNaieFib_AL",
        "outputId": "9d595eba-e894-4ea2-e8b4-8a734ce13547"
      },
      "source": [
        "# 처리 전 단어\n",
        "words[:10]"
      ],
      "execution_count": null,
      "outputs": [
        {
          "output_type": "execute_result",
          "data": {
            "text/plain": [
              "['stuff',\n",
              " 'going',\n",
              " 'moment',\n",
              " 'mj',\n",
              " 'started',\n",
              " 'listening',\n",
              " 'music',\n",
              " 'watching',\n",
              " 'odd',\n",
              " 'documentary']"
            ]
          },
          "metadata": {
            "tags": []
          },
          "execution_count": 76
        }
      ]
    },
    {
      "cell_type": "code",
      "metadata": {
        "colab": {
          "base_uri": "https://localhost:8080/"
        },
        "id": "QG_6I_yacASc",
        "outputId": "01dff5be-362f-4014-de20-15d3201dcac0"
      },
      "source": [
        "from nltk.stem.snowball import SnowballStemmer\n",
        "\n",
        "stemmer = SnowballStemmer('english')\n",
        "words = [stemmer.stem(w) for w in words]\n",
        "# 처리 후 단어\n",
        "words[:10]"
      ],
      "execution_count": null,
      "outputs": [
        {
          "output_type": "execute_result",
          "data": {
            "text/plain": [
              "['stuff',\n",
              " 'go',\n",
              " 'moment',\n",
              " 'mj',\n",
              " 'start',\n",
              " 'listen',\n",
              " 'music',\n",
              " 'watch',\n",
              " 'odd',\n",
              " 'documentari']"
            ]
          },
          "metadata": {
            "tags": []
          },
          "execution_count": 77
        }
      ]
    },
    {
      "cell_type": "markdown",
      "metadata": {
        "id": "9HrZQbP-cGPR"
      },
      "source": [
        "##### Lemmatization 음소표기법\n",
        "- 단어의 보조 정리 또는 사전 형식에 의해 식별되는 단일 항목으로 분석될 수 있도록 굴절된 형태의 단어를 그룹화하는 과정"
      ]
    },
    {
      "cell_type": "code",
      "metadata": {
        "colab": {
          "base_uri": "https://localhost:8080/"
        },
        "id": "8enbtQ8TcFLT",
        "outputId": "0ec09868-685f-46f1-ea72-9bac013c46e3"
      },
      "source": [
        "wordnet_lemmatizer = WordNetLemmatizer()\n",
        "\n",
        "print(wordnet_lemmatizer.lemmatize('fly'))\n",
        "print(wordnet_lemmatizer.lemmatize('flies'))\n",
        "\n",
        "words = [wordnet_lemmatizer.lemmatize(w) for w in words]\n",
        "# 처리 후 단어\n",
        "words[:10]"
      ],
      "execution_count": null,
      "outputs": [
        {
          "output_type": "stream",
          "text": [
            "fly\n",
            "fly\n"
          ],
          "name": "stdout"
        },
        {
          "output_type": "execute_result",
          "data": {
            "text/plain": [
              "['stuff',\n",
              " 'go',\n",
              " 'moment',\n",
              " 'mj',\n",
              " 'start',\n",
              " 'listen',\n",
              " 'music',\n",
              " 'watch',\n",
              " 'odd',\n",
              " 'documentari']"
            ]
          },
          "metadata": {
            "tags": []
          },
          "execution_count": 82
        }
      ]
    }
  ]
}
