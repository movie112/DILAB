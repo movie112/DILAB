{
  "nbformat": 4,
  "nbformat_minor": 0,
  "metadata": {
    "colab": {
      "name": " DACON_101_lv1.ipynb",
      "provenance": [],
      "collapsed_sections": [],
      "authorship_tag": "ABX9TyOl7pfgP8Ir9XdzR3wtXcb6",
      "include_colab_link": true
    },
    "kernelspec": {
      "name": "python3",
      "display_name": "Python 3"
    },
    "language_info": {
      "name": "python"
    }
  },
  "cells": [
    {
      "cell_type": "markdown",
      "metadata": {
        "id": "view-in-github",
        "colab_type": "text"
      },
      "source": [
        "<a href=\"https://colab.research.google.com/github/movie112/INU-DILAB/blob/main/INU-DILAB/dacon/dacon101/DACON_101_lv1.ipynb\" target=\"_parent\"><img src=\"https://colab.research.google.com/assets/colab-badge.svg\" alt=\"Open In Colab\"/></a>"
      ]
    },
    {
      "cell_type": "markdown",
      "metadata": {
        "id": "d1EU87kMkveT"
      },
      "source": [
        "# DACON_101: 머신러닝이 처음이라면 🤔   \n",
        "🏃‍♀️ [데이터 다운로드] 부터 ️[대회 제출] 까지 🏃‍♂\n",
        "<https://dacon.io/competitions/open/235698/overview/description>\n",
        "\n",
        "---\n",
        "## Lv1. 의사결정회귀나무로 따릉이 데이터 예측하기\n",
        "### - EDA -\n",
        "#### EDA 1/5 라이브러리불러오기(import)\n",
        "- 데이터를 분석하기 위해 불러오고, 조작하는 등 핸들링을 하려면 도구 필요\n",
        "- 대표적으로 pandas, numpy, matplotlib 등 "
      ]
    },
    {
      "cell_type": "code",
      "metadata": {
        "id": "mkkkjvRzlHA6"
      },
      "source": [
        "import [라이브러리] as [사용할이름]"
      ],
      "execution_count": null,
      "outputs": []
    },
    {
      "cell_type": "markdown",
      "metadata": {
        "id": "HKDixAnblTfq"
      },
      "source": [
        "#### EDA 2/5 파일 불러오기(read_csv)\n",
        "- 데이터 파일(csv 파일)을 불러오기 위해서는 pandas 라이브러리를 이용\n",
        "- 약어로 지정한 pd를 사용하여 read_csv함수를 통해 csv 파일을 불러옴\n",
        "- csv 파일을 pandas 라이브러리에서 제공하는 DataFrame 객체로 변환"
      ]
    },
    {
      "cell_type": "code",
      "metadata": {
        "id": "m7rZ64lclfub"
      },
      "source": [
        "import pandas as pd\n",
        "data = pd.read_csv('파일경로/파일이름.csv')"
      ],
      "execution_count": null,
      "outputs": []
    },
    {
      "cell_type": "markdown",
      "metadata": {
        "id": "t7B8zhFPlpyK"
      },
      "source": [
        "#### EDA 3/5 행열갯수관찰하기(shape)\n",
        "- 불러온 데이터의 행과 열의 갯수를 shape attribute 로 관찰"
      ]
    },
    {
      "cell_type": "code",
      "metadata": {
        "id": "erQmoDb7l0nv"
      },
      "source": [
        "[DataFrame 변수명].shape"
      ],
      "execution_count": null,
      "outputs": []
    },
    {
      "cell_type": "markdown",
      "metadata": {
        "id": "0MUAlhuQl4Oy"
      },
      "source": [
        "#### EDA 4/5 데이터 확인하기(head())\n",
        "- Pandas 라이브러리를 이용하여 데이터를 확인하는 방법은 여러 가지 존재, 그중 가장 대표적인 메서드 head()\n",
        "- head() 메서드는 데이터 전부를 보여주지 않고 데이터의 상단부분만 출력\n",
        "- tail() 메서드는 데이터의 하단 부분을 출력\n"
      ]
    },
    {
      "cell_type": "code",
      "metadata": {
        "id": "MLNysTbQmJ-i"
      },
      "source": [
        "train = pd.read_csv('data/train.csv')\n",
        "\n",
        "train.head() # train 데이터의 상단 5개 행 출력\n",
        "train.head(10) # train 데이터의 상단 10개 행 출력\n",
        "\n",
        "train.tail() # train 데이터의 하단 5개 행 출력\n",
        "train.tail(10) # train 데이터의 하단 10개 행 출력"
      ],
      "execution_count": null,
      "outputs": []
    },
    {
      "cell_type": "markdown",
      "metadata": {
        "id": "1uZpHiKwmSoa"
      },
      "source": [
        "#### EDA 5/5 결측치 확인하기(is_null() )\n",
        "- 결측치(Missing Value): 데이터에 값이 없는 것, (NA, NULL)\n",
        "- Pandas에서의 결측치: NaN\n",
        "- isnull() 메서드를 사용하면 DataFrame에서 NaN 값을 확인, 데이터가 NaN 값이면 True로, 그렇지 않으면 False로 값을 리턴"
      ]
    },
    {
      "cell_type": "code",
      "metadata": {
        "id": "mslDERGempsg"
      },
      "source": [
        "import pandas as pd\n",
        "import numpy as np\n",
        "\n",
        "df = pd.DataFrame({\n",
        "        'name': ['kwon', 'park', 'kim'],\n",
        "        'age':[30, np.nan, 19],\n",
        "        'class':[np.nan, np.nan, 1]\n",
        "})\n",
        "\n",
        "df.isnull()\n",
        "# df.isnull().sum()   -> 각 열 별 결측치의 수 확인"
      ],
      "execution_count": null,
      "outputs": []
    },
    {
      "cell_type": "markdown",
      "metadata": {
        "id": "LzjwVYN1ndQD"
      },
      "source": [
        "---\n",
        "### - 전처리 -\n",
        "#### 전처리 1/2 데이터결측치확인하기(info())\n",
        "- info() 매서드로 피쳐들의 결측치와 데이터 타입을 확인\n",
        "- 모델링에 앞서 결측치가 있다면, 결측치들을 어떻게 다뤄야할지 고민하고 처리하는 과정이 필요"
      ]
    },
    {
      "cell_type": "code",
      "metadata": {
        "id": "0A7iBUfgnbdz"
      },
      "source": [
        "df.info()"
      ],
      "execution_count": null,
      "outputs": []
    },
    {
      "cell_type": "markdown",
      "metadata": {
        "id": "UQShV8YTnuKb"
      },
      "source": [
        "#### 전처리 2/2 결측치삭제하기, 대체하기(dropna(), fillna())\n",
        "- dropna()로 결측치를 갖는 행을 DataFrame 객체에서 삭제\n",
        "- fillna()로 모든 결측치를 인자값으로 대체"
      ]
    },
    {
      "cell_type": "code",
      "metadata": {
        "id": "HabpsAFfn3gR"
      },
      "source": [
        "DataFrame.dropna()\n",
        "DataFrame.fillna()"
      ],
      "execution_count": null,
      "outputs": []
    },
    {
      "cell_type": "markdown",
      "metadata": {
        "id": "Yho16wK46AT1"
      },
      "source": [
        "### - 모델링 -\n",
        "#### 모델링 1/6 scikit-learn\n",
        "- 모델링 라이브러리\n",
        "- [scikit-learn 공식 홈페이지](https://scikit-learn.org/stable/)"
      ]
    },
    {
      "cell_type": "code",
      "metadata": {
        "id": "DG338eUt6FUu"
      },
      "source": [
        "import sklearn\n",
        "from sklearn.tree import DecisionTreeClassifier"
      ],
      "execution_count": 1,
      "outputs": []
    },
    {
      "cell_type": "markdown",
      "metadata": {
        "id": "Fnnrg0NM7HJA"
      },
      "source": [
        "#### 모델링 2/6 모델개념(의사결정나무)\n",
        "- 의사결정나무(결정트리)   \n",
        "의사 결정 규칙과 그 결과들을 트리 구조로 도식화한 의사 결정 지원 도구의 일종. 즉, 스무고개 방식으로 구조화\n",
        "<img src=\"data:image/jpeg;base64,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\" width=\"400px\" height=\"210px\"></img>\n",
        "\n",
        "- EDA 를 통해 data를 살펴보면 각 행(row) 들은 피쳐들을 갖고 있다.이 중 하나의 피쳐를 정해서 해당 피쳐의 값에 대해 특정한 하나의 값을 정한다면, 이를 기준으로 모든 행(row) 들을 두 개의 노드(node) 로 분류(Binary decision rule. 이진분할) 가능\n",
        "- 만약 특정하게 2️⃣개를 정한다면 3️⃣진분할이 됨. 대표적인 CART 의사결정나무는 이진분할 사용. 앞으로 CART에 맞춰 설명.\n",
        "-파생된 두 노드에 대해서 또 다시 새로운 피쳐의 특정한 값을 정하고 분류 진행. 이 과정을 반복하게 되면 점차 피쳐의 값에 따라 data 들이 분류가 되며 이것이 의사결정 나무의 원리. 🌳\n",
        "- 특정한 값을 정하는 의사결정 나무의 대원칙은 ✅ \"한쪽 방향으로 쏠리도록\" ✅  🙅 분류될 때는 공평하게 비슷한 양으로 나뉘도록 값을 정하는 것이 아니라, 🙆 \"한쪽 방향으로 쏠리도록\" 해주는 특정한 값을 찾는 것이며, 이를 불순도를 계산해서 찾는다.\n",
        "- 의사결정나무 모델은 scikit-learn 에서 모듈을 불러옴"
      ]
    },
    {
      "cell_type": "code",
      "metadata": {
        "id": "80eiQAVC9xmq"
      },
      "source": [
        "import sklearn\n",
        "from sklearn.tree import DecisionTreeClassifier"
      ],
      "execution_count": null,
      "outputs": []
    },
    {
      "cell_type": "markdown",
      "metadata": {
        "id": "vm77xOs89-yU"
      },
      "source": [
        "#### 모델링 3/6 모델선언(의사결정나무)\n",
        "- 모듈 불러오기: 해당 라이브러리로부터 원하는 모듈 불러오면 됨\n",
        "- 우리는 sklearn.tree 에서 DecisionTreeRegressor 모듈을 불러올 것"
      ]
    },
    {
      "cell_type": "code",
      "metadata": {
        "id": "3Exx__jG-ZkS"
      },
      "source": [
        "from [라이브러리] import [모듈]\n",
        "model = 모듈명()"
      ],
      "execution_count": null,
      "outputs": []
    },
    {
      "cell_type": "markdown",
      "metadata": {
        "id": "vspieR5Y-cLf"
      },
      "source": [
        "#### 모델링 4/6 모델훈련 (의사결정나무)\n",
        "- fit(X, Y) 함수를 사용해서 모델을 훈련\n",
        "- data_X: 예측에 사용되는 변수, data_Y: 예측결과 변수"
      ]
    },
    {
      "cell_type": "code",
      "metadata": {
        "id": "TPAk33zQ_Bn0"
      },
      "source": [
        "X_train = train.drop(['제외할컬럼명'], axis=1)  # X: train data 에서 예측할 피쳐 제외 가능\n",
        "Y_train = train['예측할컬럼명']                 # Y: train['예측할컬럼명']으로 인덱싱 가능"
      ],
      "execution_count": null,
      "outputs": []
    },
    {
      "cell_type": "code",
      "metadata": {
        "id": "fM8Cdl85_Y2I"
      },
      "source": [
        "# 모델 선언, 모델 훈련\n",
        "model = DecistionRegressor()\n",
        "model.fit(X_train, Y_train)"
      ],
      "execution_count": null,
      "outputs": []
    },
    {
      "cell_type": "markdown",
      "metadata": {
        "id": "QbhG4Ag3_f5_"
      },
      "source": [
        "#### 모델링 5/6 테스트예측\n",
        "- 테스트 파일을 훈련된 모델로 예측\n",
        "- 훈련된 모델에서 predict()매서드에 예측하고자 하는 data를 인자로 넣어주면 해당 결과 array를 할당"
      ]
    },
    {
      "cell_type": "code",
      "metadata": {
        "id": "rBeX3utcAaN1"
      },
      "source": [
        "[할당할 array] = model.predict(test)"
      ],
      "execution_count": null,
      "outputs": []
    },
    {
      "cell_type": "markdown",
      "metadata": {
        "id": "5d-N5ms6Abr9"
      },
      "source": [
        "#### 모델링 6/6 제출파일생성(to_csv())\n",
        "1️⃣ 백지의 답안지인 submission.csv 파일을 df 파일로 불러와서 예측결과를 덧입혀주고   \n",
        "2️⃣ 덧입혀준 df 파일을 csv 파일로 내보낸 후,   \n",
        "3️⃣ 드라이브에 저장된 csv 파일을 다운받아서 제출"
      ]
    }
  ]
}