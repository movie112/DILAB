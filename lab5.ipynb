{
  "nbformat": 4,
  "nbformat_minor": 0,
  "metadata": {
    "colab": {
      "name": "lab5.ipynb",
      "provenance": [],
      "authorship_tag": "ABX9TyNdkcUXLapRZorOWHTNFkRd",
      "include_colab_link": true
    },
    "kernelspec": {
      "name": "python3",
      "display_name": "Python 3"
    },
    "language_info": {
      "name": "python"
    }
  },
  "cells": [
    {
      "cell_type": "markdown",
      "metadata": {
        "id": "view-in-github",
        "colab_type": "text"
      },
      "source": [
        "<a href=\"https://colab.research.google.com/github/movie112/INU-DILAB/blob/main/lab5.ipynb\" target=\"_parent\"><img src=\"https://colab.research.google.com/assets/colab-badge.svg\" alt=\"Open In Colab\"/></a>"
      ]
    },
    {
      "cell_type": "markdown",
      "metadata": {
        "id": "_CDKcjC8NVYr"
      },
      "source": [
        "# Lab5: LAS(Listen Attend Spell)\n",
        "## contents\n",
        "- CTC의 dynamic programming   \n",
        "  - <https://distill.pub/2017/ctc/>\n",
        "- LAS\n",
        "  - CTC vs LAS\n",
        "---\n",
        "\n",
        "## CTC의 dynamic programming\n",
        "- 단순히 학습이 끝난 지점에서 x spectogram이 주어졌을 때 나오는 path의 확률값이 가장 큰 것을 argmax 취하는 것이 그다지 적절하지 않다.\n",
        "- 많은 relevant한 path 중에서 좋은 path를 찾는 방법을 모두 다 연산하자니 가능한 path가 너무 많아짐\n",
        "\n",
        "<img src=\"https://distill.pub/2017/ctc/assets/ctc_cost.svg\" width=\"400px\" height=\"250px\"></img>\n",
        "\n",
        "- output이 a, b 뿐이라고 가정, output sequence 사이에 입실론 존재한다고 가정(구분인자, 입실론으로 갈 수도 안 안갈 수도 있음)\n",
        "  - 시작이 입실론(묵음) 아니면 a -> 입실론 다음엔 입실론 아니면 a -> 반복 -> 아무리 늦어도 4번에는 a가 나와야 함(대부분의 사람은 sequence2일 때 a를 발음)\n",
        "  - a 다음에는 입실론 or a or b , 입실론 다음 a는 안됨\n",
        "- output length에 맞춰 단어들이 등장해야 하고 단어에 의해서 어느정도 순서 강제 됨 등등 (규칙)  -> 모든 path가 존재한다해도 가능한 path 는 저 정도\n",
        "---\n",
        "- case1\n",
        "\n",
        "<img src=\"https://distill.pub/2017/ctc/assets/cost_no_skip.svg\" width=\"200px\" height=\"250px\"></img>\n",
        "\n",
        "- case2\n",
        "\n",
        "<img src=\"https://distill.pub/2017/ctc/assets/cost_regular.svg\" width=\"200px\" height=\"250px\"></img>\n",
        "\n",
        "  - 2개의 case로 recursive하게 form을 설명할 수 있다.\n",
        "  - 가장 relevant한 path는 마지막 알파 값 두 개로 설명할 수 있다.\n",
        "\n",
        "---\n",
        "## LAS\n",
        "#### - CTC vs LAS\n",
        "- CTC   \n",
        "<img src=\"https://encrypted-tbn0.gstatic.com/images?q=tbn:ANd9GcRKSpd2vMvctVF80LFFXlqZFhG53Kzfehuj8w&usqp=CAU\" width=\"250px\" height=\"250px\"></img>\n",
        "  - CTC모델의 기본은 RNN  rkqjsdnk Sequence 모델을 여러층 쌓고, 인코더로 들어오는 입력 데이터는 최종적으로 softmax를 통과해서 출력\n",
        "- LAS   \n",
        "<img src=\"https://encrypted-tbn0.gstatic.com/images?q=tbn:ANd9GcQm93TPGZfXSsNW_VnlV8uyjnmREIm9e8fzVGwm3MNYkxMBDWOK7PP9TNJEyYptkUuLErA&usqp=CAU\" width=\"250px\" height=\"300px\"></img>\n",
        "  - input x와 이전 sequence를  auto-regressive 방식으로 given 받고, 그 다음 y 예측\n",
        "  - attention을 써보자\n",
        "  - auto-regressive: decoding 하는 step에서 들어가는 인자=(given한 input sequence와  이전 step에서 decoding한 정보)로 다음 sequence 예측\n",
        "  \n",
        "#### - LAS 구조\n",
        "##### encoder: Listener\n",
        "<img src=\"https://camo.githubusercontent.com/d913a01a266964d6387c7d61858ec3ae3cecdf84/68747470733a2f2f706f737466696c65732e707374617469632e6e65742f4d6a41794d4441794d6a42664d546b782f4d4441784e5467794d5449314f4441314f446b772e38474f74435a4e666444585a75544f34364658556e48663146786973377a762d43536f5554367043475538672e6d495a45782d56413471454730454c6130417a525a513136764a6b42767931663643703851694839556e49672e504e472e736f6f6674776172652f696d6167652e706e673f747970653d77373733\" width=\"300px\" height=\"220px\"></img>\n",
        " - listener는 encoder로 음성 신호를 feature extraction 하는 역할: encoder라는 의미\n",
        " - BLSTM을 pyramidal 형식으로 3개 붙여서 사용, 이를 pBLSTM이라 부른다\n",
        "  - pyramidal하게 사용하면 pBLSTM 하나당 연산속도 2배 줄임\n",
        "\n",
        "<img src=\"https://camo.githubusercontent.com/d8cff7fb4cd2347d09e7456e15410a79e0784a81/68747470733a2f2f706f737466696c65732e707374617469632e6e65742f4d6a41794d4441794d6a42664d5445332f4d4441784e5467794d5449314e544d774e7a67312e54496e73303556436a593451586578524845673573346f735f454c6f47796c4643674948434264474d4930672e744269474d65545078533630596f665069714d4974677664777a4f4c75366a745f5f595f45384250713149672e504e472e736f6f6674776172652f696d6167652e706e673f747970653d77373733 \" width=\"300px\" height=\"100px\"></img>\n",
        "- h: listen encoder, i: i-th time step, j: j-th layer\n",
        "\n",
        "##### attention layer\n",
        "<img src=\"https://camo.githubusercontent.com/e34c741ce73beb0799604657c0b1968cc50174f4/68747470733a2f2f706f737466696c65732e707374617469632e6e65742f4d6a41794d4441794d6a42664e4445672f4d4441784e5467794d5449314d4459304d6a417a2e49316853785653576d5f594e4131633945467165366a65744573506e456550554c6d4a7150574f6933746b672e505f7147626d6a3936436d4b7036524661437659357168755f63376d75386a6b62433473395f555979636f672e504e472e736f6f6674776172652f696d6167652e706e673f747970653d77373733\" width=\"300px\" height=\"350px\"></img>\n",
        "\n",
        "\n",
        "\n",
        "\n"
      ]
    }
  ]
}