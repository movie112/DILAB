{
  "nbformat": 4,
  "nbformat_minor": 0,
  "metadata": {
    "colab": {
      "name": "NLP_ch1.ipynb",
      "provenance": [],
      "authorship_tag": "ABX9TyNWRTTxUKzcX6LM04bwNxKP",
      "include_colab_link": true
    },
    "kernelspec": {
      "name": "python3",
      "display_name": "Python 3"
    },
    "language_info": {
      "name": "python"
    }
  },
  "cells": [
    {
      "cell_type": "markdown",
      "metadata": {
        "id": "view-in-github",
        "colab_type": "text"
      },
      "source": [
        "<a href=\"https://colab.research.google.com/github/movie112/INU-DILAB/blob/main/NLP_pytorch/NLP_ch1.ipynb\" target=\"_parent\"><img src=\"https://colab.research.google.com/assets/colab-badge.svg\" alt=\"Open In Colab\"/></a>"
      ]
    },
    {
      "cell_type": "markdown",
      "metadata": {
        "id": "G6gfFaQzRFPw"
      },
      "source": [
        "# 파이토치로 배우는 자연어 처리: ch1\n",
        "## 1. 소개   \n",
        "1.1 지도학습   \n",
        "1.2 샘플과 타깃의 인코딩   \n",
        "  - 원-핫 인코딩, TF 표현, TF-IDF 표현, 타깃 인코딩   \n",
        "\n",
        "1.3 계산 그래프   \n",
        "1.4 파이토치 기초\n",
        "  - 파이토치 설치, 텐서 만들기, 텐서 타입과 크기, 텐서, 텐서와 계산 그래프, CUDA 텐서\n",
        "\n",
        "---\n",
        "## 학습목표\n",
        "- 지도 학습 이해, 용어 인지, 기초 개념 정립\n",
        "- 머신러닝 문제에 맞도록 입력을 인코딩하는 방법\n",
        "- 계산 그래프 이해\n",
        "- 파이토치 기본 숙달\n",
        "---\n",
        "## 1.1 지도학습\n",
        "- observation에 대응하는 target의 정답을 제공하는 방식   \n",
        "주요 개념   \n",
        "- 샘플: 에측에 사용하는 아이템, 입력, x\n",
        "- target: 샘플에 상응하는 레이블, 예측되는 대상, 정답, y\n",
        "- 모델: 수학식이나 샘플x를 받아 target label값을 예측하는 함수\n",
        "- parameter: 가중치, 모델을 규정\n",
        "- 예측: 모델이 추축하는 target값, 추정, hat 표기\n",
        "- 손실함수: 훈련 데이터에 대한 예측이 target과 얼마나 차이 나는지 비교하는 함수, L\n",
        "\n",
        "#### gradient descent\n",
        "- gradient descent: data set에서 손실함수를 최소화하는 parameter 값 찾기, 전통적인 gradient descent는 적용이 어렵고 비용 큼\n",
        "- stochastic gradient descent(SGD)\n",
        "  - 확률적 경사 하강법, data point를 하나 또는 일부 랜덤하게 선택하여 gradient 계산,\n",
        "  - minibatch SGD: pure SGD 여러 개 사용하는 방법\n",
        "  - pure SGD: updata레 잡음이 많아 수렴이 매우 느림\n",
        "  - backpropagation: 역전파, parameter를 반복적으로 update하는 과정\n",
        "    - 각 단계(epoch)는 정방향계산(foward pass), 역방향 계산(backward padd) 구성\n",
        "    - foward: 현재 parameter 값으로 입력을 평가해 손실함수 계산\n",
        "    - backward: 손실의 gradient를 사용해 parameter update\n",
        "---\n",
        "## 1.2 샘플과 타깃의 인코딩\n",
        "### 1.2.1. one-hot representation\n",
        "0 벡터에서 시작해 문장이나 문서에 등장하는 단어에 상응하는 원소를 1로 설정   \n",
        "example) Time files like an arrow. / Fruit flies like a banana.\n",
        "- 문장을 token으로 나누고 구두점을 무시하고 모두 소문자로 바꾸면 vocabulary의 크기는 8이 된다.\n",
        "- { time, fruit, flies, like, a , an, arrow, banana}\n",
        "- \"like a banana\"의 one-hot 표현은 3X8 행렬 \n",
        "\n",
        "### 1.2.2 TF 표현\n",
        "단순히 소속 단어의 one-hot representation을 합해 만듦   \n",
        "example) Fruit flies like time flies a fruit -> [1, 2, 2, 1, 1, 0, 0, 0] 각 원소는 해당 단어가 문장에 등장하는 횟수\n",
        "\n",
        "### 1.2.3 TF-IDF 표현\n",
        "- TF는 등장 획수에 비례하여 단어에 가중치 부여, 흔한 단어에는 문서 특징이 담겨 있지 않음\n",
        "- inverse-document-frequency(IDF): 흔한 토큰의 점수를 낮추고 드문 토큰의 점수를 높임\n",
        "- 딥러닝의 목적은 표현 합습이므로 보통 TF-IDF 같이 경험적인 방법으로 입력을 인코딩하지 않는다. \n",
        "\n",
        "### 1.2.4 타깃 인코딩\n",
        "많은 NLP 작업은 범주형 레이블을 사용\n",
        "- 모델은 고정된 한 세트의 레이블 중 하나를 예측해야 함 이를 인코딩할 때는 레이블마다 고유한 인덱스를 부여하는 방법을 가정 많이 사용, 하지만 이런 간단한 표현은 출력 레이블 수가 너무 커지면 문제가 된다.ex) 언어 모델링: 이전 단어로 다음 단어 예측\n",
        "\n",
        "---\n",
        "## 1.3 계산 그래프\n",
        "---\n",
        "## 1.4 파이토치 기초\n",
        "차원을 지정해서 텐서 랜덤 초기화\n",
        "\n",
        "\n",
        "\n",
        "\n"
      ]
    },
    {
      "cell_type": "code",
      "metadata": {
        "id": "QXNY7FXMRB2h"
      },
      "source": [
        "import torch\n",
        "t = torch.Tensor(2, 3)"
      ],
      "execution_count": 1,
      "outputs": []
    },
    {
      "cell_type": "markdown",
      "metadata": {
        "id": "Jx41usU2jKTU"
      },
      "source": [
        "[0, 1) 범위의 균등 분포에서 샘플링한 값으로 랜덤하게 초기화"
      ]
    },
    {
      "cell_type": "code",
      "metadata": {
        "id": "dmObsP3kjWjy"
      },
      "source": [
        "t = torch.rand(2, 3)  # 균등 분포\n",
        "t = torch.randn(2, 3) # 표준 균등 분포"
      ],
      "execution_count": 2,
      "outputs": []
    },
    {
      "cell_type": "markdown",
      "metadata": {
        "id": "uwFJ-mHwjjSF"
      },
      "source": [
        "0 또는 1 또는 특정 값으로 채운 텐서"
      ]
    },
    {
      "cell_type": "code",
      "metadata": {
        "id": "9am8Gx8QkCWH",
        "colab": {
          "base_uri": "https://localhost:8080/"
        },
        "outputId": "b4dfe600-cf18-4182-e150-e9748f4d9cd4"
      },
      "source": [
        "t = torch.zeros(2, 3)\n",
        "t = torch.ones(2, 3)\n",
        "t.fill_(5)"
      ],
      "execution_count": 3,
      "outputs": [
        {
          "output_type": "execute_result",
          "data": {
            "text/plain": [
              "tensor([[5., 5., 5.],\n",
              "        [5., 5., 5.]])"
            ]
          },
          "metadata": {
            "tags": []
          },
          "execution_count": 3
        }
      ]
    },
    {
      "cell_type": "markdown",
      "metadata": {
        "id": "CMvYmzO-kT-T"
      },
      "source": [
        "리스트로 텐서 만들기"
      ]
    },
    {
      "cell_type": "code",
      "metadata": {
        "id": "C3aZyhHTkXVf"
      },
      "source": [
        "t = torch.Tensor([1, 2, 3], \n",
        "                 [4, 5, 6])"
      ],
      "execution_count": null,
      "outputs": []
    },
    {
      "cell_type": "markdown",
      "metadata": {
        "id": "qfHhChDwk3Xl"
      },
      "source": [
        "numpy로 텐서 만들고 초기화\n",
        "- numpy 배열은 tensor type이 FloatTensor가 아니라 DoubleTensor가 됨"
      ]
    },
    {
      "cell_type": "code",
      "metadata": {
        "id": "wCDOye41lGmF"
      },
      "source": [
        "import numpy as np\n",
        "npy = np.random.rand(2, 3)\n",
        "t = torch.from_numpy(npy)"
      ],
      "execution_count": 10,
      "outputs": []
    },
    {
      "cell_type": "markdown",
      "metadata": {
        "id": "EsYjLBb9lSwh"
      },
      "source": [
        "인덱싱, 슬라이싱, 연결"
      ]
    },
    {
      "cell_type": "code",
      "metadata": {
        "colab": {
          "base_uri": "https://localhost:8080/"
        },
        "id": "Bpn8S-ypl1dt",
        "outputId": "c9cfc64f-f5ba-415d-cb61-48bee74ac6e9"
      },
      "source": [
        "x = torch.arange(6).view(2, 3)\n",
        "print(x)"
      ],
      "execution_count": 11,
      "outputs": [
        {
          "output_type": "stream",
          "text": [
            "tensor([[0, 1, 2],\n",
            "        [3, 4, 5]])\n"
          ],
          "name": "stdout"
        }
      ]
    },
    {
      "cell_type": "code",
      "metadata": {
        "colab": {
          "base_uri": "https://localhost:8080/"
        },
        "id": "DbM-3-LDm3fR",
        "outputId": "b2844fec-2422-4292-97ca-4e0cb0d3f6a6"
      },
      "source": [
        "print(x[:1, :2])"
      ],
      "execution_count": 12,
      "outputs": [
        {
          "output_type": "stream",
          "text": [
            "tensor([[0, 1]])\n"
          ],
          "name": "stdout"
        }
      ]
    },
    {
      "cell_type": "markdown",
      "metadata": {
        "id": "Iv54Usqsm3JA"
      },
      "source": [
        "텐서 연결"
      ]
    },
    {
      "cell_type": "code",
      "metadata": {
        "colab": {
          "base_uri": "https://localhost:8080/"
        },
        "id": "jRkQQh3Zx8aS",
        "outputId": "92d62e7f-944c-496f-81e7-050e196307a3"
      },
      "source": [
        "torch.cat([x, x], dim=0)"
      ],
      "execution_count": 13,
      "outputs": [
        {
          "output_type": "execute_result",
          "data": {
            "text/plain": [
              "tensor([[0, 1, 2],\n",
              "        [3, 4, 5],\n",
              "        [0, 1, 2],\n",
              "        [3, 4, 5]])"
            ]
          },
          "metadata": {
            "tags": []
          },
          "execution_count": 13
        }
      ]
    },
    {
      "cell_type": "code",
      "metadata": {
        "colab": {
          "base_uri": "https://localhost:8080/"
        },
        "id": "WKF-oMt7ykqJ",
        "outputId": "75aa8505-7931-436c-8ab8-6c2c013a6907"
      },
      "source": [
        "torch.cat([x, x], dim=1)"
      ],
      "execution_count": 14,
      "outputs": [
        {
          "output_type": "execute_result",
          "data": {
            "text/plain": [
              "tensor([[0, 1, 2, 0, 1, 2],\n",
              "        [3, 4, 5, 3, 4, 5]])"
            ]
          },
          "metadata": {
            "tags": []
          },
          "execution_count": 14
        }
      ]
    },
    {
      "cell_type": "code",
      "metadata": {
        "colab": {
          "base_uri": "https://localhost:8080/"
        },
        "id": "MkBsFjKqypn6",
        "outputId": "b43926af-0322-4d3c-ca06-87bcc63982dd"
      },
      "source": [
        "torch.stack([x, x])"
      ],
      "execution_count": 15,
      "outputs": [
        {
          "output_type": "execute_result",
          "data": {
            "text/plain": [
              "tensor([[[0, 1, 2],\n",
              "         [3, 4, 5]],\n",
              "\n",
              "        [[0, 1, 2],\n",
              "         [3, 4, 5]]])"
            ]
          },
          "metadata": {
            "tags": []
          },
          "execution_count": 15
        }
      ]
    },
    {
      "cell_type": "markdown",
      "metadata": {
        "id": "3LoYJcrwyuMR"
      },
      "source": [
        "선형 대수 연산"
      ]
    },
    {
      "cell_type": "code",
      "metadata": {
        "colab": {
          "base_uri": "https://localhost:8080/"
        },
        "id": "WI6LsoGPzUkZ",
        "outputId": "a3520edd-8480-48c9-fabd-6fac06eaa243"
      },
      "source": [
        "x1 = torch.Tensor([[0, 1, 2], [3, 4, 5]])\n",
        "print(x1)"
      ],
      "execution_count": 32,
      "outputs": [
        {
          "output_type": "stream",
          "text": [
            "tensor([[0., 1., 2.],\n",
            "        [3., 4., 5.]])\n"
          ],
          "name": "stdout"
        }
      ]
    },
    {
      "cell_type": "code",
      "metadata": {
        "colab": {
          "base_uri": "https://localhost:8080/"
        },
        "id": "MRDS-IBaytJt",
        "outputId": "39d1fb2d-87ca-4c33-c03f-32fff2b1b05a"
      },
      "source": [
        "x2 = torch.ones(3, 2)\n",
        "x2[:, 1] +=1\n",
        "print(x2)"
      ],
      "execution_count": 30,
      "outputs": [
        {
          "output_type": "stream",
          "text": [
            "tensor([[1., 2.],\n",
            "        [1., 2.],\n",
            "        [1., 2.]])\n"
          ],
          "name": "stdout"
        }
      ]
    },
    {
      "cell_type": "code",
      "metadata": {
        "colab": {
          "base_uri": "https://localhost:8080/"
        },
        "id": "bNOTIyuvy-4K",
        "outputId": "90271488-d21c-48f8-c76b-603a5f3ef090"
      },
      "source": [
        "torch.mm(x1, x2)"
      ],
      "execution_count": 33,
      "outputs": [
        {
          "output_type": "execute_result",
          "data": {
            "text/plain": [
              "tensor([[ 3.,  6.],\n",
              "        [12., 24.]])"
            ]
          },
          "metadata": {
            "tags": []
          },
          "execution_count": 33
        }
      ]
    },
    {
      "cell_type": "markdown",
      "metadata": {
        "id": "0wz2KMQ40BtK"
      },
      "source": [
        "텐서와 계산그래프\n",
        "- requires_grad = True로 지정하면 gradient 기반 학습에 필요한 손실 함수와 tensor의 gradient를 기록하는 부가 연산을 활성화한다."
      ]
    },
    {
      "cell_type": "code",
      "metadata": {
        "colab": {
          "base_uri": "https://localhost:8080/"
        },
        "id": "U6j1mMSrzB2i",
        "outputId": "433f78e4-c8dd-49a3-b66c-63a1029fa3f8"
      },
      "source": [
        "x = torch.ones(2, 2, requires_grad= True)\n",
        "print(x)\n",
        "print(x.grad is None)"
      ],
      "execution_count": 34,
      "outputs": [
        {
          "output_type": "stream",
          "text": [
            "tensor([[1., 1.],\n",
            "        [1., 1.]], requires_grad=True)\n",
            "True\n"
          ],
          "name": "stdout"
        }
      ]
    },
    {
      "cell_type": "code",
      "metadata": {
        "colab": {
          "base_uri": "https://localhost:8080/"
        },
        "id": "0RD99pQ70fZs",
        "outputId": "8e523b7d-17b7-4bbe-c246-f5e4a286ba9e"
      },
      "source": [
        "y = (x+2) * (x+5) +3\n",
        "print(y)\n",
        "print(x.grad is None)"
      ],
      "execution_count": 35,
      "outputs": [
        {
          "output_type": "stream",
          "text": [
            "tensor([[21., 21.],\n",
            "        [21., 21.]], grad_fn=<AddBackward0>)\n",
            "True\n"
          ],
          "name": "stdout"
        }
      ]
    },
    {
      "cell_type": "code",
      "metadata": {
        "colab": {
          "base_uri": "https://localhost:8080/"
        },
        "id": "d3-TRS_b0oYe",
        "outputId": "10e4e1f0-e82d-4ae3-d14d-55e7600cc874"
      },
      "source": [
        "z = y.mean()\n",
        "print(z)\n",
        "z.backward()\n",
        "print(x.grad is None)"
      ],
      "execution_count": 37,
      "outputs": [
        {
          "output_type": "stream",
          "text": [
            "tensor(21., grad_fn=<MeanBackward0>)\n",
            "False\n"
          ],
          "name": "stdout"
        }
      ]
    },
    {
      "cell_type": "markdown",
      "metadata": {
        "id": "5yPjHM2n0_T4"
      },
      "source": [
        "CUDA tensor\n",
        "- 지금까지 tensor를 CPU 메모리에 할당함, CPU가 있다면 선형대수연산을 수행할 떄 되도록 사용 권장\n",
        "- GPU를 사용하려면 먼저 tensor를 GPU에 할당해야 함\n",
        "- CUDA API를 사용해서 GPU 활용 가능: NVIDIA GPU에서만 사용\n",
        "- torch.cuda.is_available()로 GPU 사용 가능 확인\n",
        "- torch.device()로 장치 이름 가져오고, .to(device)를 사용해 향후 초기화되는 모든 텐서를 target 장치로 이동\n",
        "- GPU로 데이터를 넣고 꺼내는 작업은 비용이 많이 든다.\n",
        "\n"
      ]
    }
  ]
}