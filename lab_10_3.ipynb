{
  "nbformat": 4,
  "nbformat_minor": 0,
  "metadata": {
    "colab": {
      "name": "lab_10_3.ipynb",
      "provenance": [],
      "authorship_tag": "ABX9TyPzi2v5BVmdqH4EN7EW2lFw",
      "include_colab_link": true
    },
    "kernelspec": {
      "name": "python3",
      "display_name": "Python 3"
    },
    "language_info": {
      "name": "python"
    }
  },
  "cells": [
    {
      "cell_type": "markdown",
      "metadata": {
        "id": "view-in-github",
        "colab_type": "text"
      },
      "source": [
        "<a href=\"https://colab.research.google.com/github/movie112/INU-DILAB/blob/main/lab_10_3.ipynb\" target=\"_parent\"><img src=\"https://colab.research.google.com/assets/colab-badge.svg\" alt=\"Open In Colab\"/></a>"
      ]
    },
    {
      "cell_type": "markdown",
      "metadata": {
        "id": "PhvvtdmaAef8"
      },
      "source": [
        "# Lab_10_3: visdom\n",
        "## contents\n",
        "- visdom 사용법 익히기\n",
        "- MNIST-CNN 학습 적용\n",
        "---\n"
      ]
    },
    {
      "cell_type": "code",
      "metadata": {
        "id": "zhmMSOMFAdvW"
      },
      "source": [
        "import torch\n",
        "import torch.nn as nn\n",
        "\n",
        "import torchvision\n",
        "import torchvision.datasets as dsets"
      ],
      "execution_count": 9,
      "outputs": []
    },
    {
      "cell_type": "code",
      "metadata": {
        "id": "s6HTwXYsBbJG"
      },
      "source": [
        "import visdom\n",
        "vis = visdom.Visdom()"
      ],
      "execution_count": null,
      "outputs": []
    },
    {
      "cell_type": "markdown",
      "metadata": {
        "id": "s2lbTdJLYWKt"
      },
      "source": [
        "- text"
      ]
    },
    {
      "cell_type": "code",
      "metadata": {
        "id": "rMpYEjOmYVXq"
      },
      "source": [
        "vis.text(\"Hello, world!\",env=\"main\")  # env: 창 모두 끌 때 사용"
      ],
      "execution_count": null,
      "outputs": []
    },
    {
      "cell_type": "markdown",
      "metadata": {
        "id": "fig55hUfYnZ4"
      },
      "source": [
        "- images"
      ]
    },
    {
      "cell_type": "code",
      "metadata": {
        "id": "wV4URHlUYpco"
      },
      "source": [
        "a=torch.randn(3,200,200)\n",
        "vis.image(a)"
      ],
      "execution_count": null,
      "outputs": []
    },
    {
      "cell_type": "markdown",
      "metadata": {
        "id": "YNLsSlmVYrM8"
      },
      "source": [
        "- example: using MNIST and CIFAR10"
      ]
    },
    {
      "cell_type": "code",
      "metadata": {
        "id": "CEjtJR9pYvYo"
      },
      "source": [
        "# 시간이 좀 걸립니다.\n",
        "MNIST = dsets.MNIST(root=\"./MNIST_data\",train = True,transform=torchvision.transforms.ToTensor(), download=True)\n",
        "cifar10 = dsets.CIFAR10(root=\"./cifar10\",train = True, transform=torchvision.transforms.ToTensor(),download=True)"
      ],
      "execution_count": null,
      "outputs": []
    },
    {
      "cell_type": "code",
      "metadata": {
        "id": "FZ4fVv8MZW-t"
      },
      "source": [
        "#CIFAR10\n",
        "data = cifar10.__getitem__(0)\n",
        "print(data[0].shape)\n",
        "vis.images(data[0],env=\"main\")"
      ],
      "execution_count": null,
      "outputs": []
    },
    {
      "cell_type": "code",
      "metadata": {
        "id": "oEo19Zz0ZSpM"
      },
      "source": [
        "#MNIST\n",
        "data = MNIST.__getitem__(0)\n",
        "print(data[0].shape)\n",
        "vis.images(data[0],env=\"main\")"
      ],
      "execution_count": null,
      "outputs": []
    },
    {
      "cell_type": "code",
      "metadata": {
        "id": "LfaQqpWRZPj5"
      },
      "source": [
        "#Check dataset\n",
        "data_loader = torch.utils.data.DataLoader(dataset = MNIST,\n",
        "                                          batch_size = 32,\n",
        "                                          shuffle = False)"
      ],
      "execution_count": null,
      "outputs": []
    },
    {
      "cell_type": "code",
      "metadata": {
        "id": "dtU5d7bjZNGz"
      },
      "source": [
        "for num, value in enumerate(data_loader):\n",
        "    value = value[0]\n",
        "    print(value.shape)\n",
        "    vis.images(value)\n",
        "    break"
      ],
      "execution_count": null,
      "outputs": []
    },
    {
      "cell_type": "code",
      "metadata": {
        "id": "SxN5Jd_PZKgQ"
      },
      "source": [
        "vis.close(env=\"main\")"
      ],
      "execution_count": null,
      "outputs": []
    },
    {
      "cell_type": "markdown",
      "metadata": {
        "id": "hoTemw33Y-4N"
      },
      "source": [
        "- Line Plot"
      ]
    },
    {
      "cell_type": "code",
      "metadata": {
        "id": "7fNS_OumZAhg"
      },
      "source": [
        "Y_data = torch.randn(5)\n",
        "plt = vis.line (Y=Y_data)"
      ],
      "execution_count": null,
      "outputs": []
    },
    {
      "cell_type": "code",
      "metadata": {
        "id": "t3GzUvv3Zc_r"
      },
      "source": [
        "X_data = torch.Tensor([1,2,3,4,5])\n",
        "plt = vis.line(Y=Y_data, X=X_data)"
      ],
      "execution_count": null,
      "outputs": []
    },
    {
      "cell_type": "code",
      "metadata": {
        "id": "vHDu4omMZfdf"
      },
      "source": [
        "#line update\n",
        "Y_append = torch.randn(1)\n",
        "X_append = torch.Tensor([6])\n",
        "\n",
        "vis.line(Y=Y_append, X=X_append, win=plt, update='append')"
      ],
      "execution_count": null,
      "outputs": []
    },
    {
      "cell_type": "code",
      "metadata": {
        "id": "bLF9XCReZiRW"
      },
      "source": [
        "#multple line on single windows\n",
        "num = torch.Tensor(list(range(0,10)))\n",
        "num = num.view(-1,1)\n",
        "num = torch.cat((num,num),dim=1)\n",
        "\n",
        "plt = vis.line(Y=torch.randn(10,2), X = num)"
      ],
      "execution_count": null,
      "outputs": []
    },
    {
      "cell_type": "code",
      "metadata": {
        "id": "pW18zOnWZoqH"
      },
      "source": [
        "#Line info\n",
        "plt = vis.line(Y=Y_data, X=X_data, opts = dict(title='Test', showlegend=True))"
      ],
      "execution_count": null,
      "outputs": []
    },
    {
      "cell_type": "code",
      "metadata": {
        "id": "UuA_bTfpZrhs"
      },
      "source": [
        "plt = vis.line(Y=Y_data, X=X_data, opts = dict(title='Test', legend = ['1번'],showlegend=True))"
      ],
      "execution_count": null,
      "outputs": []
    },
    {
      "cell_type": "code",
      "metadata": {
        "id": "j7_qFr3DZtjX"
      },
      "source": [
        "plt = vis.line(Y=torch.randn(10,2), X = num, opts=dict(title='Test', legend=['1번','2번'],showlegend=True))"
      ],
      "execution_count": null,
      "outputs": []
    },
    {
      "cell_type": "markdown",
      "metadata": {
        "id": "NeLOY-LSZyr0"
      },
      "source": [
        "- make function for update line"
      ]
    },
    {
      "cell_type": "code",
      "metadata": {
        "id": "5JvV1LXPZ3bi"
      },
      "source": [
        "def loss_tracker(loss_plot, loss_value, num):\n",
        "    '''num, loss_value, are Tensor'''\n",
        "    vis.line(X=num,\n",
        "             Y=loss_value,\n",
        "             win = loss_plot,\n",
        "             update='append'\n",
        "             )"
      ],
      "execution_count": null,
      "outputs": []
    },
    {
      "cell_type": "code",
      "metadata": {
        "id": "wj2dw2GTZ6wG"
      },
      "source": [
        "plt = vis.line(Y=torch.Tensor(1).zero_())\n",
        "\n",
        "for i in range(500):\n",
        "    loss = torch.randn(1) + i\n",
        "    loss_tracker(plt, loss, torch.Tensor([i]))"
      ],
      "execution_count": null,
      "outputs": []
    },
    {
      "cell_type": "markdown",
      "metadata": {
        "id": "9skyMeVFZ8tQ"
      },
      "source": [
        "- colse the window"
      ]
    },
    {
      "cell_type": "code",
      "metadata": {
        "id": "EwJ1vULHZ__7"
      },
      "source": [
        "vis.close(env=\"main\")"
      ],
      "execution_count": null,
      "outputs": []
    },
    {
      "cell_type": "markdown",
      "metadata": {
        "id": "wQN9rak8aDSA"
      },
      "source": [
        "---\n",
        "colab에서는 안되네:("
      ]
    }
  ]
}