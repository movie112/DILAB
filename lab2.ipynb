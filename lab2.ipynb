{
  "nbformat": 4,
  "nbformat_minor": 0,
  "metadata": {
    "colab": {
      "name": "lab2.ipynb",
      "provenance": [],
      "authorship_tag": "ABX9TyP3khmEmmMTyvIwP/I/Cryd",
      "include_colab_link": true
    },
    "kernelspec": {
      "name": "python3",
      "display_name": "Python 3"
    },
    "language_info": {
      "name": "python"
    }
  },
  "cells": [
    {
      "cell_type": "markdown",
      "metadata": {
        "id": "view-in-github",
        "colab_type": "text"
      },
      "source": [
        "<a href=\"https://colab.research.google.com/github/movie112/INU-DILAB/blob/main/lab2.ipynb\" target=\"_parent\"><img src=\"https://colab.research.google.com/assets/colab-badge.svg\" alt=\"Open In Colab\"/></a>"
      ]
    },
    {
      "cell_type": "markdown",
      "metadata": {
        "id": "ahVS6TJskZRz"
      },
      "source": [
        "# 2강: 딥러닝 기초2\n",
        "## contents\n",
        "- code review\n",
        "  - [deep learning_colab](https://colab.research.google.com/drive/1tEEUpugUzaT1tD4s4aOZJ3hmYi_nC6L1)\n",
        "---\n",
        "\n",
        "\n"
      ]
    }
  ]
}