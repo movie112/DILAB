{
  "nbformat": 4,
  "nbformat_minor": 0,
  "metadata": {
    "colab": {
      "name": "python_lib.ipynb",
      "provenance": [],
      "mount_file_id": "17IIg9wfB8Qp_woOxvd29Q-bllmeHCouy",
      "authorship_tag": "ABX9TyOs3tD2DrvOcBoV/AGocOMP",
      "include_colab_link": true
    },
    "kernelspec": {
      "name": "python3",
      "display_name": "Python 3"
    },
    "language_info": {
      "name": "python"
    }
  },
  "cells": [
    {
      "cell_type": "markdown",
      "metadata": {
        "id": "view-in-github",
        "colab_type": "text"
      },
      "source": [
        "<a href=\"https://colab.research.google.com/github/movie112/INU-DILAB/blob/main/python_lib.ipynb\" target=\"_parent\"><img src=\"https://colab.research.google.com/assets/colab-badge.svg\" alt=\"Open In Colab\"/></a>"
      ]
    },
    {
      "cell_type": "markdown",
      "metadata": {
        "id": "fB75VXPJHd2i"
      },
      "source": [
        "# 라이브러리\n",
        "<https://22-22.tistory.com/2>"
      ]
    },
    {
      "cell_type": "markdown",
      "metadata": {
        "id": "N-Dnd4QkHyDl"
      },
      "source": [
        "#### 분석 라이브러리\n",
        "- numpy: 과학 계산을 위한 라이브러리, 다차원 배열을 처리하는데 유용한 기능 제공\n",
        "- pandas: 데이터 분석을 위한 라이브러리. Dataframe 자료구조를 사용, 통계 분석을 위한 다양한 기능"
      ]
    },
    {
      "cell_type": "markdown",
      "metadata": {
        "id": "V-z6cxNzJvYS"
      },
      "source": [
        "#### 시각화 라이브러리\n",
        "- seaborn: Matplotlib을 이용해 통계 시각화를 쉽고 보기 좋게 만들어 주는 라이브러리. 일반적인 막대 그래프, 히스토그램, 밀집도 그래프, heatmap 등을 지원\n",
        "- Matplotlib: 도표를 그리기 위한 라이브러리. 복잡한 그래프와 도표를 쉽게 그릴 수 있게"
      ]
    },
    {
      "cell_type": "markdown",
      "metadata": {
        "id": "hG_logX5KiNM"
      },
      "source": [
        "#### ML 라이브러리\n",
        "- scikit-learn\n",
        "  - Classification(SVM, kNN, Decision Tree 등), Regression, Clustering(K-Means 등)을 비롯하여 주요 머신러닝 기법들이 전부 구현되어 있는 라이브러리\n",
        "  - 딥러닝이 아닌 Machine Learning을 다룰 때 추천하는 라이브러리이다. 간단한 인공신경망도 구현되어 있지만, 인공신경망은 다른 라이브러리 이용을 추천\n"
      ]
    }
  ]
}