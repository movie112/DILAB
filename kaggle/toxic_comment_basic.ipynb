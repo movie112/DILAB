{
  "nbformat": 4,
  "nbformat_minor": 0,
  "metadata": {
    "colab": {
      "name": "toxic_comment_basic.ipynb",
      "provenance": [],
      "authorship_tag": "ABX9TyPW+2cvpXXlGP2KM6stKd6U",
      "include_colab_link": true
    },
    "kernelspec": {
      "name": "python3",
      "display_name": "Python 3"
    },
    "language_info": {
      "name": "python"
    }
  },
  "cells": [
    {
      "cell_type": "markdown",
      "metadata": {
        "id": "view-in-github",
        "colab_type": "text"
      },
      "source": [
        "<a href=\"https://colab.research.google.com/github/movie112/INU-DILAB/blob/main/toxic_comment_basic.ipynb\" target=\"_parent\"><img src=\"https://colab.research.google.com/assets/colab-badge.svg\" alt=\"Open In Colab\"/></a>"
      ]
    },
    {
      "cell_type": "markdown",
      "metadata": {
        "id": "jdEJ3ICg4HnI"
      },
      "source": [
        "# [[KAGGLE] Toxic Comment Classification Challenge](https://www.kaggle.com/c/jigsaw-toxic-comment-classification-challenge/data) : Identify and classify toxic online comments\n",
        "---\n",
        "[참고 코드](https://www.kaggle.com/sbongo/for-beginners-tackling-toxic-using-keras) : [For Beginners] Tackling Toxic Using Keras"
      ]
    },
    {
      "cell_type": "code",
      "metadata": {
        "id": "o5EL9kaO2so0"
      },
      "source": [
        "import sys, os, re, csv, codecs, numpy as np, pandas as pd\n",
        "import matplotlib.pyplot as plt\n",
        "%matplotlib inline\n",
        "from keras.preprocessing.text import Tokenizer\n",
        "from keras.preprocessing.sequence import pad_sequences\n",
        "from keras.layers import Dense, Input, LSTM, Embedding, Dropout, Activation\n",
        "from keras.layers import Bidirectional, GlobalMaxPool1D\n",
        "from keras.models import Model\n",
        "from keras import initializers, regularizers, constraints, optimizers, layers"
      ],
      "execution_count": 3,
      "outputs": []
    },
    {
      "cell_type": "code",
      "metadata": {
        "colab": {
          "base_uri": "https://localhost:8080/"
        },
        "id": "K0NJsmGG5lEv",
        "outputId": "fe681682-fe53-4d65-9b0f-9903ec10b6ca"
      },
      "source": [
        "!pip install --upgrade --force-reinstall --no-deps kaggle"
      ],
      "execution_count": 2,
      "outputs": [
        {
          "output_type": "stream",
          "name": "stdout",
          "text": [
            "Collecting kaggle\n",
            "  Downloading kaggle-1.5.12.tar.gz (58 kB)\n",
            "\u001b[?25l\r\u001b[K     |█████▋                          | 10 kB 28.0 MB/s eta 0:00:01\r\u001b[K     |███████████▏                    | 20 kB 26.7 MB/s eta 0:00:01\r\u001b[K     |████████████████▊               | 30 kB 19.0 MB/s eta 0:00:01\r\u001b[K     |██████████████████████▎         | 40 kB 16.0 MB/s eta 0:00:01\r\u001b[K     |███████████████████████████▉    | 51 kB 7.2 MB/s eta 0:00:01\r\u001b[K     |████████████████████████████████| 58 kB 3.6 MB/s \n",
            "\u001b[?25hBuilding wheels for collected packages: kaggle\n",
            "  Building wheel for kaggle (setup.py) ... \u001b[?25l\u001b[?25hdone\n",
            "  Created wheel for kaggle: filename=kaggle-1.5.12-py3-none-any.whl size=73051 sha256=e65b6a77d68e003a2dc98f5648a860ed99f1d17bed3103996747818707dc849a\n",
            "  Stored in directory: /root/.cache/pip/wheels/62/d6/58/5853130f941e75b2177d281eb7e44b4a98ed46dd155f556dc5\n",
            "Successfully built kaggle\n",
            "Installing collected packages: kaggle\n",
            "  Attempting uninstall: kaggle\n",
            "    Found existing installation: kaggle 1.5.12\n",
            "    Uninstalling kaggle-1.5.12:\n",
            "      Successfully uninstalled kaggle-1.5.12\n",
            "Successfully installed kaggle-1.5.12\n"
          ]
        }
      ]
    },
    
    {
      "cell_type": "code",
      "metadata": {
        "colab": {
          "base_uri": "https://localhost:8080/"
        },
        "id": "NLZC3Fm84BZl",
        "outputId": "b59ad547-f717-4d07-ad67-08967c4caa84"
      },
      "source": [
        "!kaggle competitions download -c jigsaw-toxic-comment-classification-challenge"
      ],
      "execution_count": 5,
      "outputs": [
        {
          "output_type": "stream",
          "name": "stdout",
          "text": [
            "Downloading jigsaw-toxic-comment-classification-challenge.zip to /content\n",
            " 78% 41.0M/52.6M [00:00<00:00, 89.4MB/s]\n",
            "100% 52.6M/52.6M [00:00<00:00, 98.8MB/s]\n"
          ]
        }
      ]
    },
    {
      "cell_type": "code",
      "metadata": {
        "id": "P3h4EAVS7IhZ"
      },
      "source": [
        "!unzip -qq \"jigsaw-toxic-comment-classification-challenge.zip\""
      ],
      "execution_count": 6,
      "outputs": []
    },
    {
      "cell_type": "code",
      "metadata": {
        "id": "BwkQV71e8KIL"
      },
      "source": [
        "!unzip -qq \"sample_submission.csv.zip\"\n",
        "!unzip -qq \"test.csv.zip\"\n",
        "!unzip -qq \"test_labels.csv.zip\"\n",
        "!unzip -qq \"train.csv.zip\""
      ],
      "execution_count": 7,
      "outputs": []
    },
    {
      "cell_type": "code",
      "metadata": {
        "id": "9MH6P13o4xBY"
      },
      "source": [
        "train = pd.read_csv('train.csv')\n",
        "test = pd.read_csv('test.csv')"
      ],
      "execution_count": 8,
      "outputs": []
    },
    {
      "cell_type": "code",
      "metadata": {
        "colab": {
          "base_uri": "https://localhost:8080/",
          "height": 350
        },
        "id": "aeWR1e7--WNS",
        "outputId": "edf067c2-3717-4b2e-f200-3ff1c5d33b16"
      },
      "source": [
        "train.head(8)"
      ],
      "execution_count": 9,
      "outputs": [
        {
          "output_type": "execute_result",
          "data": {
            "text/html": [
              "<div>\n",
              "<style scoped>\n",
              "    .dataframe tbody tr th:only-of-type {\n",
              "        vertical-align: middle;\n",
              "    }\n",
              "\n",
              "    .dataframe tbody tr th {\n",
              "        vertical-align: top;\n",
              "    }\n",
              "\n",
              "    .dataframe thead th {\n",
              "        text-align: right;\n",
              "    }\n",
              "</style>\n",
              "<table border=\"1\" class=\"dataframe\">\n",
              "  <thead>\n",
              "    <tr style=\"text-align: right;\">\n",
              "      <th></th>\n",
              "      <th>id</th>\n",
              "      <th>comment_text</th>\n",
              "      <th>toxic</th>\n",
              "      <th>severe_toxic</th>\n",
              "      <th>obscene</th>\n",
              "      <th>threat</th>\n",
              "      <th>insult</th>\n",
              "      <th>identity_hate</th>\n",
              "    </tr>\n",
              "  </thead>\n",
              "  <tbody>\n",
              "    <tr>\n",
              "      <th>0</th>\n",
              "      <td>0000997932d777bf</td>\n",
              "      <td>Explanation\\nWhy the edits made under my usern...</td>\n",
              "      <td>0</td>\n",
              "      <td>0</td>\n",
              "      <td>0</td>\n",
              "      <td>0</td>\n",
              "      <td>0</td>\n",
              "      <td>0</td>\n",
              "    </tr>\n",
              "    <tr>\n",
              "      <th>1</th>\n",
              "      <td>000103f0d9cfb60f</td>\n",
              "      <td>D'aww! He matches this background colour I'm s...</td>\n",
              "      <td>0</td>\n",
              "      <td>0</td>\n",
              "      <td>0</td>\n",
              "      <td>0</td>\n",
              "      <td>0</td>\n",
              "      <td>0</td>\n",
              "    </tr>\n",
              "    <tr>\n",
              "      <th>2</th>\n",
              "      <td>000113f07ec002fd</td>\n",
              "      <td>Hey man, I'm really not trying to edit war. It...</td>\n",
              "      <td>0</td>\n",
              "      <td>0</td>\n",
              "      <td>0</td>\n",
              "      <td>0</td>\n",
              "      <td>0</td>\n",
              "      <td>0</td>\n",
              "    </tr>\n",
              "    <tr>\n",
              "      <th>3</th>\n",
              "      <td>0001b41b1c6bb37e</td>\n",
              "      <td>\"\\nMore\\nI can't make any real suggestions on ...</td>\n",
              "      <td>0</td>\n",
              "      <td>0</td>\n",
              "      <td>0</td>\n",
              "      <td>0</td>\n",
              "      <td>0</td>\n",
              "      <td>0</td>\n",
              "    </tr>\n",
              "    <tr>\n",
              "      <th>4</th>\n",
              "      <td>0001d958c54c6e35</td>\n",
              "      <td>You, sir, are my hero. Any chance you remember...</td>\n",
              "      <td>0</td>\n",
              "      <td>0</td>\n",
              "      <td>0</td>\n",
              "      <td>0</td>\n",
              "      <td>0</td>\n",
              "      <td>0</td>\n",
              "    </tr>\n",
              "    <tr>\n",
              "      <th>5</th>\n",
              "      <td>00025465d4725e87</td>\n",
              "      <td>\"\\n\\nCongratulations from me as well, use the ...</td>\n",
              "      <td>0</td>\n",
              "      <td>0</td>\n",
              "      <td>0</td>\n",
              "      <td>0</td>\n",
              "      <td>0</td>\n",
              "      <td>0</td>\n",
              "    </tr>\n",
              "    <tr>\n",
              "      <th>6</th>\n",
              "      <td>0002bcb3da6cb337</td>\n",
              "      <td>COCKSUCKER BEFORE YOU PISS AROUND ON MY WORK</td>\n",
              "      <td>1</td>\n",
              "      <td>1</td>\n",
              "      <td>1</td>\n",
              "      <td>0</td>\n",
              "      <td>1</td>\n",
              "      <td>0</td>\n",
              "    </tr>\n",
              "    <tr>\n",
              "      <th>7</th>\n",
              "      <td>00031b1e95af7921</td>\n",
              "      <td>Your vandalism to the Matt Shirvington article...</td>\n",
              "      <td>0</td>\n",
              "      <td>0</td>\n",
              "      <td>0</td>\n",
              "      <td>0</td>\n",
              "      <td>0</td>\n",
              "      <td>0</td>\n",
              "    </tr>\n",
              "  </tbody>\n",
              "</table>\n",
              "</div>"
            ],
            "text/plain": [
              "                 id  ... identity_hate\n",
              "0  0000997932d777bf  ...             0\n",
              "1  000103f0d9cfb60f  ...             0\n",
              "2  000113f07ec002fd  ...             0\n",
              "3  0001b41b1c6bb37e  ...             0\n",
              "4  0001d958c54c6e35  ...             0\n",
              "5  00025465d4725e87  ...             0\n",
              "6  0002bcb3da6cb337  ...             0\n",
              "7  00031b1e95af7921  ...             0\n",
              "\n",
              "[8 rows x 8 columns]"
            ]
          },
          "metadata": {},
          "execution_count": 9
        }
      ]
    },
    {
      "cell_type": "markdown",
      "metadata": {
        "id": "LVIV4CTX_QUY"
      },
      "source": [
        "## 전처리"
      ]
    },
    {
      "cell_type": "markdown",
      "metadata": {
        "id": "jOyHgKxR_qXl"
      },
      "source": [
        "- null 값 다룰 필요X"
      ]
    },
    {
      "cell_type": "code",
      "metadata": {
        "colab": {
          "base_uri": "https://localhost:8080/"
        },
        "id": "_ONTQsn3_MGw",
        "outputId": "85305e14-cad5-44d1-a391-1a2f34ba06c6"
      },
      "source": [
        "train.isnull().any()"
      ],
      "execution_count": 10,
      "outputs": [
        {
          "output_type": "execute_result",
          "data": {
            "text/plain": [
              "id               False\n",
              "comment_text     False\n",
              "toxic            False\n",
              "severe_toxic     False\n",
              "obscene          False\n",
              "threat           False\n",
              "insult           False\n",
              "identity_hate    False\n",
              "dtype: bool"
            ]
          },
          "metadata": {},
          "execution_count": 10
        }
      ]
    },
    {
      "cell_type": "code",
      "metadata": {
        "colab": {
          "base_uri": "https://localhost:8080/"
        },
        "id": "j8uCcL8p_sD6",
        "outputId": "0dc479a4-26b1-4a4f-b056-de78bf31bfef"
      },
      "source": [
        "test.isnull().any()"
      ],
      "execution_count": 11,
      "outputs": [
        {
          "output_type": "execute_result",
          "data": {
            "text/plain": [
              "id              False\n",
              "comment_text    False\n",
              "dtype: bool"
            ]
          },
          "metadata": {},
          "execution_count": 11
        }
      ]
    },
    {
      "cell_type": "code",
      "metadata": {
        "id": "1GBPipXlAMrE"
      },
      "source": [
        "list_classes = [\"toxic\", \"severe_toxic\", \"obscene\", \"threat\", \"insult\", \"identity_hate\"]\n",
        "y = train[list_classes].values\n",
        "list_sentences_train = train[\"comment_text\"]\n",
        "list_sentences_test = test[\"comment_text\"]"
      ],
      "execution_count": 12,
      "outputs": []
    },
    {
      "cell_type": "markdown",
      "metadata": {
        "id": "j2BYhmiEADFb"
      },
      "source": [
        "- Tokenization \n",
        "  - \"I love cats and love dogs\" will become [\"I\",\"love\",\"cats\",\"and\",\"dogs\"]\n",
        "- Indexing :  We put the words in a dictionary\n",
        "  - {1:\"I\",2:\"love\",3:\"cats\",4:\"and\",5:\"dogs\"}\n",
        "- Index Representation\n",
        "  - We could represent the sequence of words in the comments in the form of index, and feed this chain of index into our LSTM. \n",
        "  - [1,2,3,4,2,5]"
      ]
    },
    {
      "cell_type": "code",
      "metadata": {
        "id": "phC1dsTVB24x"
      },
      "source": [
        "max_features = 20000\n",
        "tokenizer = Tokenizer(num_words=max_features)\n",
        "tokenizer.fit_on_texts(list(list_sentences_train))\n",
        "list_tokenized_train = tokenizer.texts_to_sequences(list_sentences_train)\n",
        "list_tokenized_test = tokenizer.texts_to_sequences(list_sentences_test)"
      ],
      "execution_count": 13,
      "outputs": []
    },
    {
      "cell_type": "markdown",
      "metadata": {
        "id": "BpBp2I5KC7rG"
      },
      "source": [
        "- word -> index 확인"
      ]
    },
    {
      "cell_type": "code",
      "metadata": {
        "colab": {
          "base_uri": "https://localhost:8080/"
        },
        "id": "amHmEtxfC5xB",
        "outputId": "319f1baa-0706-409a-8b21-74f74cbf7a47"
      },
      "source": [
        "list_tokenized_train[:1]"
      ],
      "execution_count": 14,
      "outputs": [
        {
          "output_type": "execute_result",
          "data": {
            "text/plain": [
              "[[688,\n",
              "  75,\n",
              "  1,\n",
              "  126,\n",
              "  130,\n",
              "  177,\n",
              "  29,\n",
              "  672,\n",
              "  4511,\n",
              "  12052,\n",
              "  1116,\n",
              "  86,\n",
              "  331,\n",
              "  51,\n",
              "  2278,\n",
              "  11448,\n",
              "  50,\n",
              "  6864,\n",
              "  15,\n",
              "  60,\n",
              "  2756,\n",
              "  148,\n",
              "  7,\n",
              "  2937,\n",
              "  34,\n",
              "  117,\n",
              "  1221,\n",
              "  15190,\n",
              "  2825,\n",
              "  4,\n",
              "  45,\n",
              "  59,\n",
              "  244,\n",
              "  1,\n",
              "  365,\n",
              "  31,\n",
              "  1,\n",
              "  38,\n",
              "  27,\n",
              "  143,\n",
              "  73,\n",
              "  3462,\n",
              "  89,\n",
              "  3085,\n",
              "  4583,\n",
              "  2273,\n",
              "  985]]"
            ]
          },
          "metadata": {},
          "execution_count": 14
        }
      ]
    },
    {
      "cell_type": "markdown",
      "metadata": {
        "id": "x5AdJxrfDJfa"
      },
      "source": [
        "- padding"
      ]
    },
    {
      "cell_type": "code",
      "metadata": {
        "id": "TyELYTDhDI8q"
      },
      "source": [
        "maxlen = 200\n",
        "X_t = pad_sequences(list_tokenized_train, maxlen=maxlen)\n",
        "X_te = pad_sequences(list_tokenized_test, maxlen=maxlen)"
      ],
      "execution_count": 15,
      "outputs": []
    },
    {
      "cell_type": "markdown",
      "metadata": {
        "id": "cxb273T7DYTy"
      },
      "source": [
        "- 최대 길이(maxlen)를 200으로 설정하였다. \n",
        "- 너무 짧게 잡으면 정보다 손실되어서 정확도가 저하될 가능성이 있다.\n",
        "- 너무 길면 LSTM cell이 너무 많은 값 저장해야함\n",
        "\n",
        "- 최적의 'maxlen' 찾는 방법\n",
        "  - 문장의 단어 수의 분포를 보는 것!!"
      ]
    },
    {
      "cell_type": "code",
      "metadata": {
        "id": "fSiCNWnuEEyP"
      },
      "source": [
        "totalNumWords = [len(one_comment) for one_comment in list_tokenized_train]"
      ],
      "execution_count": 16,
      "outputs": []
    },
    {
      "cell_type": "code",
      "metadata": {
        "colab": {
          "base_uri": "https://localhost:8080/",
          "height": 265
        },
        "id": "UNJBXW9eEICr",
        "outputId": "a9dd00d7-a90f-4b2e-b02d-768863c0a6b4"
      },
      "source": [
        "plt.hist(totalNumWords,bins = np.arange(0,410,10))#[0,50,100,150,200,250,300,350,400])#,450,500,550,600,650,700,750,800,850,900])\n",
        "plt.show()"
      ],
      "execution_count": 17,
      "outputs": [
        {
          "output_type": "display_data",
          "data": {
            "image/png": "[encoded data removed]",
            "text/plain": [
              "<Figure size 432x288 with 1 Axes>"
            ]
          },
          "metadata": {
            "needs_background": "light"
          }
        }
      ]
    },
    {
      "cell_type": "markdown",
      "metadata": {
        "id": "2KWssYtJENyL"
      },
      "source": [
        "- 대부분의 문장 길이는 약 30개 이상이다. \n",
        "- \"maxlen\"을 약 50으로 설정할 수 있지만, 200으로 할 것."
      ]
    },
    {
      "cell_type": "markdown",
      "metadata": {
        "id": "gu_WN-EpEUq5"
      },
      "source": [
        "## modeling\n",
        "\n",
        "![imag](https://i.imgur.com/txJomEa.png)"
      ]
    },
    {
      "cell_type": "markdown",
      "metadata": {
        "id": "SSDxbI3GGxdo"
      },
      "source": [
        "- input layer\n",
        "  - by indication an empty space after comma -> keras infer the number automatically"
      ]
    },
    {
      "cell_type": "code",
      "metadata": {
        "id": "ljMLyD06EToa"
      },
      "source": [
        "inp = Input(shape=(maxlen, ))"
      ],
      "execution_count": 18,
      "outputs": []
    },
    {
      "cell_type": "markdown",
      "metadata": {
        "id": "DA2yz0ecHTAD"
      },
      "source": [
        "- embedding layer\n",
        "  - we need to difine the **size of the \"vector space\"** and **number of unique words(max_features)**"
      ]
    },
    {
      "cell_type": "code",
      "metadata": {
        "id": "Q7ubzf9iME0L"
      },
      "source": [
        "embed_size = 128\n",
        "x = Embedding(max_features, embed_size)(inp)"
      ],
      "execution_count": 19,
      "outputs": []
    },
    {
      "cell_type": "markdown",
      "metadata": {
        "id": "igWwLAbXMRto"
      },
      "source": [
        "- embedding layer는 3차원 tensor (none, 200, 128)\n",
        "  - array of sentence : none(means that it's size if inferred)\n",
        "  - for each words(200), there if an array of 128 coordinates in the vector space of embedding."
      ]
    },
    {
      "cell_type": "markdown",
      "metadata": {
        "id": "Ge3fCtZxOCQb"
      },
      "source": [
        "- LSTM layer\n",
        "  - output : 60 dim \n",
        "  - it to return the whole unrolled sequence of results\n",
        "  - [Batch Size, Time Steps, Number of Inputs]\n",
        "    - Batch size : the number of samples in a batch\n",
        "    - time steps : the number of recursion it runs for each input,\n",
        "    - number of inputs : the number of variables(number of words in each sentence in our case) \n",
        "  - (None, 200, 60) 형태가 receive 될 것임."
      ]
    },
    {
      "cell_type": "code",
      "metadata": {
        "id": "eipv8gVpjq6o"
      },
      "source": [
        "x = LSTM(60, return_sequences=True,name='lstm_layer')(x)"
      ],
      "execution_count": 20,
      "outputs": []
    },
    {
      "cell_type": "markdown",
      "metadata": {
        "id": "GkqGC5Wyjw3n"
      },
      "source": [
        "- output을 normal layer로 전달하기 전에, 3차원을 2차원으로 reshape 필요.\n",
        "  - 과정에서 데이터 손실 주의\n",
        "- CNN problems 에서 image data의 dim을 줄이기 위해 전통적으로 **Global Max pooling layer** 이용\n",
        "  - each patch of data를 보고 , take the maximum values of each patch.\n",
        "  - these collection of maimum values will be new set of down-sized data we can use.\n"
      ]
    },
    {
      "cell_type": "code",
      "metadata": {
        "id": "VkMp5qhqk_8i"
      },
      "source": [
        "x = GlobalMaxPool1D()(x)"
      ],
      "execution_count": 21,
      "outputs": []
    },
    {
      "cell_type": "markdown",
      "metadata": {
        "id": "Q4Mci8KclGA2"
      },
      "source": [
        "- dropout layer\n",
        "  - 2D tensor를 pass 시킴.\n",
        "    - 일부 nodes를 무분별하게 \"disable\" 시키고 next layer의 nodes가 missing data 표현을 처리하도록 함.\n",
        "  - We set the dropout layer to drop out **10%(0.1)** of the nodes."
      ]
    },
    {
      "cell_type": "code",
      "metadata": {
        "id": "5pP2ziJypOW5"
      },
      "source": [
        "x = Dropout(0.1)(x)"
      ],
      "execution_count": 22,
      "outputs": []
    },
    {
      "cell_type": "markdown",
      "metadata": {
        "id": "S9FVPq7RpStw"
      },
      "source": [
        "- dense layer\n",
        "  - dropout layer의 output을 **densely connected layer**에 연결하고, output을 **RELU function**을 통과.\n",
        "  - **activation((input X weights) + bias)**\n",
        "  - dense layer의 output dim = 50으로 정의"
      ]
    },
    {
      "cell_type": "code",
      "metadata": {
        "id": "0GWWS3ImpSVI"
      },
      "source": [
        "x = Dense(50, activation=\"relu\")(x)"
      ],
      "execution_count": 23,
      "outputs": []
    },
    {
      "cell_type": "markdown",
      "metadata": {
        "id": "H9JYeERrqJvZ"
      },
      "source": [
        "- dropout layer\n",
        "  - we feed the output into a Dropout layer again."
      ]
    },
    {
      "cell_type": "code",
      "metadata": {
        "id": "03UL2TpeqRl5"
      },
      "source": [
        "x = Dropout(0.1)(x)"
      ],
      "execution_count": 24,
      "outputs": []
    },
    {
      "cell_type": "markdown",
      "metadata": {
        "id": "okiJ4F9eqSYa"
      },
      "source": [
        "- sigmoid layer\n",
        "  - 6 labels 각각에 이진 분류\n"
      ]
    },
    {
      "cell_type": "code",
      "metadata": {
        "id": "1KhDNqftVhzZ"
      },
      "source": [
        "x = Dense(6, activation=\"sigmoid\")(x)"
      ],
      "execution_count": 25,
      "outputs": []
    },
    {
      "cell_type": "markdown",
      "metadata": {
        "id": "JfvuBsbcZXy7"
      },
      "source": [
        "-  Adam optimizer : 손실 함수를 최적화\n",
        "- loss function : \"binary_crossentropy\n",
        "- learning rate : default 0.001"
      ]
    },
    {
      "cell_type": "code",
      "metadata": {
        "id": "pThCq-94Zywj"
      },
      "source": [
        "model = Model(inputs=inp, outputs=x)\n",
        "model.compile(loss='binary_crossentropy',\n",
        "                  optimizer='adam',\n",
        "                  metrics=['accuracy'])"
      ],
      "execution_count": 26,
      "outputs": []
    },
    {
      "cell_type": "markdown",
      "metadata": {
        "id": "mFt2KW-UnSnF"
      },
      "source": [
        "## test"
      ]
    },
    {
      "cell_type": "markdown",
      "metadata": {
        "id": "2BMHJXuDnau_"
      },
      "source": [
        "- 각 배치에 대해 32개의 패딩된 색인화된 문장 목록 제공\n",
        "- 데이터의 10%를 검증 세트로 분할\n",
        "- validation set : 모형이 각 배치에 대해 과도하게 적합되었는지 여부를 평가하는 데 사용\n",
        "- 2 epoch "
      ]
    },
    {
      "cell_type": "code",
      "metadata": {
        "colab": {
          "base_uri": "https://localhost:8080/"
        },
        "id": "bZRQPXLzntSd",
        "outputId": "ccad8829-c826-4b7b-b7ec-e67930e0417f"
      },
      "source": [
        "batch_size = 32\n",
        "epochs = 2\n",
        "model.fit(X_t,y, batch_size=batch_size, epochs=epochs, validation_split=0.1)"
      ],
      "execution_count": 27,
      "outputs": [
        {
          "output_type": "stream",
          "name": "stdout",
          "text": [
            "Epoch 1/2\n",
            "4488/4488 [==============================] - 661s 147ms/step - loss: 0.0695 - accuracy: 0.9535 - val_loss: 0.0491 - val_accuracy: 0.9936\n",
            "Epoch 2/2\n",
            "4488/4488 [==============================] - 654s 146ms/step - loss: 0.0450 - accuracy: 0.9915 - val_loss: 0.0469 - val_accuracy: 0.9935\n"
          ]
        },
        {
          "output_type": "execute_result",
          "data": {
            "text/plain": [
              "<keras.callbacks.History at 0x7f751faabed0>"
            ]
          },
          "metadata": {},
          "execution_count": 27
        }
      ]
    },
    {
      "cell_type": "markdown",
      "metadata": {
        "id": "rCbekTS6n1o-"
      },
      "source": [
        "## tips"
      ]
    },
    {
      "cell_type": "code",
      "metadata": {
        "colab": {
          "base_uri": "https://localhost:8080/"
        },
        "id": "KGUcShuMoEwr",
        "outputId": "3e76c873-fa72-442f-9f59-39dd49a6b46f"
      },
      "source": [
        "model.summary()"
      ],
      "execution_count": 28,
      "outputs": [
        {
          "output_type": "stream",
          "name": "stdout",
          "text": [
            "Model: \"model\"\n",
            "_________________________________________________________________\n",
            " Layer (type)                Output Shape              Param #   \n",
            "=================================================================\n",
            " input_1 (InputLayer)        [(None, 200)]             0         \n",
            "                                                                 \n",
            " embedding (Embedding)       (None, 200, 128)          2560000   \n",
            "                                                                 \n",
            " lstm_layer (LSTM)           (None, 200, 60)           45360     \n",
            "                                                                 \n",
            " global_max_pooling1d (Globa  (None, 60)               0         \n",
            " lMaxPooling1D)                                                  \n",
            "                                                                 \n",
            " dropout (Dropout)           (None, 60)                0         \n",
            "                                                                 \n",
            " dense (Dense)               (None, 50)                3050      \n",
            "                                                                 \n",
            " dropout_1 (Dropout)         (None, 50)                0         \n",
            "                                                                 \n",
            " dense_1 (Dense)             (None, 6)                 306       \n",
            "                                                                 \n",
            "=================================================================\n",
            "Total params: 2,608,716\n",
            "Trainable params: 2,608,716\n",
            "Non-trainable params: 0\n",
            "_________________________________________________________________\n"
          ]
        }
      ]
    },
    {
      "cell_type": "markdown",
      "metadata": {
        "id": "l3AViaYCoD0e"
      },
      "source": [
        ""
      ]
    }
  ]
}
