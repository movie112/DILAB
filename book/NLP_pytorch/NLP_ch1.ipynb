{
  "nbformat": 4,
  "nbformat_minor": 0,
  "metadata": {
    "colab": {
      "name": "NLP_ch1.ipynb",
      "provenance": [],
      "collapsed_sections": [],
      "authorship_tag": "ABX9TyP970L4SI6mdKtdnZm6mBER",
      "include_colab_link": true
    },
    "kernelspec": {
      "name": "python3",
      "display_name": "Python 3"
    },
    "language_info": {
      "name": "python"
    }
  },
  "cells": [
    {
      "cell_type": "markdown",
      "metadata": {
        "id": "view-in-github",
        "colab_type": "text"
      },
      "source": [
        "<a href=\"https://colab.research.google.com/github/movie112/INU-DILAB/blob/main/NLP_pytorch/NLP_ch1.ipynb\" target=\"_parent\"><img src=\"https://colab.research.google.com/assets/colab-badge.svg\" alt=\"Open In Colab\"/></a>"
      ]
    },
    {
      "cell_type": "markdown",
      "metadata": {
        "id": "G6gfFaQzRFPw"
      },
      "source": [
        "# 파이토치로 배우는 자연어 처리: ch1\n",
        "## 1. 소개   \n",
        "1.1 지도학습   \n",
        "1.2 샘플과 타깃의 인코딩   \n",
        "  - 원-핫 인코딩, TF 표현, TF-IDF 표현, 타깃 인코딩   \n",
        "\n",
        "1.3 계산 그래프   \n",
        "1.4 파이토치 기초\n",
        "  - 파이토치 설치, 텐서 만들기, 텐서 타입과 크기, 텐서, 텐서와 계산 그래프, CUDA 텐서\n",
        "\n",
        "---\n"
      ]
    },
    {
      "cell_type": "markdown",
      "metadata": {
        "id": "tdc2OX2GgAls"
      },
      "source": [
        "## 1.1 지도학습\n",
        "- observation에 대응하는 target의 정답을 제공하는 방식   \n",
        "주요 개념   \n",
        "- `샘플`: 예측에 사용하는 아이템, 입력(input) / x\n",
        "- `타깃`: 샘플에 상응하는 레이블(label) / 예측되는 대상 / 정답, y\n",
        "- `모델(model)`: 수학식이나 샘플x를 받아 타깃 레이블값을 예측하는 함수\n",
        "- `parameter`: 가중치(weight) / 모델을 규정함 / w\n",
        "- `예측(prediction)`: 모델이 추축하는 target값 / 추정(estimate) / hat 표기\n",
        "- `손실함수(loss function)`: 훈련 데이터에 대한 예측이 target과 얼마나 차이 나는지 비교하는 함수 /  L\n",
        "\n",
        "#### gradient descent\n",
        "- data set에서 손실함수를 최소화하는 parameter 값 찾기\n",
        "- stochastic gradient descent(SGD): 확률적 경사 하강법\n",
        "  - data point를 하나 또는 일부 랜덤하게 선택하여 gradient 계산\n",
        "- minibatch SGD: pure SGD 여러 개 사용하는 방법\n",
        "- pure SGD: updata 잡음이 많아 수렴이 매우 느림\n",
        "- backpropagation: 역전파, parameter를 반복적으로 update하는 과정\n",
        "    - 각 단계(epoch)는 정방향계산(foward pass), 역방향 계산(backward padd) 구성\n",
        "    - foward: 현재 parameter 값으로 입력을 평가해 손실함수 계산\n",
        "    - backward: 손실의 gradient를 사용해 parameter update\n",
        "---\n",
        "\n",
        "\n",
        "\n",
        "\n"
      ]
    },
    {
      "cell_type": "markdown",
      "metadata": {
        "id": "fS8uP1lagEAL"
      },
      "source": [
        "## 1.2 샘플과 타깃의 인코딩\n",
        "\n"
      ]
    },
    {
      "cell_type": "markdown",
      "metadata": {
        "id": "wjlLCHBA0Uhg"
      },
      "source": [
        "### 1.2.1. one-hot representation\n",
        "- 0 벡터에서 시작해 등장하는 단어 원소를 1로 설정   \n",
        "example) Time files like an arrow. / Fruit flies like a banana.\n",
        "- 문장을 토큰(token)으로 나누고 구두점을 무시하고 모두 소문자로 바꾸면 어휘사전(vocabulary)의 크기는 8이 된다.\n",
        "- { time, fruit, flies, like, a , an, arrow, banana}\n",
        "- \"like a banana\"의 one-hot 표현은 3X8 행렬이 됩니다. 행은 8차원 one-hot 벡터 \n",
        "\n"
      ]
    },
    {
      "cell_type": "markdown",
      "metadata": {
        "id": "-0RI8e820cSY"
      },
      "source": [
        "### 1.2.2 TF 표현(문서 빈도)\n",
        "- 단순히 소속 단어의 one-hot representation을 합해 만듦   \n",
        "- example) Fruit flies like time flies a fruit -> [1, 2, 2, 1, 1, 0, 0, 0] 각 원소는 해당 단어가 문장에 등장하는 횟수\n",
        "- `CountVectorizer` 클래스에서 binary=True로 지정해서 원핫인코딩으로 변환\n",
        "  - 기본값은 false로 단어 등장 횟수를 기록한 TF표현을 만든다.\n",
        "  - 기본적으로 글자 하나로 이루어진 단어를 무시\n",
        "  - 희소행렬을 반환하므로 toarray()메서드를 사용해 밀집벡터형태로 바꿔 출력\n",
        " \n"
      ]
    },
    {
      "cell_type": "code",
      "metadata": {
        "id": "3ZOYcnb37LhN"
      },
      "source": [
        "from sklearn.feature_extraction.text import CountVectorizer\n",
        "import seaborn as sns\n",
        "\n",
        "corpus =['Time flies like an arrow.', \n",
        "         'Fruit flie like a banana.']\n",
        "one_hot_vectorizer = CountVectorizer(binary=True) #  binary=True로 지정해서 원핫인코딩으로 변환, 기본값은 false로 단어 등장 횟수를 기록한 TF표현을 만든다.\n",
        "one_hot = one_hot_vectorizer.fit_transform(corpus).toarray()\n",
        "one_hot = one_hot_vectorizer.get_feature_names()\n",
        "sns.heatmap(one_hot, annot=True, \n",
        "            cbar=False, xticklabels=vocab,\n",
        "            yticklabels=['Sentence 1', 'Sentence 2'])"
      ],
      "execution_count": null,
      "outputs": []
    },
    {
      "cell_type": "markdown",
      "metadata": {
        "id": "ddysQ04p2HpW"
      },
      "source": [
        "### 1.2.3 TF-IDF 표현\n",
        "- TF: 등장 횟수에 비례하여 단어에 가중치 부여, 흔한 단어에는 X\n",
        "- inverse-document-frequency(IDF): 흔한 토큰의 점수를 낮추고 드문 토큰의 점수를 높임\n",
        "- 딥러닝의 목적은 표현 학습이므로 보통 TF-IDF 같이 경험적인 방법으로 입력을 인코딩하지 않는다. \n",
        "\n"
      ]
    },
    {
      "cell_type": "markdown",
      "metadata": {
        "id": "FpoqKvxeFyrE"
      },
      "source": [
        "### 1.2.4 타깃 인코딩\n",
        "많은 NLP 작업은 범주형 레이블을 사용\n",
        "- 모델은 고정된 한 세트의 레이블 중 하나를 예측해야 함 이를 인코딩할 때는 레이블마다 고유한 인덱스를 부여하는 방법을 가정 많이 사용, 하지만 이런 간단한 표현은 출력 레이블 수가 너무 커지면 문제가 된다.ex) 언어 모델링: 이전 단어로 다음 단어 예측\n",
        "\n"
      ]
    },
    {
      "cell_type": "markdown",
      "metadata": {
        "id": "zKHy0PVGHNhZ"
      },
      "source": [
        "---\n",
        "\n",
        "## 1.3 계산 그래프\n",
        "\n",
        "---"
      ]
    },
    {
      "cell_type": "markdown",
      "metadata": {
        "id": "f0CO0oMjGTt5"
      },
      "source": [
        "\n",
        "## 1.4 파이토치 기초\n",
        "- `파이토치`: 딥러닝용 패키지를 제공하는 최적화된 텐서 조작 라이브러리\n",
        "- `텐서`: 다차원 데이터를 담은 수학 객체"
      ]
    },
    {
      "cell_type": "markdown",
      "metadata": {
        "id": "IOpm3w1xPKvX"
      },
      "source": [
        "#### 1.4.2 텐서 만들기"
      ]
    },
    {
      "cell_type": "code",
      "metadata": {
        "id": "_Qcd9-e3IIaY"
      },
      "source": [
        "import torch\n",
        "import numpy as np"
      ],
      "execution_count": 3,
      "outputs": []
    },
    {
      "cell_type": "code",
      "metadata": {
        "id": "UVyMS0h-PPvG"
      },
      "source": [
        ""
      ],
      "execution_count": null,
      "outputs": []
    },
    {
      "cell_type": "code",
      "metadata": {
        "id": "meihb08_IMdA"
      },
      "source": [
        "def describe(x):\n",
        "    print(\"타입: {}\".format(x.type()))\n",
        "    print(\"크기: {}\".format(x.shape))\n",
        "    print(\"값: \\n{}\".format(x))"
      ],
      "execution_count": 4,
      "outputs": []
    },
    {
      "cell_type": "code",
      "metadata": {
        "colab": {
          "base_uri": "https://localhost:8080/"
        },
        "id": "0oL1pSXQI_fY",
        "outputId": "dad98983-3fbb-4c80-812a-e5dec4fc339b"
      },
      "source": [
        "# torch.Tensor로 텐서 만들기\n",
        "describe(torch.Tensor(2, 3))"
      ],
      "execution_count": 6,
      "outputs": [
        {
          "output_type": "stream",
          "text": [
            "타입: torch.FloatTensor\n",
            "크기: torch.Size([2, 3])\n",
            "값: \n",
            "tensor([[1.9133e+09, 3.0659e-41, 3.7835e-44],\n",
            "        [0.0000e+00,        nan, 0.0000e+00]])\n"
          ],
          "name": "stdout"
        }
      ]
    },
    {
      "cell_type": "markdown",
      "metadata": {
        "id": "Jx41usU2jKTU"
      },
      "source": [
        "[0, 1) 범위의 균등 분포에서 샘플링한 값으로 랜덤하게 초기화"
      ]
    },
    {
      "cell_type": "code",
      "metadata": {
        "id": "dmObsP3kjWjy"
      },
      "source": [
        "# 특정 크기의 랜덤한 텐서를 만드느 것이 일반적입니다.\n",
        "t = torch.rand(2, 3)  # 균등 분포\n",
        "t = torch.randn(2, 3) # 표준 균등 분포"
      ],
      "execution_count": null,
      "outputs": []
    },
    {
      "cell_type": "markdown",
      "metadata": {
        "id": "uwFJ-mHwjjSF"
      },
      "source": [
        "동일한 스칼라값으로 채운 텐서   \n",
        "`zeros()`, `ones()`, `fill_()`   \n",
        "- `in-place`: (_)가 있는 메서드는 텐서값을 바꾸는 연산\n",
        "  - 새로운 객체를 만들지 않고 현재값을 변경\n",
        "- 정규분포 쓰는 `normal_()`, 균등분포 쓰는 `uniform_()`"
      ]
    },
    {
      "cell_type": "code",
      "metadata": {
        "id": "9am8Gx8QkCWH",
        "colab": {
          "base_uri": "https://localhost:8080/"
        },
        "outputId": "eb23c6eb-6a27-4d80-e349-2908c6082af0"
      },
      "source": [
        "describe(torch.zeros(2, 3))\n",
        "x = torch.ones(2, 3)\n",
        "describe(x)\n",
        "x.fill_(5)\n",
        "describe(x)"
      ],
      "execution_count": 8,
      "outputs": [
        {
          "output_type": "stream",
          "text": [
            "타입: torch.FloatTensor\n",
            "크기: torch.Size([2, 3])\n",
            "값: \n",
            "tensor([[0., 0., 0.],\n",
            "        [0., 0., 0.]])\n",
            "타입: torch.FloatTensor\n",
            "크기: torch.Size([2, 3])\n",
            "값: \n",
            "tensor([[1., 1., 1.],\n",
            "        [1., 1., 1.]])\n",
            "타입: torch.FloatTensor\n",
            "크기: torch.Size([2, 3])\n",
            "값: \n",
            "tensor([[5., 5., 5.],\n",
            "        [5., 5., 5.]])\n"
          ],
          "name": "stdout"
        }
      ]
    },
    {
      "cell_type": "markdown",
      "metadata": {
        "id": "CMvYmzO-kT-T"
      },
      "source": [
        "파이썬 리스트로 텐서 만들기"
      ]
    },
    {
      "cell_type": "code",
      "metadata": {
        "id": "C3aZyhHTkXVf",
        "colab": {
          "base_uri": "https://localhost:8080/"
        },
        "outputId": "88114bd3-fb92-4833-c660-dc622607381b"
      },
      "source": [
        "x = torch.Tensor([[1, 2,],  \n",
        "                  [2, 4,]])\n",
        "describe(x)"
      ],
      "execution_count": 11,
      "outputs": [
        {
          "output_type": "stream",
          "text": [
            "타입: torch.FloatTensor\n",
            "크기: torch.Size([2, 2])\n",
            "값: \n",
            "tensor([[1., 2.],\n",
            "        [2., 4.]])\n"
          ],
          "name": "stdout"
        }
      ]
    },
    {
      "cell_type": "markdown",
      "metadata": {
        "id": "qfHhChDwk3Xl"
      },
      "source": [
        "numpy로 텐서 만들고 초기화\n",
        "- 언제든지 텐서를 numpy 배열로 변경 가능\n",
        "- numpy 배열은 tensor type이 FloatTensor가 아니라 DoubleTensor가 됨"
      ]
    },
    {
      "cell_type": "code",
      "metadata": {
        "id": "wCDOye41lGmF",
        "colab": {
          "base_uri": "https://localhost:8080/"
        },
        "outputId": "fb9112fe-f041-44f8-ccce-94acf28778a0"
      },
      "source": [
        "import numpy as np\n",
        "\n",
        "npy = np.random.rand(2, 3)\n",
        "describe(torch.from_numpy(npy))\n",
        "print(npy.dtype)"
      ],
      "execution_count": 12,
      "outputs": [
        {
          "output_type": "stream",
          "text": [
            "타입: torch.DoubleTensor\n",
            "크기: torch.Size([2, 3])\n",
            "값: \n",
            "tensor([[0.8947, 0.2249, 0.0415],\n",
            "        [0.0341, 0.7607, 0.9446]], dtype=torch.float64)\n",
            "float64\n"
          ],
          "name": "stdout"
        }
      ]
    },
    {
      "cell_type": "markdown",
      "metadata": {
        "id": "b81cLukfPSo4"
      },
      "source": [
        "#### 1.4.3 텐서 타입과 크기\n",
        "- torch.Tensor 생성자를 사용할 째 기본 텐서 타입은 torch.FloatTensor\n",
        "- `타입 캐스팅`을 사용해 타입 변경 가능\n",
        "- `특정 텐서 타입 생성자 직접 호출`, `dtype` 사용\n",
        "- `shape`니 `size()`로 텐서의 차원 확인\n"
      ]
    },
    {
      "cell_type": "markdown",
      "metadata": {
        "id": "hIXqdyjGP_o-"
      },
      "source": [
        "#### 1.4.4 텐서 연산\n",
        "- `view` 메서드를 사용하면 원소의 순서를 유지하면서 텐서의 차원을 자유롭게 바꿀 수 있습니다."
      ]
    },
    {
      "cell_type": "code",
      "metadata": {
        "colab": {
          "base_uri": "https://localhost:8080/"
        },
        "id": "RGjAG_nfW8mc",
        "outputId": "920c72c6-ea24-471a-e3b7-fc21caf9b367"
      },
      "source": [
        "x = torch.arange(0, 20)\n",
        "\n",
        "print(x.view(1, 20))\n",
        "print(x.view(2, 10))\n",
        "print(x.view(4, 5))"
      ],
      "execution_count": 24,
      "outputs": [
        {
          "output_type": "stream",
          "text": [
            "tensor([[ 0,  1,  2,  3,  4,  5,  6,  7,  8,  9, 10, 11, 12, 13, 14, 15, 16, 17,\n",
            "         18, 19]])\n",
            "tensor([[ 0,  1,  2,  3,  4,  5,  6,  7,  8,  9],\n",
            "        [10, 11, 12, 13, 14, 15, 16, 17, 18, 19]])\n",
            "tensor([[ 0,  1,  2,  3,  4],\n",
            "        [ 5,  6,  7,  8,  9],\n",
            "        [10, 11, 12, 13, 14],\n",
            "        [15, 16, 17, 18, 19]])\n"
          ],
          "name": "stdout"
        }
      ]
    },
    {
      "cell_type": "markdown",
      "metadata": {
        "id": "j7eV15erXA7k"
      },
      "source": [
        "- 뷰를 사용하여 크기가 1인 차원을 추가할 수 있습니다. 이렇게 하면 다른 텐서와 연산할 때 브로드캐스팅을 활용할 수 있습니다."
      ]
    },
    {
      "cell_type": "code",
      "metadata": {
        "colab": {
          "base_uri": "https://localhost:8080/"
        },
        "id": "WQkUkEMhXEXk",
        "outputId": "aa06a687-863e-4ec2-a69d-0d0acc0fdc66"
      },
      "source": [
        "x = torch.arange(12).view(3, 4)\n",
        "y = torch.arange(4).view(1, 4)\n",
        "\n",
        "print(x)\n",
        "print(y)\n",
        "print(x + y)"
      ],
      "execution_count": 26,
      "outputs": [
        {
          "output_type": "stream",
          "text": [
            "tensor([[ 0,  1,  2,  3],\n",
            "        [ 4,  5,  6,  7],\n",
            "        [ 8,  9, 10, 11]])\n",
            "tensor([[0, 1, 2, 3]])\n",
            "tensor([[ 0,  2,  4,  6],\n",
            "        [ 4,  6,  8, 10],\n",
            "        [ 8, 10, 12, 14]])\n"
          ],
          "name": "stdout"
        }
      ]
    },
    {
      "cell_type": "markdown",
      "metadata": {
        "id": "tetFpp7nXIJ9"
      },
      "source": [
        "- unsqueeze와 squeeze는 크기가 1인 차원을 추가하고 삭제합니다."
      ]
    },
    {
      "cell_type": "code",
      "metadata": {
        "colab": {
          "base_uri": "https://localhost:8080/"
        },
        "id": "aPIgDKhyXHrT",
        "outputId": "bad93c50-b2db-4609-cac3-9e1ac29111a0"
      },
      "source": [
        "x = torch.arange(12).view(3, 4)\n",
        "print(x.shape)\n",
        "\n",
        "x = x.unsqueeze(dim=1)\n",
        "print(x.shape)\n",
        "\n",
        "x = x.squeeze()\n",
        "print(x.shape)"
      ],
      "execution_count": 27,
      "outputs": [
        {
          "output_type": "stream",
          "text": [
            "torch.Size([3, 4])\n",
            "torch.Size([3, 1, 4])\n",
            "torch.Size([3, 4])\n"
          ],
          "name": "stdout"
        }
      ]
    },
    {
      "cell_type": "markdown",
      "metadata": {
        "id": "HXZnF24EXOV8"
      },
      "source": [
        "- 표준 수학 연산을 모두 지원합니다(예를 들어 add)."
      ]
    },
    {
      "cell_type": "code",
      "metadata": {
        "colab": {
          "base_uri": "https://localhost:8080/"
        },
        "id": "HoLAiZR6QEL2",
        "outputId": "d8e32ed2-e89b-4da7-a702-38f274609ed2"
      },
      "source": [
        "x = torch.randn(2, 3)\n",
        "describe(x)\n",
        "\n",
        "describe(torch.add(x, x))\n",
        "\n",
        "describe(x + x)\n",
        "# 인플레이스 연산\n",
        "print(x.add_(x))"
      ],
      "execution_count": 28,
      "outputs": [
        {
          "output_type": "stream",
          "text": [
            "타입: torch.FloatTensor\n",
            "크기: torch.Size([2, 3])\n",
            "값: \n",
            "tensor([[-1.3670, -0.6722, -1.6764],\n",
            "        [ 0.8515,  1.3238,  0.5128]])\n",
            "타입: torch.FloatTensor\n",
            "크기: torch.Size([2, 3])\n",
            "값: \n",
            "tensor([[-2.7340, -1.3445, -3.3529],\n",
            "        [ 1.7029,  2.6475,  1.0255]])\n",
            "타입: torch.FloatTensor\n",
            "크기: torch.Size([2, 3])\n",
            "값: \n",
            "tensor([[-2.7340, -1.3445, -3.3529],\n",
            "        [ 1.7029,  2.6475,  1.0255]])\n",
            "tensor([[-2.7340, -1.3445, -3.3529],\n",
            "        [ 1.7029,  2.6475,  1.0255]])\n"
          ],
          "name": "stdout"
        }
      ]
    },
    {
      "cell_type": "markdown",
      "metadata": {
        "id": "nLhzml88Xeo7"
      },
      "source": [
        "- 차원을 줄이는 연산이 많이 있습니다. 예를 들면 `sum`입니다."
      ]
    },
    {
      "cell_type": "code",
      "metadata": {
        "colab": {
          "base_uri": "https://localhost:8080/"
        },
        "id": "KJoGWnURXlR8",
        "outputId": "c02a021b-ada4-4435-862a-73c01951409e"
      },
      "source": [
        "x = torch.arange(12).reshape(3, 4)\n",
        "print(\"x: \\n\", x)\n",
        "print(\"---\")\n",
        "print(\"행을 따라 덧셈 (dim=0): \\n\", x.sum(dim=0))\n",
        "print(\"---\")\n",
        "print(\"열을 따라 덧셈 (dim=1): \\n\", x.sum(dim=1))"
      ],
      "execution_count": 29,
      "outputs": [
        {
          "output_type": "stream",
          "text": [
            "x: \n",
            " tensor([[ 0,  1,  2,  3],\n",
            "        [ 4,  5,  6,  7],\n",
            "        [ 8,  9, 10, 11]])\n",
            "---\n",
            "행을 따라 덧셈 (dim=0): \n",
            " tensor([12, 15, 18, 21])\n",
            "---\n",
            "열을 따라 덧셈 (dim=1): \n",
            " tensor([ 6, 22, 38])\n"
          ],
          "name": "stdout"
        }
      ]
    },
    {
      "cell_type": "markdown",
      "metadata": {
        "id": "EsYjLBb9lSwh"
      },
      "source": [
        "#### 1.4.5 인덱싱, 슬라이싱, 연결"
      ]
    },
    {
      "cell_type": "code",
      "metadata": {
        "colab": {
          "base_uri": "https://localhost:8080/"
        },
        "id": "Bpn8S-ypl1dt",
        "outputId": "cf5233e5-58f8-4b1a-84a7-e0f7e1b67e40"
      },
      "source": [
        "x = torch.arange(6).view(2, 3)\n",
        "print(\"x: \\n\", x)\n",
        "print(\"---\")\n",
        "print(\"x[:2, :2]: \\n\", x[:2, :2])\n",
        "print(\"---\")\n",
        "print(\"x[0][1]: \\n\", x[0][1])\n",
        "print(\"---\")\n",
        "print(\"[0][1]에 8을 할당\")\n",
        "x[0][1] = 8\n",
        "print(x)"
      ],
      "execution_count": 21,
      "outputs": [
        {
          "output_type": "stream",
          "text": [
            "x: \n",
            " tensor([[0, 1, 2],\n",
            "        [3, 4, 5]])\n",
            "---\n",
            "x[:2, :2]: \n",
            " tensor([[0, 1],\n",
            "        [3, 4]])\n",
            "---\n",
            "x[0][1]: \n",
            " tensor(1)\n",
            "---\n",
            "[0][1]에 8을 할당\n",
            "tensor([[0, 8, 2],\n",
            "        [3, 4, 5]])\n"
          ],
          "name": "stdout"
        }
      ]
    },
    {
      "cell_type": "markdown",
      "metadata": {
        "id": "mIW7Hx5FXoIL"
      },
      "source": [
        "- index_select을 사용해 텐서의 원소를 선택할 수 있습니다."
      ]
    },
    {
      "cell_type": "code",
      "metadata": {
        "colab": {
          "base_uri": "https://localhost:8080/"
        },
        "id": "rzaqEDH8Wqld",
        "outputId": "8b0f3472-73fa-4488-e1e1-07a035fa1471"
      },
      "source": [
        "x = torch.arange(9).view(3,3)\n",
        "print(x)\n",
        "\n",
        "print(\"---\")\n",
        "indices = torch.LongTensor([0, 2])\n",
        "print(torch.index_select(x, dim=0, index=indices))\n",
        "\n",
        "print(\"---\")\n",
        "indices = torch.LongTensor([0, 2])\n",
        "print(torch.index_select(x, dim=1, index=indices))"
      ],
      "execution_count": 30,
      "outputs": [
        {
          "output_type": "stream",
          "text": [
            "tensor([[0, 1, 2],\n",
            "        [3, 4, 5],\n",
            "        [6, 7, 8]])\n",
            "---\n",
            "tensor([[0, 1, 2],\n",
            "        [6, 7, 8]])\n",
            "---\n",
            "tensor([[0, 2],\n",
            "        [3, 5],\n",
            "        [6, 8]])\n"
          ],
          "name": "stdout"
        }
      ]
    },
    {
      "cell_type": "markdown",
      "metadata": {
        "id": "Iv54Usqsm3JA"
      },
      "source": [
        "- 텐서 연결"
      ]
    },
    {
      "cell_type": "code",
      "metadata": {
        "colab": {
          "base_uri": "https://localhost:8080/"
        },
        "id": "jRkQQh3Zx8aS",
        "outputId": "92d62e7f-944c-496f-81e7-050e196307a3"
      },
      "source": [
        "torch.cat([x, x], dim=0)"
      ],
      "execution_count": null,
      "outputs": [
        {
          "output_type": "execute_result",
          "data": {
            "text/plain": [
              "tensor([[0, 1, 2],\n",
              "        [3, 4, 5],\n",
              "        [0, 1, 2],\n",
              "        [3, 4, 5]])"
            ]
          },
          "metadata": {
            "tags": []
          },
          "execution_count": 13
        }
      ]
    },
    {
      "cell_type": "code",
      "metadata": {
        "colab": {
          "base_uri": "https://localhost:8080/"
        },
        "id": "WKF-oMt7ykqJ",
        "outputId": "75aa8505-7931-436c-8ab8-6c2c013a6907"
      },
      "source": [
        "torch.cat([x, x], dim=1)"
      ],
      "execution_count": null,
      "outputs": [
        {
          "output_type": "execute_result",
          "data": {
            "text/plain": [
              "tensor([[0, 1, 2, 0, 1, 2],\n",
              "        [3, 4, 5, 3, 4, 5]])"
            ]
          },
          "metadata": {
            "tags": []
          },
          "execution_count": 14
        }
      ]
    },
    {
      "cell_type": "code",
      "metadata": {
        "colab": {
          "base_uri": "https://localhost:8080/"
        },
        "id": "MkBsFjKqypn6",
        "outputId": "b43926af-0322-4d3c-ca06-87bcc63982dd"
      },
      "source": [
        "torch.stack([x, x])"
      ],
      "execution_count": null,
      "outputs": [
        {
          "output_type": "execute_result",
          "data": {
            "text/plain": [
              "tensor([[[0, 1, 2],\n",
              "         [3, 4, 5]],\n",
              "\n",
              "        [[0, 1, 2],\n",
              "         [3, 4, 5]]])"
            ]
          },
          "metadata": {
            "tags": []
          },
          "execution_count": 15
        }
      ]
    },
    {
      "cell_type": "markdown",
      "metadata": {
        "id": "3LoYJcrwyuMR"
      },
      "source": [
        "- 선형 대수 연산\n",
        "- 전치"
      ]
    },
    {
      "cell_type": "code",
      "metadata": {
        "colab": {
          "base_uri": "https://localhost:8080/"
        },
        "id": "WI6LsoGPzUkZ",
        "outputId": "20ba4c63-c41e-42ba-b1ab-c9c8ee2a6ded"
      },
      "source": [
        "x = torch.arange(0, 12).view(3,4)\n",
        "print(\"x: \\n\", x) \n",
        "print(\"---\")\n",
        "print(\"x.tranpose(1, 0): \\n\", x.transpose(1, 0))"
      ],
      "execution_count": 31,
      "outputs": [
        {
          "output_type": "stream",
          "text": [
            "x: \n",
            " tensor([[ 0,  1,  2,  3],\n",
            "        [ 4,  5,  6,  7],\n",
            "        [ 8,  9, 10, 11]])\n",
            "---\n",
            "x.tranpose(1, 0): \n",
            " tensor([[ 0,  4,  8],\n",
            "        [ 1,  5,  9],\n",
            "        [ 2,  6, 10],\n",
            "        [ 3,  7, 11]])\n"
          ],
          "name": "stdout"
        }
      ]
    },
    {
      "cell_type": "code",
      "metadata": {
        "colab": {
          "base_uri": "https://localhost:8080/"
        },
        "id": "bNOTIyuvy-4K",
        "outputId": "90271488-d21c-48f8-c76b-603a5f3ef090"
      },
      "source": [
        "torch.mm(x1, x2)"
      ],
      "execution_count": null,
      "outputs": [
        {
          "output_type": "execute_result",
          "data": {
            "text/plain": [
              "tensor([[ 3.,  6.],\n",
              "        [12., 24.]])"
            ]
          },
          "metadata": {
            "tags": []
          },
          "execution_count": 33
        }
      ]
    },
    {
      "cell_type": "markdown",
      "metadata": {
        "id": "0wz2KMQ40BtK"
      },
      "source": [
        "#### 1.4.6 텐서와 계산그래프\n",
        "- requires_grad = True로 지정하면 gradient 기반 학습에 필요한 손실 함수와 tensor의 gradient를 기록하는 부가 연산을 활성화한다."
      ]
    },
    {
      "cell_type": "code",
      "metadata": {
        "colab": {
          "base_uri": "https://localhost:8080/"
        },
        "id": "U6j1mMSrzB2i",
        "outputId": "433f78e4-c8dd-49a3-b66c-63a1029fa3f8"
      },
      "source": [
        "x = torch.ones(2, 2, requires_grad= True)\n",
        "print(x)\n",
        "print(x.grad is None)"
      ],
      "execution_count": null,
      "outputs": [
        {
          "output_type": "stream",
          "text": [
            "tensor([[1., 1.],\n",
            "        [1., 1.]], requires_grad=True)\n",
            "True\n"
          ],
          "name": "stdout"
        }
      ]
    },
    {
      "cell_type": "code",
      "metadata": {
        "colab": {
          "base_uri": "https://localhost:8080/"
        },
        "id": "0RD99pQ70fZs",
        "outputId": "8e523b7d-17b7-4bbe-c246-f5e4a286ba9e"
      },
      "source": [
        "y = (x+2) * (x+5) +3\n",
        "print(y)\n",
        "print(x.grad is None)"
      ],
      "execution_count": null,
      "outputs": [
        {
          "output_type": "stream",
          "text": [
            "tensor([[21., 21.],\n",
            "        [21., 21.]], grad_fn=<AddBackward0>)\n",
            "True\n"
          ],
          "name": "stdout"
        }
      ]
    },
    {
      "cell_type": "code",
      "metadata": {
        "colab": {
          "base_uri": "https://localhost:8080/"
        },
        "id": "d3-TRS_b0oYe",
        "outputId": "10e4e1f0-e82d-4ae3-d14d-55e7600cc874"
      },
      "source": [
        "z = y.mean()\n",
        "print(z)\n",
        "z.backward()\n",
        "print(x.grad is None)"
      ],
      "execution_count": null,
      "outputs": [
        {
          "output_type": "stream",
          "text": [
            "tensor(21., grad_fn=<MeanBackward0>)\n",
            "False\n"
          ],
          "name": "stdout"
        }
      ]
    },
    {
      "cell_type": "markdown",
      "metadata": {
        "id": "5yPjHM2n0_T4"
      },
      "source": [
        "#### 1.4.7 CUDA tensor\n",
        "- 지금까지 tensor를 CPU 메모리에 할당함, CPU가 있다면 선형대수연산을 수행할 떄 되도록 사용 권장\n",
        "- GPU를 사용하려면 먼저 tensor를 GPU에 할당해야 함\n",
        "- CUDA API를 사용해서 GPU 활용 가능: NVIDIA GPU에서만 사용\n",
        "- torch.cuda.is_available()로 GPU 사용 가능 확인\n",
        "- torch.device()로 장치 이름 가져오고, .to(device)를 사용해 향후 초기화되는 모든 텐서를 target 장치로 이동\n",
        "- GPU로 데이터를 넣고 꺼내는 작업은 비용이 많이 든다.\n",
        "\n"
      ]
    }
  ]
}
