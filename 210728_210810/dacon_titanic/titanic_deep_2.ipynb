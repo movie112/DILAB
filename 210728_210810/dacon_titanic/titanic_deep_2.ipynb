{
  "nbformat": 4,
  "nbformat_minor": 0,
  "metadata": {
    "colab": {
      "name": "titanic_deep_2.ipynb",
      "provenance": [],
      "mount_file_id": "1hGv1FGX8WXfahUzO3DoeNkR1q9HWnoYm",
      "authorship_tag": "ABX9TyNdNo36BFPDiN92EPnYLxRT",
      "include_colab_link": true
    },
    "kernelspec": {
      "name": "python3",
      "display_name": "Python 3"
    },
    "language_info": {
      "name": "python"
    }
  },
  "cells": [
    {
      "cell_type": "markdown",
      "metadata": {
        "id": "view-in-github",
        "colab_type": "text"
      },
      "source": [
        "<a href=\"https://colab.research.google.com/github/movie112/INU-DILAB/blob/main/dacon/titanic/titanic_deep_2.ipynb\" target=\"_parent\"><img src=\"https://colab.research.google.com/assets/colab-badge.svg\" alt=\"Open In Colab\"/></a>"
      ]
    },
    {
      "cell_type": "markdown",
      "metadata": {
        "id": "5fWtxLug2H-4"
      },
      "source": [
        "# [재난] 타이타닉: 누가 살아남았을까?   \n",
        "- 참고: [blog_Titanic 생존자 예측 심화편#2](https://blog.naver.com/fkdldjs60/221925696786)\n",
        "- ML model의 parameter 값 설정\n",
        "  - 파라미터 값에 따라 ML 성능 변화\n",
        "---\n",
        "최적의 parameter 찾는 방법\n",
        "- Grid Search 방법\n",
        "  - 파라미터 값을 임의의 값들로 묶어 모든 경우의 수로 조합\n",
        "  - 빠름\n",
        "- Random Search 방법\n",
        "  - 파라미터 값을 일정 범위로 설정해 무작위로 조합\n",
        "  - 더 좋은 파라미터 도출하지만 시간 소요"
      ]
    },
    {
      "cell_type": "code",
      "metadata": {
        "id": "k3guOqwJ4DkU"
      },
      "source": [
        "import pandas as pd\n",
        "import seaborn as sns"
      ],
      "execution_count": 3,
      "outputs": []
    },
    {
      "cell_type": "code",
      "metadata": {
        "colab": {
          "base_uri": "https://localhost:8080/"
        },
        "id": "PV3YcRlN4Hbn",
        "outputId": "e5da04b8-f9ab-4ce4-fb1e-b7d8f9bff075"
      },
      "source": [
        "cd drive/MyDrive/data/titanic"
      ],
      "execution_count": 4,
      "outputs": [
        {
          "output_type": "stream",
          "text": [
            "/content/drive/MyDrive/data/titanic\n"
          ],
          "name": "stdout"
        }
      ]
    },
    {
      "cell_type": "code",
      "metadata": {
        "id": "nDvsG42R4JRI"
      },
      "source": [
        "train = pd.read_csv('train.csv')\n",
        "test = pd.read_csv('test.csv')"
      ],
      "execution_count": 5,
      "outputs": []
    },
    {
      "cell_type": "code",
      "metadata": {
        "id": "8hXoANik4Naq"
      },
      "source": [
        "train['Sex_encode'] = train['Sex'].replace('male', 0).replace('female', 1)\n",
        "test['Sex_encode'] = train['Sex'].replace('male', 0).replace('female', 1)"
      ],
      "execution_count": 6,
      "outputs": []
    },
    {
      "cell_type": "code",
      "metadata": {
        "id": "VcZPySCX4OlC"
      },
      "source": [
        "train['Embarked_Q'] = train['Embarked'] == 'Q'\n",
        "train['Embarked_S'] = train['Embarked'] == 'S'\n",
        "train['Embarked_C'] = train['Embarked'] == 'C'"
      ],
      "execution_count": 7,
      "outputs": []
    },
    {
      "cell_type": "code",
      "metadata": {
        "id": "i7Uk2mwY4RGa"
      },
      "source": [
        "test['Embarked_Q'] = test['Embarked'] == 'Q'\n",
        "test['Embarked_S'] = test['Embarked'] == 'S'\n",
        "test['Embarked_C'] = test['Embarked'] == 'C'"
      ],
      "execution_count": 8,
      "outputs": []
    },
    {
      "cell_type": "code",
      "metadata": {
        "id": "KRiYcXyU4Sg4"
      },
      "source": [
        "test['Family'] = test['SibSp'] + test['Parch'] +1\n",
        "train['Family'] = train['SibSp'] + train['Parch'] +1"
      ],
      "execution_count": 9,
      "outputs": []
    },
    {
      "cell_type": "code",
      "metadata": {
        "id": "1uBbvZ_w4WZ0"
      },
      "source": [
        "def Family_type(Family):\n",
        "  if Family == 1:\n",
        "    return 'Single'\n",
        "  elif Family > 1 and Family < 5:\n",
        "    return 'Nuclear'\n",
        "  else:\n",
        "    return 'Big'"
      ],
      "execution_count": 10,
      "outputs": []
    },
    {
      "cell_type": "code",
      "metadata": {
        "id": "NqLjfI2X4Yh1"
      },
      "source": [
        "train['Family_type'] = train['Family'].apply(Family_type)\n",
        "test['Family_type'] = test['Family'].apply(Family_type)"
      ],
      "execution_count": 11,
      "outputs": []
    },
    {
      "cell_type": "code",
      "metadata": {
        "id": "qarcbQKX4aaY"
      },
      "source": [
        "train['Single'] = train['Family_type'] == 'Single'\n",
        "train['Nuclear'] = train['Family_type'] == 'Nuclear'\n",
        "train['Big'] = train['Family_type'] == 'Big'\n",
        "test['Single'] = test['Family_type'] == 'Single'\n",
        "test['Nuclear'] = test['Family_type'] == 'Nuclear'\n",
        "test['Big'] = test['Family_type'] == 'Big'"
      ],
      "execution_count": 12,
      "outputs": []
    },
    {
      "cell_type": "code",
      "metadata": {
        "id": "JVQsqEHZ4eQ-"
      },
      "source": [
        "test['Fare'] = test['Fare'].fillna(0)"
      ],
      "execution_count": 13,
      "outputs": []
    },
    {
      "cell_type": "code",
      "metadata": {
        "id": "H4Tw7Y2r4gYq"
      },
      "source": [
        "features = ['Pclass', 'Sex_encode', 'Embarked_Q', 'Embarked_S', 'Embarked_C', 'Single', 'Nuclear', 'Big']"
      ],
      "execution_count": 14,
      "outputs": []
    },
    {
      "cell_type": "code",
      "metadata": {
        "id": "2MOyOyQV4hcz"
      },
      "source": [
        "x_train=train[features]\n",
        "x_test=test[features]\n",
        "y_train=train['Survived']"
      ],
      "execution_count": 15,
      "outputs": []
    },
    {
      "cell_type": "markdown",
      "metadata": {
        "id": "A5LzVUXr3LL2"
      },
      "source": [
        "#### Grid Search\n",
        "- 조합할 파라미터 값의 후보군 설정\n",
        "  - max_depth[후보 값들]"
      ]
    },
    {
      "cell_type": "code",
      "metadata": {
        "colab": {
          "base_uri": "https://localhost:8080/"
        },
        "id": "4WNT_olv2Glz",
        "outputId": "236aa5cc-7c3b-44e4-df3e-b68f4e703cb7"
      },
      "source": [
        "from sklearn.tree import DecisionTreeClassifier\n",
        "from sklearn.model_selection import GridSearchCV\n",
        "parameters = {\n",
        "    'max_depth':[1, 2, 3, 4, 5, 6, 7, 8, 9, 10],\n",
        "    'max_features':[0.1, 0.2, 0.3, 0.4, 0.5, 0.6, 0.7, 0.8, 0.9, 1.0],\n",
        "}\n",
        "GS = GridSearchCV(DecisionTreeClassifier(), param_grid = parameters, cv=10, scoring = 'accuracy')\n",
        "GS.fit(x_train, y_train)"
      ],
      "execution_count": 20,
      "outputs": [
        {
          "output_type": "execute_result",
          "data": {
            "text/plain": [
              "GridSearchCV(cv=10, error_score=nan,\n",
              "             estimator=DecisionTreeClassifier(ccp_alpha=0.0, class_weight=None,\n",
              "                                              criterion='gini', max_depth=None,\n",
              "                                              max_features=None,\n",
              "                                              max_leaf_nodes=None,\n",
              "                                              min_impurity_decrease=0.0,\n",
              "                                              min_impurity_split=None,\n",
              "                                              min_samples_leaf=1,\n",
              "                                              min_samples_split=2,\n",
              "                                              min_weight_fraction_leaf=0.0,\n",
              "                                              presort='deprecated',\n",
              "                                              random_state=None,\n",
              "                                              splitter='best'),\n",
              "             iid='deprecated', n_jobs=None,\n",
              "             param_grid={'max_depth': [1, 2, 3, 4, 5, 6, 7, 8, 9, 10],\n",
              "                         'max_features': [0.1, 0.2, 0.3, 0.4, 0.5, 0.6, 0.7,\n",
              "                                          0.8, 0.9, 1.0]},\n",
              "             pre_dispatch='2*n_jobs', refit=True, return_train_score=False,\n",
              "             scoring='accuracy', verbose=0)"
            ]
          },
          "metadata": {
            "tags": []
          },
          "execution_count": 20
        }
      ]
    },
    {
      "cell_type": "markdown",
      "metadata": {
        "id": "ajAgHXyr4uYb"
      },
      "source": [
        "#### 후보 중 best 파라미터 값 출력: .best_params_"
      ]
    },
    {
      "cell_type": "code",
      "metadata": {
        "colab": {
          "base_uri": "https://localhost:8080/"
        },
        "id": "Ci3YlQNw5Ohd",
        "outputId": "74d56326-62f8-4fd7-b9ef-4256537a4304"
      },
      "source": [
        "GS.best_params_"
      ],
      "execution_count": 21,
      "outputs": [
        {
          "output_type": "execute_result",
          "data": {
            "text/plain": [
              "{'max_depth': 4, 'max_features': 0.6}"
            ]
          },
          "metadata": {
            "tags": []
          },
          "execution_count": 21
        }
      ]
    },
    {
      "cell_type": "code",
      "metadata": {
        "colab": {
          "base_uri": "https://localhost:8080/"
        },
        "id": "iBrBsqQt5cyJ",
        "outputId": "7f254ac2-4f57-4bbb-bce4-2cf9a25ef4aa"
      },
      "source": [
        "from sklearn.tree import DecisionTreeClassifier\n",
        "model = DecisionTreeClassifier(max_depth=3, max_features=0.8)\n",
        "model"
      ],
      "execution_count": 22,
      "outputs": [
        {
          "output_type": "execute_result",
          "data": {
            "text/plain": [
              "DecisionTreeClassifier(ccp_alpha=0.0, class_weight=None, criterion='gini',\n",
              "                       max_depth=3, max_features=0.8, max_leaf_nodes=None,\n",
              "                       min_impurity_decrease=0.0, min_impurity_split=None,\n",
              "                       min_samples_leaf=1, min_samples_split=2,\n",
              "                       min_weight_fraction_leaf=0.0, presort='deprecated',\n",
              "                       random_state=None, splitter='best')"
            ]
          },
          "metadata": {
            "tags": []
          },
          "execution_count": 22
        }
      ]
    },
    {
      "cell_type": "code",
      "metadata": {
        "colab": {
          "base_uri": "https://localhost:8080/"
        },
        "id": "MjOGPYso5m_3",
        "outputId": "1ba7617a-750c-414d-d7eb-5c8420ae1a7c"
      },
      "source": [
        "from sklearn.model_selection import cross_val_score\n",
        "score = cross_val_score(model, x_train, y_train, scoring = 'accuracy', cv=10).mean()\n",
        "score"
      ],
      "execution_count": 24,
      "outputs": [
        {
          "output_type": "execute_result",
          "data": {
            "text/plain": [
              "0.8103245942571785"
            ]
          },
          "metadata": {
            "tags": []
          },
          "execution_count": 24
        }
      ]
    },
    {
      "cell_type": "markdown",
      "metadata": {
        "id": "Wu8rj9kz5FYI"
      },
      "source": [
        "---\n",
        "## Ramdom Search\n",
        "- float 실수형에는 range 이용할 수 없어 uniform 이용\n"
      ]
    },
    {
      "cell_type": "code",
      "metadata": {
        "colab": {
          "base_uri": "https://localhost:8080/"
        },
        "id": "BtVpRUXXEF9K",
        "outputId": "dd009548-90a4-4fa8-ff80-b19991716482"
      },
      "source": [
        "from scipy import stats\n",
        "from sklearn.model_selection import RandomizedSearchCV\n",
        "parameters = {\n",
        "    'max_depth': range(2,10), \n",
        "    'max_features':stats.uniform(0.1, 1.0),\n",
        "}\n",
        "RS = RandomizedSearchCV(DecisionTreeClassifier(), param_distributions = parameters, cv = 10, scoring = 'accuracy', n_iter = 50)\n",
        "RS.fit(x_train, y_train)"
      ],
      "execution_count": 26,
      "outputs": [
        {
          "output_type": "execute_result",
          "data": {
            "text/plain": [
              "RandomizedSearchCV(cv=10, error_score=nan,\n",
              "                   estimator=DecisionTreeClassifier(ccp_alpha=0.0,\n",
              "                                                    class_weight=None,\n",
              "                                                    criterion='gini',\n",
              "                                                    max_depth=None,\n",
              "                                                    max_features=None,\n",
              "                                                    max_leaf_nodes=None,\n",
              "                                                    min_impurity_decrease=0.0,\n",
              "                                                    min_impurity_split=None,\n",
              "                                                    min_samples_leaf=1,\n",
              "                                                    min_samples_split=2,\n",
              "                                                    min_weight_fraction_leaf=0.0,\n",
              "                                                    presort='deprecated',\n",
              "                                                    random_state=None,\n",
              "                                                    splitter='best'),\n",
              "                   iid='deprecated', n_iter=50, n_jobs=None,\n",
              "                   param_distributions={'max_depth': range(2, 10),\n",
              "                                        'max_features': <scipy.stats._distn_infrastructure.rv_frozen object at 0x7f313233c490>},\n",
              "                   pre_dispatch='2*n_jobs', random_state=None, refit=True,\n",
              "                   return_train_score=False, scoring='accuracy', verbose=0)"
            ]
          },
          "metadata": {
            "tags": []
          },
          "execution_count": 26
        }
      ]
    },
    {
      "cell_type": "code",
      "metadata": {
        "colab": {
          "base_uri": "https://localhost:8080/"
        },
        "id": "hpFFg8_DGWTa",
        "outputId": "b155a9e2-07b1-429c-bbf2-16aca2d1c3ad"
      },
      "source": [
        "RS.best_params_"
      ],
      "execution_count": 27,
      "outputs": [
        {
          "output_type": "execute_result",
          "data": {
            "text/plain": [
              "{'max_depth': 4, 'max_features': 0.7086569491349372}"
            ]
          },
          "metadata": {
            "tags": []
          },
          "execution_count": 27
        }
      ]
    },
    {
      "cell_type": "code",
      "metadata": {
        "colab": {
          "base_uri": "https://localhost:8080/"
        },
        "id": "GVyPFY21GZnP",
        "outputId": "0f9a9676-49ef-44cf-c4e8-546fba1a1ed9"
      },
      "source": [
        "from sklearn.tree import DecisionTreeClassifier\n",
        "model = DecisionTreeClassifier(max_depth=4, max_features=0.7086)\n",
        "model"
      ],
      "execution_count": 28,
      "outputs": [
        {
          "output_type": "execute_result",
          "data": {
            "text/plain": [
              "DecisionTreeClassifier(ccp_alpha=0.0, class_weight=None, criterion='gini',\n",
              "                       max_depth=4, max_features=0.7086, max_leaf_nodes=None,\n",
              "                       min_impurity_decrease=0.0, min_impurity_split=None,\n",
              "                       min_samples_leaf=1, min_samples_split=2,\n",
              "                       min_weight_fraction_leaf=0.0, presort='deprecated',\n",
              "                       random_state=None, splitter='best')"
            ]
          },
          "metadata": {
            "tags": []
          },
          "execution_count": 28
        }
      ]
    },
    {
      "cell_type": "code",
      "metadata": {
        "colab": {
          "base_uri": "https://localhost:8080/"
        },
        "id": "ClLcTSZwGlMK",
        "outputId": "48110a15-2292-48a3-a05c-a4977e907e14"
      },
      "source": [
        "from sklearn.model_selection import cross_val_score\n",
        "score = cross_val_score(model, x_train, y_train, scoring = 'accuracy', cv=10).mean()\n",
        "score"
      ],
      "execution_count": 32,
      "outputs": [
        {
          "output_type": "execute_result",
          "data": {
            "text/plain": [
              "0.8058676654182271"
            ]
          },
          "metadata": {
            "tags": []
          },
          "execution_count": 32
        }
      ]
    }
  ]
}
