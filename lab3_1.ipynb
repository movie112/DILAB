{
  "nbformat": 4,
  "nbformat_minor": 0,
  "metadata": {
    "colab": {
      "name": "lab3_1.ipynb",
      "provenance": [],
      "authorship_tag": "ABX9TyN+tObuKtrahi1xJhulNOit",
      "include_colab_link": true
    },
    "kernelspec": {
      "name": "python3",
      "display_name": "Python 3"
    },
    "language_info": {
      "name": "python"
    }
  },
  "cells": [
    {
      "cell_type": "markdown",
      "metadata": {
        "id": "view-in-github",
        "colab_type": "text"
      },
      "source": [
        "<a href=\"https://colab.research.google.com/github/movie112/INU-DILAB/blob/main/lab3_1.ipynb\" target=\"_parent\"><img src=\"https://colab.research.google.com/assets/colab-badge.svg\" alt=\"Open In Colab\"/></a>"
      ]
    },
    {
      "cell_type": "markdown",
      "metadata": {
        "id": "GG138_OHYNJv"
      },
      "source": [
        "# 3강_1: Audio Classification & Tagging\n",
        "## contents\n",
        "- audio auto-tagging\n",
        "---\n",
        "## audio auto- tagging\n",
        "\n",
        "<img src=\"https://storage.googleapis.com/kaggle-media/competitions/freesound/task2_freesound_audio_tagging.png\" width=\"500px\" height=\"300px\"></img>\n",
        "- user의 맥락을 이해할 때 좋은 supervision을 줌\n",
        "- 일상 속 다양한 소리 중 무엇을 사용할 것인지가 중요\n",
        "- multi-label인 output이 어떻게 나와야 풀기 쉬울까?\n",
        "\n",
        "#### 평가\n",
        "- label-wighted label-ranking average precision(레이블 가중치 레이블 순위 평균 정밀도)\n",
        "  - 모든 테스트 클립에 대한 오디오 레이블을 예측하는 것으로 구성\n",
        "  - 각 test data에 대해 관련 레이블의 순위가 매겨진 목록을 검색하는 평균 정밀도 측정(즉, 시스템은 사용 가능한 모든 레이블의 순위를 매기고 순위가 메겨진 목록의 정밀도는 각 실제 레이블까지 평균화)\n",
        "  - 오직 이 레이블에 달려있는 애만 관심있음"
      ]
    },
    {
      "cell_type": "code",
      "metadata": {
        "id": "smmclG8PtcOY"
      },
      "source": [
        "import numpy as np\n",
        "\n",
        "def _one_sample_positive_class_precisions(scores, truth):  \n",
        "    num_classes = scores.shape[0]\n",
        "    pos_class_indices = np.flatnonzero(truth > 0)\n",
        "    if not len(pos_class_indices):\n",
        "        return pos_class_indices, np.zeros(0)\n",
        "    retrieved_classes = np.argsort(scores)[::-1]\n",
        "    class_rankings = np.zeros(num_classes, dtype=np.int)\n",
        "    class_rankings[retrieved_classes] = range(num_classes)\n",
        "    retrieved_class_true = np.zeros(num_classes, dtype=np.bool)\n",
        "    retrieved_class_true[class_rankings[pos_class_indices]] = True\n",
        "    retrieved_cumulative_hits = np.cumsum(retrieved_class_true)\n",
        "    precision_at_hits = (\n",
        "            retrieved_cumulative_hits[class_rankings[pos_class_indices]] /\n",
        "            (1 + class_rankings[pos_class_indices].astype(np.float)))\n",
        "    return pos_class_indices, precision_at_hits"
      ],
      "execution_count": null,
      "outputs": []
    },
    {
      "cell_type": "code",
      "metadata": {
        "colab": {
          "base_uri": "https://localhost:8080/"
        },
        "id": "Z8JmAMcTsArs",
        "outputId": "2f1ff030-3f4f-4923-8203-7d5bd8193aaa"
      },
      "source": [
        "# 강아지소리/고양이/싸우는 3가지 class 있다고 가정\n",
        "y_true = np.array([1, 0, 0])  # 강아지 소리에만 labeling\n",
        "y_score = np.array([0.7, 0.1, 0.2]) # 강아지들이 싸우는 소리 -> 우리는 오직 강아지소리에 대한 label 값만 관심\n",
        "pos_class_indices, precision_at_hits = _one_sample_positive_class_precisions(y_score, y_true)\n",
        "print(\"Correct answer label\", pos_class_indices)\n",
        "print(\"Score\", precision_at_hits)   # 몇 순위인가"
      ],
      "execution_count": null,
      "outputs": [
        {
          "output_type": "stream",
          "text": [
            "Correct answer label [0]\n",
            "Score [1.]\n"
          ],
          "name": "stdout"
        }
      ]
    },
    {
      "cell_type": "code",
      "metadata": {
        "colab": {
          "base_uri": "https://localhost:8080/"
        },
        "id": "hiCBn4ZQWqqK",
        "outputId": "a6006cd6-a514-40ce-ae71-b3dbe0b51b01"
      },
      "source": [
        "y_true = np.array([1, 0, 0])\n",
        "y_score = np.array([0.1, 0.7, 0.2])\n",
        "pos_class_indices, precision_at_hits = _one_sample_positive_class_precisions(y_score, y_true)\n",
        "print(\"Correct answer label\", pos_class_indices)\n",
        "print(\"Score\", precision_at_hits)"
      ],
      "execution_count": null,
      "outputs": [
        {
          "output_type": "stream",
          "text": [
            "Correct answer label [0]\n",
            "Score [0.33333333]\n"
          ],
          "name": "stdout"
        }
      ]
    },
    {
      "cell_type": "markdown",
      "metadata": {
        "id": "OV7PkDzpwAko"
      },
      "source": [
        "#### Step\n",
        "1. audio representations: 잘 정의된 feature space 생성  \n",
        "2. feature extraction\n",
        "3. classifier\n",
        "<img src=\"https://image.slidesharecdn.com/talalalsubaie-1220737011220266-9/95/pattern-recognition-26-728.jpg?cb=1220711852\" width=\"500px\" height=\"300px\"></img>\n",
        "\n",
        "## code\n",
        "[audio auto-tagging_colab](https://colab.research.google.com/drive/1nJ_s50MHWg2t6L3iNJXmMmMhhtA9wjul?usp=sharing#scrollTo=jAItoeNow2wc)"
      ]
    }
  ]
}