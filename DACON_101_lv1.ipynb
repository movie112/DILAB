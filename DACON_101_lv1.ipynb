{
  "nbformat": 4,
  "nbformat_minor": 0,
  "metadata": {
    "colab": {
      "name": " DACON_101_lv1.ipynb",
      "provenance": [],
      "collapsed_sections": [],
      "authorship_tag": "ABX9TyMaG2LaAqpyGBaChJjy+yi5",
      "include_colab_link": true
    },
    "kernelspec": {
      "name": "python3",
      "display_name": "Python 3"
    },
    "language_info": {
      "name": "python"
    }
  },
  "cells": [
    {
      "cell_type": "markdown",
      "metadata": {
        "id": "view-in-github",
        "colab_type": "text"
      },
      "source": [
        "<a href=\"https://colab.research.google.com/github/movie112/INU-DILAB/blob/main/DACON_101_lv1.ipynb\" target=\"_parent\"><img src=\"https://colab.research.google.com/assets/colab-badge.svg\" alt=\"Open In Colab\"/></a>"
      ]
    },
    {
      "cell_type": "markdown",
      "metadata": {
        "id": "d1EU87kMkveT"
      },
      "source": [
        "# DACON_101: 머신러닝이 처음이라면 🤔   \n",
        "🏃‍♀️ [데이터 다운로드] 부터 ️[대회 제출] 까지 🏃‍♂\n",
        "<https://dacon.io/competitions/open/235698/overview/description>\n",
        "\n",
        "---\n",
        "## Lv1. 의사결정회귀나무로 따릉이 데이터 예측하기\n",
        "### - EDA -\n",
        "#### EDA 1/5 라이브러리불러오기(import)\n",
        "- 데이터를 분석하기 위해 불러오고, 조작하는 등 핸들링을 하려면 도구 필요\n",
        "- 대표적으로 pandas, numpy, matplotlib 등 "
      ]
    },
    {
      "cell_type": "code",
      "metadata": {
        "id": "mkkkjvRzlHA6"
      },
      "source": [
        "import [라이브러리] as [사용할이름]"
      ],
      "execution_count": null,
      "outputs": []
    },
    {
      "cell_type": "markdown",
      "metadata": {
        "id": "HKDixAnblTfq"
      },
      "source": [
        "#### EDA 2/5 파일 불러오기(read_csv)\n",
        "- 데이터 파일(csv 파일)을 불러오기 위해서는 pandas 라이브러리를 이용\n",
        "- 약어로 지정한 pd를 사용하여 read_csv함수를 통해 csv 파일을 불러옴\n",
        "- csv 파일을 pandas 라이브러리에서 제공하는 DataFrame 객체로 변환"
      ]
    },
    {
      "cell_type": "code",
      "metadata": {
        "id": "m7rZ64lclfub"
      },
      "source": [
        "import pandas as pd\n",
        "data = pd.read_csv('파일경로/파일이름.csv')"
      ],
      "execution_count": null,
      "outputs": []
    },
    {
      "cell_type": "markdown",
      "metadata": {
        "id": "t7B8zhFPlpyK"
      },
      "source": [
        "#### EDA 3/5 행열갯수관찰하기(shape)\n",
        "- 불러온 데이터의 행과 열의 갯수를 shape attribute 로 관찰"
      ]
    },
    {
      "cell_type": "code",
      "metadata": {
        "id": "erQmoDb7l0nv"
      },
      "source": [
        "[DataFrame 변수명].shape"
      ],
      "execution_count": null,
      "outputs": []
    },
    {
      "cell_type": "markdown",
      "metadata": {
        "id": "0MUAlhuQl4Oy"
      },
      "source": [
        "#### EDA 4/5 데이터 확인하기(head())\n",
        "- Pandas 라이브러리를 이용하여 데이터를 확인하는 방법은 여러 가지 존재, 그중 가장 대표적인 메서드 head()\n",
        "- head() 메서드는 데이터 전부를 보여주지 않고 데이터의 상단부분만 출력\n",
        "- tail() 메서드는 데이터의 하단 부분을 출력\n"
      ]
    },
    {
      "cell_type": "code",
      "metadata": {
        "id": "MLNysTbQmJ-i"
      },
      "source": [
        "train = pd.read_csv('data/train.csv')\n",
        "\n",
        "train.head() # train 데이터의 상단 5개 행 출력\n",
        "train.head(10) # train 데이터의 상단 10개 행 출력\n",
        "\n",
        "train.tail() # train 데이터의 하단 5개 행 출력\n",
        "train.tail(10) # train 데이터의 하단 10개 행 출력"
      ],
      "execution_count": null,
      "outputs": []
    },
    {
      "cell_type": "markdown",
      "metadata": {
        "id": "1uZpHiKwmSoa"
      },
      "source": [
        "#### EDA 5/5 결측치 확인하기(is_null() )\n",
        "- 결측치(Missing Value): 데이터에 값이 없는 것, (NA, NULL)\n",
        "- Pandas에서의 결측치: NaN\n",
        "- isnull() 메서드를 사용하면 DataFrame에서 NaN 값을 확인, 데이터가 NaN 값이면 True로, 그렇지 않으면 False로 값을 리턴"
      ]
    },
    {
      "cell_type": "code",
      "metadata": {
        "id": "mslDERGempsg"
      },
      "source": [
        "import pandas as pd\n",
        "import numpy as np\n",
        "\n",
        "df = pd.DataFrame({\n",
        "        'name': ['kwon', 'park', 'kim'],\n",
        "        'age':[30, np.nan, 19],\n",
        "        'class':[np.nan, np.nan, 1]\n",
        "})\n",
        "\n",
        "df.isnull()\n",
        "# df.isnull().sum()   -> 각 열 별 결측치의 수 확인"
      ],
      "execution_count": null,
      "outputs": []
    },
    {
      "cell_type": "markdown",
      "metadata": {
        "id": "LzjwVYN1ndQD"
      },
      "source": [
        "---\n",
        "### - 전처리 -\n",
        "#### 전처리 1/2 데이터결측치확인하기(info())\n",
        "- info() 매서드로 피쳐들의 결측치와 데이터 타입을 확인\n",
        "- 모델링에 앞서 결측치가 있다면, 결측치들을 어떻게 다뤄야할지 고민하고 처리하는 과정이 필요"
      ]
    },
    {
      "cell_type": "code",
      "metadata": {
        "id": "0A7iBUfgnbdz"
      },
      "source": [
        "df.info()"
      ],
      "execution_count": null,
      "outputs": []
    },
    {
      "cell_type": "markdown",
      "metadata": {
        "id": "UQShV8YTnuKb"
      },
      "source": [
        "#### 전처리 2/2 결측치삭제하기, 대체하기(dropna(), fillna())\n",
        "- dropna()로 결측치를 갖는 행을 DataFrame 객체에서 삭제\n",
        "- fillna()로 모든 결측치를 인자값으로 대체"
      ]
    },
    {
      "cell_type": "code",
      "metadata": {
        "id": "HabpsAFfn3gR"
      },
      "source": [
        "DataFrame.dropna()\n",
        "DataFrame.fillna()"
      ],
      "execution_count": null,
      "outputs": []
    }
  ]
}